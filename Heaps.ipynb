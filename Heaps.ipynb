{
 "cells": [
  {
   "cell_type": "markdown",
   "id": "5164cc58",
   "metadata": {},
   "source": [
    "01  \n",
    "https://leetcode.com/problems/kth-largest-element-in-an-array/description/"
   ]
  },
  {
   "cell_type": "code",
   "execution_count": 2,
   "id": "a99d4cb5",
   "metadata": {},
   "outputs": [],
   "source": [
    "# import heapq\n",
    "# class Solution:\n",
    "#     def findKthLargest(self, nums: List[int], k: int) -> int:\n",
    "#         # Use a min-heap of size k\n",
    "#         min_heap = nums[:k]\n",
    "#         heapq.heapify(min_heap)\n",
    "#         for num in nums[k:]:\n",
    "#             if num > min_heap[0]:\n",
    "#                 heapq.heappushpop(min_heap, num)\n",
    "#         return min_heap[0]"
   ]
  },
  {
   "cell_type": "code",
   "execution_count": null,
   "id": "941b524e",
   "metadata": {},
   "outputs": [],
   "source": [
    "# import heapq\n",
    "# class Solution:\n",
    "#     def findKthLargest(self, nums: List[int], k: int) -> int:\n",
    "#         return heapq.nlargest(k, nums)[-1]"
   ]
  },
  {
   "cell_type": "markdown",
   "id": "0c12eebc",
   "metadata": {},
   "source": [
    "02  \n",
    "https://leetcode.com/problems/merge-k-sorted-lists/description/"
   ]
  },
  {
   "cell_type": "code",
   "execution_count": null,
   "id": "d7b7b838",
   "metadata": {},
   "outputs": [],
   "source": [
    "# # Definition for singly-linked list.\n",
    "# # class ListNode:\n",
    "# #     def __init__(self, val=0, next=None):\n",
    "# #         self.val = val\n",
    "# #         self.next = next\n",
    "# import heapq\n",
    "# class Solution:\n",
    "#     def mergeKLists(self, lists: List[Optional[ListNode]]) -> Optional[ListNode]:\n",
    "#         # Define a heap\n",
    "#         heap = []\n",
    "#         # Populate the heap with the head node of each list (if not None)\n",
    "#         for i, node in enumerate(lists):\n",
    "#             if node:\n",
    "#                 # (value, unique_index, node) to avoid comparison issues\n",
    "#                 heapq.heappush(heap, (node.val, i, node))\n",
    "#         # Dummy head to build the result list\n",
    "#         dummy = ListNode(0)\n",
    "#         current = dummy\n",
    "#         while heap:\n",
    "#             val, i, node = heapq.heappop(heap)\n",
    "#             current.next = node\n",
    "#             current = current.next\n",
    "#             if node.next:\n",
    "#                 heapq.heappush(heap, (node.next.val, i, node.next))\n",
    "#         return dummy.next"
   ]
  }
 ],
 "metadata": {
  "kernelspec": {
   "display_name": ".venv",
   "language": "python",
   "name": "python3"
  },
  "language_info": {
   "codemirror_mode": {
    "name": "ipython",
    "version": 3
   },
   "file_extension": ".py",
   "mimetype": "text/x-python",
   "name": "python",
   "nbconvert_exporter": "python",
   "pygments_lexer": "ipython3",
   "version": "3.12.7"
  }
 },
 "nbformat": 4,
 "nbformat_minor": 5
}
