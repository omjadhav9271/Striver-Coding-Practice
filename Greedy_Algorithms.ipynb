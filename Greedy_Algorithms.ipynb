{
 "cells": [
  {
   "cell_type": "markdown",
   "metadata": {},
   "source": [
    "01  \n",
    "https://leetcode.com/problems/assign-cookies/description/"
   ]
  },
  {
   "cell_type": "code",
   "execution_count": 2,
   "metadata": {},
   "outputs": [],
   "source": [
    "# class Solution:\n",
    "#     def findContentChildren(self, g: List[int], s: List[int]) -> int:\n",
    "#         s.sort()\n",
    "#         g.sort()\n",
    "#         i,j=0,0\n",
    "#         count=0\n",
    "#         while i<len(g) and j<len(s):\n",
    "#             if g[i]<=s[j]:\n",
    "#                 count+=1\n",
    "#                 i+=1\n",
    "#             j+=1\n",
    "#         return count"
   ]
  },
  {
   "cell_type": "markdown",
   "metadata": {},
   "source": [
    "02  \n",
    "https://www.geeksforgeeks.org/problems/fractional-knapsack-1587115620/1"
   ]
  },
  {
   "cell_type": "code",
   "execution_count": null,
   "metadata": {},
   "outputs": [],
   "source": [
    "# class Solution:\n",
    "#     # Function to get the maximum total value in the knapsack.\n",
    "#     def fractionalknapsack(self, val, wt, capacity):\n",
    "#         #code here\n",
    "#         items=sorted(zip(val,wt),key=lambda x:x[0]/x[1],reverse=True)\n",
    "#         max_value=0.0\n",
    "#         for value,weight in items:\n",
    "#             if capacity >= weight:\n",
    "#                 max_value+=value\n",
    "#                 capacity-=weight\n",
    "#             else:\n",
    "#                 max_value+=capacity*(value/weight)\n",
    "#                 break\n",
    "#         return round(max_value,6)"
   ]
  },
  {
   "cell_type": "markdown",
   "metadata": {},
   "source": [
    "03  \n",
    "https://www.geeksforgeeks.org/problems/number-of-coins1824/1?itm_source=geeksforgeeks&itm_medium=article&itm_campaign=practice_card"
   ]
  },
  {
   "cell_type": "code",
   "execution_count": null,
   "metadata": {},
   "outputs": [],
   "source": [
    "# class Solution:\n",
    "# \tdef minCoins(self, coins, sum):\n",
    "# \t\t# code here\n",
    "# \t\tdp=[float('inf')]*(sum+1)\n",
    "# \t\tdp[0]=0\n",
    "# \t\tfor coin in coins:\n",
    "# \t\t    for i in range(coin,sum+1):\n",
    "# \t\t        dp[i]=min(dp[i],dp[i-coin]+1)\n",
    "# \t\treturn dp[sum] if dp[sum]!=float('inf') else -1"
   ]
  },
  {
   "cell_type": "markdown",
   "metadata": {},
   "source": [
    "04  \n",
    "https://leetcode.com/problems/lemonade-change/description/"
   ]
  },
  {
   "cell_type": "code",
   "execution_count": null,
   "metadata": {},
   "outputs": [],
   "source": [
    "# class Solution:\n",
    "#     def lemonadeChange(self, bills: List[int]) -> bool:\n",
    "#         fives,tens=0,0\n",
    "#         for bill in bills:\n",
    "#             if bill==5:\n",
    "#                 fives+=1\n",
    "#             elif bill==10:\n",
    "#                 if fives>0:\n",
    "#                     tens+=1\n",
    "#                     fives-=1\n",
    "#                 else:\n",
    "#                     return False\n",
    "#             elif bill==20:\n",
    "#                 if tens>0 and fives>0:\n",
    "#                     tens-=1\n",
    "#                     fives-=1\n",
    "#                 elif fives>=3:\n",
    "#                     fives-=3\n",
    "#                 else:\n",
    "#                     return False\n",
    "#         return True"
   ]
  },
  {
   "cell_type": "markdown",
   "metadata": {},
   "source": [
    "05  \n"
   ]
  }
 ],
 "metadata": {
  "kernelspec": {
   "display_name": ".venv",
   "language": "python",
   "name": "python3"
  },
  "language_info": {
   "codemirror_mode": {
    "name": "ipython",
    "version": 3
   },
   "file_extension": ".py",
   "mimetype": "text/x-python",
   "name": "python",
   "nbconvert_exporter": "python",
   "pygments_lexer": "ipython3",
   "version": "3.12.7"
  }
 },
 "nbformat": 4,
 "nbformat_minor": 2
}
