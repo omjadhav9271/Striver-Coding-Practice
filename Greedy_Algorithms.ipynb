{
 "cells": [
  {
   "cell_type": "markdown",
   "metadata": {},
   "source": [
    "01  \n",
    "https://leetcode.com/problems/assign-cookies/description/"
   ]
  },
  {
   "cell_type": "code",
   "execution_count": 2,
   "metadata": {},
   "outputs": [],
   "source": [
    "# class Solution:\n",
    "#     def findContentChildren(self, g: List[int], s: List[int]) -> int:\n",
    "#         s.sort()\n",
    "#         g.sort()\n",
    "#         i,j=0,0\n",
    "#         count=0\n",
    "#         while i<len(g) and j<len(s):\n",
    "#             if g[i]<=s[j]:\n",
    "#                 count+=1\n",
    "#                 i+=1\n",
    "#             j+=1\n",
    "#         return count"
   ]
  },
  {
   "cell_type": "markdown",
   "metadata": {},
   "source": [
    "02  \n",
    "https://www.geeksforgeeks.org/problems/fractional-knapsack-1587115620/1"
   ]
  },
  {
   "cell_type": "code",
   "execution_count": null,
   "metadata": {},
   "outputs": [],
   "source": [
    "# class Solution:\n",
    "#     # Function to get the maximum total value in the knapsack.\n",
    "#     def fractionalknapsack(self, val, wt, capacity):\n",
    "#         #code here\n",
    "#         items=sorted(zip(val,wt),key=lambda x:x[0]/x[1],reverse=True)\n",
    "#         max_value=0.0\n",
    "#         for value,weight in items:\n",
    "#             if capacity >= weight:\n",
    "#                 max_value+=value\n",
    "#                 capacity-=weight\n",
    "#             else:\n",
    "#                 max_value+=capacity*(value/weight)\n",
    "#                 break\n",
    "#         return round(max_value,6)"
   ]
  },
  {
   "cell_type": "markdown",
   "metadata": {},
   "source": [
    "03  \n",
    "https://www.geeksforgeeks.org/problems/number-of-coins1824/1?itm_source=geeksforgeeks&itm_medium=article&itm_campaign=practice_card"
   ]
  },
  {
   "cell_type": "code",
   "execution_count": null,
   "metadata": {},
   "outputs": [],
   "source": [
    "# class Solution:\n",
    "# \tdef minCoins(self, coins, sum):\n",
    "# \t\t# code here\n",
    "# \t\tdp=[float('inf')]*(sum+1)\n",
    "# \t\tdp[0]=0\n",
    "# \t\tfor coin in coins:\n",
    "# \t\t    for i in range(coin,sum+1):\n",
    "# \t\t        dp[i]=min(dp[i],dp[i-coin]+1)\n",
    "# \t\treturn dp[sum] if dp[sum]!=float('inf') else -1"
   ]
  },
  {
   "cell_type": "markdown",
   "metadata": {},
   "source": [
    "04  \n",
    "https://leetcode.com/problems/lemonade-change/description/"
   ]
  },
  {
   "cell_type": "code",
   "execution_count": null,
   "metadata": {},
   "outputs": [],
   "source": [
    "# class Solution:\n",
    "#     def lemonadeChange(self, bills: List[int]) -> bool:\n",
    "#         fives,tens=0,0\n",
    "#         for bill in bills:\n",
    "#             if bill==5:\n",
    "#                 fives+=1\n",
    "#             elif bill==10:\n",
    "#                 if fives>0:\n",
    "#                     tens+=1\n",
    "#                     fives-=1\n",
    "#                 else:\n",
    "#                     return False\n",
    "#             elif bill==20:\n",
    "#                 if tens>0 and fives>0:\n",
    "#                     tens-=1\n",
    "#                     fives-=1\n",
    "#                 elif fives>=3:\n",
    "#                     fives-=3\n",
    "#                 else:\n",
    "#                     return False\n",
    "#         return True"
   ]
  },
  {
   "cell_type": "markdown",
   "metadata": {},
   "source": [
    "05  \n",
    "https://leetcode.com/problems/valid-parenthesis-string/description/\n"
   ]
  },
  {
   "cell_type": "code",
   "execution_count": null,
   "metadata": {},
   "outputs": [],
   "source": [
    "# class Solution:\n",
    "#     def checkValidString(self, s: str) -> bool:\n",
    "#         low=0\n",
    "#         high=0\n",
    "#         for char in s:\n",
    "#             if char=='(':\n",
    "#                 low+=1\n",
    "#                 high+=1\n",
    "#             elif char==')':\n",
    "#                 low=max(low-1,0)\n",
    "#                 high-=1\n",
    "#             else:\n",
    "#                 low=max(low-1,0)\n",
    "#                 high+=1\n",
    "#             if high<0:\n",
    "#                 return False\n",
    "#         return low==0"
   ]
  },
  {
   "cell_type": "markdown",
   "metadata": {},
   "source": [
    "06  \n",
    "https://www.geeksforgeeks.org/problems/n-meetings-in-one-room-1587115620/1"
   ]
  },
  {
   "cell_type": "code",
   "execution_count": null,
   "metadata": {},
   "outputs": [],
   "source": [
    "# class Solution:\n",
    "#     def maximumMeetings(self,start,end):\n",
    "#         meetings=sorted(zip(end,start))\n",
    "#         last_end_time=-1\n",
    "#         count=0\n",
    "#         for e,s in meetings:\n",
    "#             if s>last_end_time:\n",
    "#                 count+=1\n",
    "#                 last_end_time=e\n",
    "#         return count"
   ]
  },
  {
   "cell_type": "markdown",
   "metadata": {},
   "source": [
    "07  \n",
    "https://leetcode.com/problems/jump-game/description/"
   ]
  },
  {
   "cell_type": "code",
   "execution_count": null,
   "metadata": {},
   "outputs": [],
   "source": [
    "# class Solution:\n",
    "#     def canJump(self, nums: List[int]) -> bool:\n",
    "#         n=len(nums)\n",
    "#         max_reach=0\n",
    "#         for i in range(n):\n",
    "#             if i>max_reach:\n",
    "#                 return False\n",
    "#             max_reach=max(max_reach,i+nums[i])\n",
    "#             if max_reach>=n-1:\n",
    "#                 return True"
   ]
  },
  {
   "cell_type": "markdown",
   "metadata": {},
   "source": [
    "08  \n",
    "https://leetcode.com/problems/jump-game-ii/description/"
   ]
  },
  {
   "cell_type": "code",
   "execution_count": null,
   "metadata": {},
   "outputs": [],
   "source": [
    "# class Solution:\n",
    "#     def jump(self, nums: List[int]) -> int:\n",
    "#         n=len(nums)\n",
    "#         current_end=0\n",
    "#         jumps=0\n",
    "#         farthest=0\n",
    "#         for i in range(n-1):\n",
    "#             farthest=max(farthest,i+nums[i])\n",
    "#             if i==current_end:\n",
    "#                 jumps+=1\n",
    "#                 current_end=farthest\n",
    "#             if current_end>=n-1:\n",
    "#                 break\n",
    "#         return jumps"
   ]
  },
  {
   "cell_type": "markdown",
   "metadata": {},
   "source": [
    "09  \n",
    "https://www.geeksforgeeks.org/problems/minimum-platforms-1587115620/1"
   ]
  },
  {
   "cell_type": "code",
   "execution_count": null,
   "metadata": {},
   "outputs": [],
   "source": [
    "# class Solution:    \n",
    "#     def minimumPlatform(self,arr,dep):\n",
    "#         arr.sort()\n",
    "#         dep.sort()\n",
    "#         i,j=0,0\n",
    "#         n=len(arr)\n",
    "#         platforms_needed=0\n",
    "#         maximum_platforms=0\n",
    "#         while i<n and j<n:\n",
    "#             if arr[i]<=dep[j]:\n",
    "#                 platforms_needed+=1\n",
    "#                 i+=1\n",
    "#             else:\n",
    "#                 platforms_needed-=1\n",
    "#                 j+=1\n",
    "#             maximum_platforms=max(maximum_platforms,platforms_needed)\n",
    "#         return maximum_platforms"
   ]
  },
  {
   "cell_type": "markdown",
   "metadata": {},
   "source": [
    "10  \n"
   ]
  }
 ],
 "metadata": {
  "kernelspec": {
   "display_name": ".venv",
   "language": "python",
   "name": "python3"
  },
  "language_info": {
   "codemirror_mode": {
    "name": "ipython",
    "version": 3
   },
   "file_extension": ".py",
   "mimetype": "text/x-python",
   "name": "python",
   "nbconvert_exporter": "python",
   "pygments_lexer": "ipython3",
   "version": "3.12.7"
  }
 },
 "nbformat": 4,
 "nbformat_minor": 2
}
