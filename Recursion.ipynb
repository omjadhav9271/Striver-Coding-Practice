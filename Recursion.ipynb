{
 "cells": [
  {
   "cell_type": "markdown",
   "id": "d6f3338a",
   "metadata": {},
   "source": [
    "01  \n",
    "https://leetcode.com/problems/powx-n/description/"
   ]
  },
  {
   "cell_type": "code",
   "execution_count": null,
   "id": "1810bdb8",
   "metadata": {},
   "outputs": [],
   "source": [
    "# class Solution:\n",
    "#     def myPow(self, x: float, n: int) -> float:\n",
    "#         if n == 0:\n",
    "#             return 1\n",
    "#         if n < 0:\n",
    "#             return 1 / self.myPow(x, -n)\n",
    "#         half = self.myPow(x, n // 2)\n",
    "#         if n % 2 == 0:\n",
    "#             return half * half\n",
    "#         else:\n",
    "#             return half * half * x"
   ]
  },
  {
   "cell_type": "markdown",
   "id": "9ff8032e",
   "metadata": {},
   "source": [
    "02  \n",
    "https://leetcode.com/problems/count-good-numbers/description/"
   ]
  },
  {
   "cell_type": "code",
   "execution_count": 1,
   "id": "9cd3cc57",
   "metadata": {},
   "outputs": [],
   "source": [
    "# class Solution:\n",
    "#     def countGoodNumbers(self, n: int) -> int:\n",
    "#         MOD = 10**9 + 7        \n",
    "#         # Recursive function for modular exponentiation\n",
    "#         def mod_pow(base: int, exp: int, mod: int) -> int:\n",
    "#             if exp == 0:\n",
    "#                 return 1\n",
    "#             half = mod_pow(base, exp // 2, mod)\n",
    "#             half = (half * half) % mod\n",
    "#             if exp % 2 == 0:\n",
    "#                 return half\n",
    "#             else:\n",
    "#                 return (half * base) % mod\n",
    "#         even_positions = (n + 1) // 2\n",
    "#         odd_positions = n // 2\n",
    "#         return (mod_pow(5, even_positions, MOD) * mod_pow(4, odd_positions, MOD)) % MOD"
   ]
  },
  {
   "cell_type": "code",
   "execution_count": null,
   "id": "99878174",
   "metadata": {},
   "outputs": [],
   "source": [
    "# class Solution:\n",
    "#     def countGoodNumbers(self, n: int) -> int:\n",
    "#         MOD = 10**9 + 7\n",
    "#         even_positions = (n + 1) // 2\n",
    "#         odd_positions = n // 2\n",
    "#         return (pow(5, even_positions, MOD) * pow(4, odd_positions, MOD)) % MOD"
   ]
  },
  {
   "cell_type": "markdown",
   "id": "0d23e8a9",
   "metadata": {},
   "source": [
    "03  \n",
    "https://leetcode.com/problems/string-to-integer-atoi/description/"
   ]
  },
  {
   "cell_type": "code",
   "execution_count": null,
   "id": "883e838b",
   "metadata": {},
   "outputs": [],
   "source": [
    "class Solution:\n",
    "    def myAtoi(self, s: str) -> int:\n",
    "        int_max=2**31-1\n",
    "        int_min=-2**31\n",
    "        s=s.lstrip()\n",
    "        if not s:\n",
    "            return 0\n",
    "        i=0\n",
    "        sign=1\n",
    "        if s[i]=='-':\n",
    "            sign=-1\n",
    "            i+=1\n",
    "        elif s[i]=='+':\n",
    "            i+=1\n",
    "        result=0\n",
    "        while i<len(s) and s[i].isdigit():\n",
    "            result=result*10+int(s[i])\n",
    "            i+=1\n",
    "        result*=sign\n",
    "        if result<int_min:\n",
    "            result=int_min\n",
    "        if result>int_max:\n",
    "            result=int_max\n",
    "        return result"
   ]
  }
 ],
 "metadata": {
  "kernelspec": {
   "display_name": ".venv",
   "language": "python",
   "name": "python3"
  },
  "language_info": {
   "codemirror_mode": {
    "name": "ipython",
    "version": 3
   },
   "file_extension": ".py",
   "mimetype": "text/x-python",
   "name": "python",
   "nbconvert_exporter": "python",
   "pygments_lexer": "ipython3",
   "version": "3.12.7"
  }
 },
 "nbformat": 4,
 "nbformat_minor": 5
}
