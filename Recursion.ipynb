{
 "cells": [
  {
   "cell_type": "markdown",
   "id": "d6f3338a",
   "metadata": {},
   "source": [
    "01  \n",
    "https://leetcode.com/problems/powx-n/description/"
   ]
  },
  {
   "cell_type": "code",
   "execution_count": null,
   "id": "1810bdb8",
   "metadata": {},
   "outputs": [],
   "source": [
    "# class Solution:\n",
    "#     def myPow(self, x: float, n: int) -> float:\n",
    "#         if n == 0:\n",
    "#             return 1\n",
    "#         if n < 0:\n",
    "#             return 1 / self.myPow(x, -n)\n",
    "#         half = self.myPow(x, n // 2)\n",
    "#         if n % 2 == 0:\n",
    "#             return half * half\n",
    "#         else:\n",
    "#             return half * half * x"
   ]
  },
  {
   "cell_type": "markdown",
   "id": "9ff8032e",
   "metadata": {},
   "source": [
    "02  \n",
    "https://leetcode.com/problems/count-good-numbers/description/"
   ]
  },
  {
   "cell_type": "code",
   "execution_count": null,
   "id": "99878174",
   "metadata": {},
   "outputs": [],
   "source": [
    "class Solution:\n",
    "    def countGoodNumbers(self, n: int) -> int:\n",
    "        MOD = 10**9 + 7\n",
    "        even_positions = (n + 1) // 2\n",
    "        odd_positions = n // 2\n",
    "        return (pow(5, even_positions, MOD) * pow(4, odd_positions, MOD)) % MOD"
   ]
  }
 ],
 "metadata": {
  "kernelspec": {
   "display_name": ".venv",
   "language": "python",
   "name": "python3"
  },
  "language_info": {
   "name": "python",
   "version": "3.12.7"
  }
 },
 "nbformat": 4,
 "nbformat_minor": 5
}
