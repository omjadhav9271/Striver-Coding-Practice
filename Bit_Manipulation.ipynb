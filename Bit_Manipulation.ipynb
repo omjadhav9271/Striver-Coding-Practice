{
 "cells": [
  {
   "cell_type": "markdown",
   "id": "06eade17",
   "metadata": {},
   "source": [
    "01  \n",
    "https://leetcode.com/problems/power-of-two/description/"
   ]
  },
  {
   "cell_type": "code",
   "execution_count": null,
   "id": "eefb3e64",
   "metadata": {},
   "outputs": [],
   "source": [
    "# class Solution:\n",
    "#     def isPowerOfTwo(self, n: int) -> bool:\n",
    "#         return n > 0 and (n & (n - 1)) == 0"
   ]
  },
  {
   "cell_type": "code",
   "execution_count": null,
   "id": "d4b912dc",
   "metadata": {},
   "outputs": [],
   "source": [
    "# class Solution:\n",
    "#     def isPowerOfTwo(self, n: int) -> bool:\n",
    "#         if n==1:\n",
    "#             return True\n",
    "#         while n>=1:\n",
    "#             if n/2==1:\n",
    "#                 return True\n",
    "#             n/=2\n",
    "#         return False"
   ]
  },
  {
   "cell_type": "markdown",
   "id": "849421ba",
   "metadata": {},
   "source": [
    "02  \n",
    "https://leetcode.com/problems/minimum-bit-flips-to-convert-number/description/"
   ]
  },
  {
   "cell_type": "code",
   "execution_count": null,
   "id": "3eeefab4",
   "metadata": {},
   "outputs": [],
   "source": [
    "# class Solution:\n",
    "#     def minBitFlips(self, start: int, goal: int) -> int:\n",
    "#         return bin(start^goal).count('1')"
   ]
  },
  {
   "cell_type": "markdown",
   "id": "b78dc2c7",
   "metadata": {},
   "source": [
    "03  \n",
    "https://leetcode.com/problems/single-number/description/"
   ]
  },
  {
   "cell_type": "code",
   "execution_count": null,
   "id": "86437329",
   "metadata": {},
   "outputs": [],
   "source": [
    "# class Solution:\n",
    "#     def singleNumber(self, nums: List[int]) -> int:\n",
    "#         result = 0\n",
    "#         for num in nums:\n",
    "#             result ^= num\n",
    "#         return result"
   ]
  },
  {
   "cell_type": "markdown",
   "id": "193c3b29",
   "metadata": {},
   "source": [
    "04  \n",
    "https://leetcode.com/problems/powx-n/description/"
   ]
  },
  {
   "cell_type": "code",
   "execution_count": null,
   "id": "3dccf2de",
   "metadata": {},
   "outputs": [],
   "source": [
    "# class Solution:\n",
    "#     def myPow(self, x: float, n: int) -> float:\n",
    "#         # Handle negative exponents\n",
    "#         if n < 0:\n",
    "#             x = 1 / x\n",
    "#             n = -n\n",
    "#         result = 1.0\n",
    "#         while n:\n",
    "#             if n % 2 == 1:\n",
    "#                 result *= x\n",
    "#             x *= x\n",
    "#             n //= 2\n",
    "#         return result"
   ]
  },
  {
   "cell_type": "markdown",
   "id": "f942e450",
   "metadata": {},
   "source": [
    "05  \n"
   ]
  }
 ],
 "metadata": {
  "kernelspec": {
   "display_name": ".venv",
   "language": "python",
   "name": "python3"
  },
  "language_info": {
   "name": "python",
   "version": "3.12.7"
  }
 },
 "nbformat": 4,
 "nbformat_minor": 5
}
