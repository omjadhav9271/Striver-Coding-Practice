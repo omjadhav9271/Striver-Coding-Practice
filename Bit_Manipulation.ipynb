{
 "cells": [
  {
   "cell_type": "markdown",
   "id": "06eade17",
   "metadata": {},
   "source": [
    "01  \n",
    "https://leetcode.com/problems/power-of-two/description/"
   ]
  },
  {
   "cell_type": "code",
   "execution_count": null,
   "id": "eefb3e64",
   "metadata": {},
   "outputs": [],
   "source": [
    "# class Solution:\n",
    "#     def isPowerOfTwo(self, n: int) -> bool:\n",
    "#         return n > 0 and (n & (n - 1)) == 0"
   ]
  },
  {
   "cell_type": "code",
   "execution_count": null,
   "id": "d4b912dc",
   "metadata": {},
   "outputs": [],
   "source": [
    "# class Solution:\n",
    "#     def isPowerOfTwo(self, n: int) -> bool:\n",
    "#         if n==1:\n",
    "#             return True\n",
    "#         while n>=1:\n",
    "#             if n/2==1:\n",
    "#                 return True\n",
    "#             n/=2\n",
    "#         return False"
   ]
  },
  {
   "cell_type": "markdown",
   "id": "849421ba",
   "metadata": {},
   "source": [
    "02  \n",
    "https://leetcode.com/problems/minimum-bit-flips-to-convert-number/description/"
   ]
  },
  {
   "cell_type": "code",
   "execution_count": null,
   "id": "3eeefab4",
   "metadata": {},
   "outputs": [],
   "source": [
    "# class Solution:\n",
    "#     def minBitFlips(self, start: int, goal: int) -> int:\n",
    "#         return bin(start^goal).count('1')"
   ]
  },
  {
   "cell_type": "markdown",
   "id": "b78dc2c7",
   "metadata": {},
   "source": [
    "03  \n",
    "https://leetcode.com/problems/single-number/description/"
   ]
  },
  {
   "cell_type": "code",
   "execution_count": null,
   "id": "86437329",
   "metadata": {},
   "outputs": [],
   "source": []
  }
 ],
 "metadata": {
  "kernelspec": {
   "display_name": ".venv",
   "language": "python",
   "name": "python3"
  },
  "language_info": {
   "name": "python",
   "version": "3.12.7"
  }
 },
 "nbformat": 4,
 "nbformat_minor": 5
}
