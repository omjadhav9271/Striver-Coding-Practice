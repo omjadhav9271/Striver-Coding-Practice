{
 "cells": [
  {
   "cell_type": "markdown",
   "id": "06eade17",
   "metadata": {},
   "source": [
    "01  \n",
    "https://leetcode.com/problems/power-of-two/description/"
   ]
  },
  {
   "cell_type": "code",
   "execution_count": null,
   "id": "eefb3e64",
   "metadata": {
    "vscode": {
     "languageId": "plaintext"
    }
   },
   "outputs": [],
   "source": []
  }
 ],
 "metadata": {
  "language_info": {
   "name": "python"
  }
 },
 "nbformat": 4,
 "nbformat_minor": 5
}
