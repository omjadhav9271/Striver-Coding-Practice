{
 "cells": [
  {
   "cell_type": "markdown",
   "metadata": {},
   "source": [
    "Dynamic Programming"
   ]
  },
  {
   "cell_type": "markdown",
   "metadata": {},
   "source": [
    "01  \n",
    "https://www.geeksforgeeks.org/problems/introduction-to-dp/1"
   ]
  },
  {
   "cell_type": "code",
   "execution_count": null,
   "metadata": {},
   "outputs": [],
   "source": [
    "# class Solution:\n",
    "#     mod = 10**9 + 7\n",
    "#     def topDown(self, n):\n",
    "#         memo = {0: 0, 1: 1}\n",
    "#         def fib(i):\n",
    "#             if i in memo:  \n",
    "#                 return memo[i]\n",
    "#             memo[i] = (fib(i - 1) + fib(i - 2)) % self.mod  \n",
    "#             return memo[i]\n",
    "#         return fib(n)\n",
    "#     def bottomUp(self, n):\n",
    "#         if n == 0:  \n",
    "#             return 0\n",
    "#         dp = [0] * (n + 1)\n",
    "#         dp[0], dp[1] = 0, 1\n",
    "#         for i in range(2, n + 1):\n",
    "#             dp[i] = (dp[i - 1] + dp[i - 2]) % self.mod\n",
    "#         return dp[n]"
   ]
  },
  {
   "cell_type": "markdown",
   "metadata": {},
   "source": [
    "02  \n",
    "https://leetcode.com/problems/climbing-stairs/description/"
   ]
  },
  {
   "cell_type": "code",
   "execution_count": null,
   "metadata": {},
   "outputs": [],
   "source": [
    "# class Solution:\n",
    "#     def climbStairs(self, n: int) -> int:\n",
    "#         if n==1:\n",
    "#             return 1\n",
    "#         if n==2:\n",
    "#             return 2\n",
    "#         dp=[0]*(n+1)\n",
    "#         dp[1],dp[2]=1,2\n",
    "#         for i in range(3,n+1):\n",
    "#             dp[i]=dp[i-1]+dp[i-2]\n",
    "#         return dp[n]"
   ]
  },
  {
   "cell_type": "markdown",
   "metadata": {},
   "source": [
    "03  \n",
    "https://www.geeksforgeeks.org/problems/geek-jump/1"
   ]
  },
  {
   "cell_type": "code",
   "execution_count": null,
   "metadata": {},
   "outputs": [],
   "source": [
    "# class Solution:\n",
    "#     def minCost(self, height):\n",
    "#         n=len(height)\n",
    "#         if n==1:\n",
    "#             return 0\n",
    "#         dp=[0]*n\n",
    "#         dp[0]=0\n",
    "#         dp[1]=dp[0]+abs(height[1]-height[0])\n",
    "#         for i in range(2,n):\n",
    "#             cost_one_step=dp[i-1]+abs(height[i]-height[i-1])\n",
    "#             cost_two_step=dp[i-2]+abs(height[i]-height[i-2])\n",
    "#             dp[i]=min(cost_one_step,cost_two_step)\n",
    "#         return dp[-1]"
   ]
  },
  {
   "cell_type": "code",
   "execution_count": null,
   "metadata": {},
   "outputs": [],
   "source": [
    "# class Solution:\n",
    "#     def minCost(self, height):\n",
    "#         n=len(height)\n",
    "#         if n==1:\n",
    "#             return 0\n",
    "#         dp=[0]*n\n",
    "#         dp[1]=abs(height[1]-height[0])\n",
    "#         for i in range(2,n):\n",
    "#             dp[i]=min(dp[i-1]+abs(height[i]-height[i-1]),dp[i-2]+abs(height[i]-height[i-2]))\n",
    "#         return dp[-1]"
   ]
  },
  {
   "cell_type": "markdown",
   "metadata": {},
   "source": [
    "04  \n"
   ]
  }
 ],
 "metadata": {
  "kernelspec": {
   "display_name": ".venv",
   "language": "python",
   "name": "python3"
  },
  "language_info": {
   "codemirror_mode": {
    "name": "ipython",
    "version": 3
   },
   "file_extension": ".py",
   "mimetype": "text/x-python",
   "name": "python",
   "nbconvert_exporter": "python",
   "pygments_lexer": "ipython3",
   "version": "3.12.7"
  }
 },
 "nbformat": 4,
 "nbformat_minor": 2
}
