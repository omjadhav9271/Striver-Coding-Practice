{
 "cells": [
  {
   "cell_type": "markdown",
   "metadata": {},
   "source": [
    "Dynamic Programming"
   ]
  },
  {
   "cell_type": "markdown",
   "metadata": {},
   "source": [
    "01  \n",
    "https://www.geeksforgeeks.org/problems/introduction-to-dp/1"
   ]
  },
  {
   "cell_type": "code",
   "execution_count": null,
   "metadata": {},
   "outputs": [],
   "source": [
    "# class Solution:\n",
    "#     mod = 10**9 + 7\n",
    "#     def topDown(self, n):\n",
    "#         memo = {0: 0, 1: 1}\n",
    "#         def fib(i):\n",
    "#             if i in memo:  \n",
    "#                 return memo[i]\n",
    "#             memo[i] = (fib(i - 1) + fib(i - 2)) % self.mod  \n",
    "#             return memo[i]\n",
    "#         return fib(n)\n",
    "#     def bottomUp(self, n):\n",
    "#         if n == 0:  \n",
    "#             return 0\n",
    "#         dp = [0] * (n + 1)\n",
    "#         dp[0], dp[1] = 0, 1\n",
    "#         for i in range(2, n + 1):\n",
    "#             dp[i] = (dp[i - 1] + dp[i - 2]) % self.mod\n",
    "#         return dp[n]"
   ]
  },
  {
   "cell_type": "markdown",
   "metadata": {},
   "source": [
    "02  \n",
    "https://leetcode.com/problems/climbing-stairs/description/"
   ]
  },
  {
   "cell_type": "code",
   "execution_count": null,
   "metadata": {},
   "outputs": [],
   "source": [
    "# class Solution:\n",
    "#     def climbStairs(self, n: int) -> int:\n",
    "#         if n==1:\n",
    "#             return 1\n",
    "#         if n==2:\n",
    "#             return 2\n",
    "#         dp=[0]*(n+1)\n",
    "#         dp[1],dp[2]=1,2\n",
    "#         for i in range(3,n+1):\n",
    "#             dp[i]=dp[i-1]+dp[i-2]\n",
    "#         return dp[n]"
   ]
  },
  {
   "cell_type": "markdown",
   "metadata": {},
   "source": [
    "03  \n",
    "https://www.geeksforgeeks.org/problems/geek-jump/1"
   ]
  },
  {
   "cell_type": "code",
   "execution_count": null,
   "metadata": {},
   "outputs": [],
   "source": [
    "# class Solution:\n",
    "#     def minCost(self, height):\n",
    "#         n=len(height)\n",
    "#         if n==1:\n",
    "#             return 0\n",
    "#         dp=[0]*n\n",
    "#         dp[0]=0\n",
    "#         dp[1]=dp[0]+abs(height[1]-height[0])\n",
    "#         for i in range(2,n):\n",
    "#             cost_one_step=dp[i-1]+abs(height[i]-height[i-1])\n",
    "#             cost_two_step=dp[i-2]+abs(height[i]-height[i-2])\n",
    "#             dp[i]=min(cost_one_step,cost_two_step)\n",
    "#         return dp[-1]"
   ]
  },
  {
   "cell_type": "code",
   "execution_count": null,
   "metadata": {},
   "outputs": [],
   "source": [
    "# class Solution:\n",
    "#     def minCost(self, height):\n",
    "#         n=len(height)\n",
    "#         if n==1:\n",
    "#             return 0\n",
    "#         dp=[0]*n\n",
    "#         dp[1]=abs(height[1]-height[0])\n",
    "#         for i in range(2,n):\n",
    "#             dp[i]=min(dp[i-1]+abs(height[i]-height[i-1]),dp[i-2]+abs(height[i]-height[i-2]))\n",
    "#         return dp[-1]"
   ]
  },
  {
   "cell_type": "markdown",
   "metadata": {},
   "source": [
    "04  \n",
    "https://www.geeksforgeeks.org/problems/minimal-cost/1"
   ]
  },
  {
   "cell_type": "code",
   "execution_count": null,
   "metadata": {},
   "outputs": [],
   "source": [
    "# class Solution:\n",
    "#     def minimizeCost(self, k, arr):\n",
    "#         n=len(arr)\n",
    "#         dp=[float('inf')]*n\n",
    "#         dp[0]=0\n",
    "#         for i in range(1,n):\n",
    "#             for j in range(max(0,i-k),i):\n",
    "#                 dp[i]=min(dp[i],dp[j]+abs(arr[i]-arr[j]))\n",
    "#         return dp[-1]"
   ]
  },
  {
   "cell_type": "markdown",
   "metadata": {},
   "source": [
    "05  \n",
    "https://leetcode.com/problems/house-robber/description/"
   ]
  },
  {
   "cell_type": "code",
   "execution_count": null,
   "metadata": {},
   "outputs": [],
   "source": [
    "# class Solution:\n",
    "#     def rob(self, nums: List[int]) -> int:\n",
    "#         prev1,prev2=0,0\n",
    "#         for num in nums:\n",
    "#             new_rob=max(prev1,prev2+num)\n",
    "#             prev2=prev1\n",
    "#             prev1=new_rob\n",
    "#         return prev1"
   ]
  },
  {
   "cell_type": "markdown",
   "metadata": {},
   "source": [
    "06  \n",
    "https://leetcode.com/problems/house-robber-ii/description/"
   ]
  },
  {
   "cell_type": "code",
   "execution_count": null,
   "metadata": {},
   "outputs": [],
   "source": [
    "# class Solution:\n",
    "#     def rob(self, nums: List[int]) -> int:\n",
    "#         if len(nums)==1:\n",
    "#             return nums[0]\n",
    "#         def rob_helper(nums:list[int])->int:\n",
    "#             prev1,prev2=0,0\n",
    "#             for num in nums:\n",
    "#                 new_rob=max(prev1,prev2+num)\n",
    "#                 prev2=prev1\n",
    "#                 prev1=new_rob\n",
    "#             return prev1\n",
    "#         return max(rob_helper(nums[1:]),rob_helper(nums[:-1]))"
   ]
  },
  {
   "cell_type": "markdown",
   "metadata": {},
   "source": [
    "07  \n",
    "https://www.geeksforgeeks.org/problems/geeks-training/1"
   ]
  },
  {
   "cell_type": "code",
   "execution_count": null,
   "metadata": {},
   "outputs": [],
   "source": [
    "class Solution:\n",
    "    def maximumPoints(self, arr):\n",
    "        n = len(arr)\n",
    "        prev_run = arr[0][0]\n",
    "        prev_fight = arr[0][1]\n",
    "        prev_learn = arr[0][2]\n",
    "        for i in range(1, n):\n",
    "            curr_run = arr[i][0] + max(prev_fight, prev_learn)\n",
    "            curr_fight = arr[i][1] + max(prev_run, prev_learn)\n",
    "            curr_learn = arr[i][2] + max(prev_run, prev_fight)\n",
    "            prev_run, prev_fight, prev_learn = curr_run, curr_fight, curr_learn\n",
    "        return max(prev_run, prev_fight, prev_learn)"
   ]
  }
 ],
 "metadata": {
  "kernelspec": {
   "display_name": ".venv",
   "language": "python",
   "name": "python3"
  },
  "language_info": {
   "codemirror_mode": {
    "name": "ipython",
    "version": 3
   },
   "file_extension": ".py",
   "mimetype": "text/x-python",
   "name": "python",
   "nbconvert_exporter": "python",
   "pygments_lexer": "ipython3",
   "version": "3.12.7"
  }
 },
 "nbformat": 4,
 "nbformat_minor": 2
}
