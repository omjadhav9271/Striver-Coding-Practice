{
 "cells": [
  {
   "cell_type": "markdown",
   "metadata": {},
   "source": [
    "Dynamic Programming"
   ]
  },
  {
   "cell_type": "markdown",
   "metadata": {},
   "source": [
    "01  \n",
    "https://www.geeksforgeeks.org/problems/introduction-to-dp/1"
   ]
  },
  {
   "cell_type": "code",
   "execution_count": null,
   "metadata": {},
   "outputs": [],
   "source": [
    "# class Solution:\n",
    "#     mod = 10**9 + 7\n",
    "#     def topDown(self, n):\n",
    "#         memo = {0: 0, 1: 1}\n",
    "#         def fib(i):\n",
    "#             if i in memo:  \n",
    "#                 return memo[i]\n",
    "#             memo[i] = (fib(i - 1) + fib(i - 2)) % self.mod  \n",
    "#             return memo[i]\n",
    "#         return fib(n)\n",
    "#     def bottomUp(self, n):\n",
    "#         if n == 0:  \n",
    "#             return 0\n",
    "#         dp = [0] * (n + 1)\n",
    "#         dp[0], dp[1] = 0, 1\n",
    "#         for i in range(2, n + 1):\n",
    "#             dp[i] = (dp[i - 1] + dp[i - 2]) % self.mod\n",
    "#         return dp[n]"
   ]
  },
  {
   "cell_type": "markdown",
   "metadata": {},
   "source": [
    "02  \n",
    "https://leetcode.com/problems/climbing-stairs/description/"
   ]
  },
  {
   "cell_type": "code",
   "execution_count": null,
   "metadata": {},
   "outputs": [],
   "source": [
    "# class Solution:\n",
    "#     def climbStairs(self, n: int) -> int:\n",
    "#         if n==1:\n",
    "#             return 1\n",
    "#         if n==2:\n",
    "#             return 2\n",
    "#         dp=[0]*(n+1)\n",
    "#         dp[1],dp[2]=1,2\n",
    "#         for i in range(3,n+1):\n",
    "#             dp[i]=dp[i-1]+dp[i-2]\n",
    "#         return dp[n]"
   ]
  },
  {
   "cell_type": "markdown",
   "metadata": {},
   "source": [
    "03  \n",
    "https://www.geeksforgeeks.org/problems/geek-jump/1"
   ]
  },
  {
   "cell_type": "code",
   "execution_count": null,
   "metadata": {},
   "outputs": [],
   "source": [
    "# class Solution:\n",
    "#     def minCost(self, height):\n",
    "#         n=len(height)\n",
    "#         if n==1:\n",
    "#             return 0\n",
    "#         dp=[0]*n\n",
    "#         dp[0]=0\n",
    "#         dp[1]=dp[0]+abs(height[1]-height[0])\n",
    "#         for i in range(2,n):\n",
    "#             cost_one_step=dp[i-1]+abs(height[i]-height[i-1])\n",
    "#             cost_two_step=dp[i-2]+abs(height[i]-height[i-2])\n",
    "#             dp[i]=min(cost_one_step,cost_two_step)\n",
    "#         return dp[-1]"
   ]
  },
  {
   "cell_type": "code",
   "execution_count": null,
   "metadata": {},
   "outputs": [],
   "source": [
    "# class Solution:\n",
    "#     def minCost(self, height):\n",
    "#         n=len(height)\n",
    "#         if n==1:\n",
    "#             return 0\n",
    "#         dp=[0]*n\n",
    "#         dp[1]=abs(height[1]-height[0])\n",
    "#         for i in range(2,n):\n",
    "#             dp[i]=min(dp[i-1]+abs(height[i]-height[i-1]),dp[i-2]+abs(height[i]-height[i-2]))\n",
    "#         return dp[-1]"
   ]
  },
  {
   "cell_type": "markdown",
   "metadata": {},
   "source": [
    "04  \n",
    "https://www.geeksforgeeks.org/problems/minimal-cost/1"
   ]
  },
  {
   "cell_type": "code",
   "execution_count": null,
   "metadata": {},
   "outputs": [],
   "source": [
    "# class Solution:\n",
    "#     def minimizeCost(self, k, arr):\n",
    "#         n=len(arr)\n",
    "#         dp=[float('inf')]*n\n",
    "#         dp[0]=0\n",
    "#         for i in range(1,n):\n",
    "#             for j in range(max(0,i-k),i):\n",
    "#                 dp[i]=min(dp[i],dp[j]+abs(arr[i]-arr[j]))\n",
    "#         return dp[-1]"
   ]
  },
  {
   "cell_type": "markdown",
   "metadata": {},
   "source": [
    "05  \n",
    "https://leetcode.com/problems/house-robber/description/"
   ]
  },
  {
   "cell_type": "code",
   "execution_count": null,
   "metadata": {},
   "outputs": [],
   "source": [
    "# class Solution:\n",
    "#     def rob(self, nums: List[int]) -> int:\n",
    "#         prev1,prev2=0,0\n",
    "#         for num in nums:\n",
    "#             new_rob=max(prev1,prev2+num)\n",
    "#             prev2=prev1\n",
    "#             prev1=new_rob\n",
    "#         return prev1"
   ]
  },
  {
   "cell_type": "markdown",
   "metadata": {},
   "source": [
    "06  \n",
    "https://leetcode.com/problems/house-robber-ii/description/"
   ]
  },
  {
   "cell_type": "code",
   "execution_count": null,
   "metadata": {},
   "outputs": [],
   "source": [
    "# class Solution:\n",
    "#     def rob(self, nums: List[int]) -> int:\n",
    "#         if len(nums)==1:\n",
    "#             return nums[0]\n",
    "#         def rob_helper(nums:list[int])->int:\n",
    "#             prev1,prev2=0,0\n",
    "#             for num in nums:\n",
    "#                 new_rob=max(prev1,prev2+num)\n",
    "#                 prev2=prev1\n",
    "#                 prev1=new_rob\n",
    "#             return prev1\n",
    "#         return max(rob_helper(nums[1:]),rob_helper(nums[:-1]))"
   ]
  },
  {
   "cell_type": "markdown",
   "metadata": {},
   "source": [
    "07  \n",
    "https://www.geeksforgeeks.org/problems/geeks-training/1"
   ]
  },
  {
   "cell_type": "code",
   "execution_count": null,
   "metadata": {},
   "outputs": [],
   "source": [
    "# class Solution:\n",
    "#     def maximumPoints(self, arr):\n",
    "#         n = len(arr)\n",
    "#         prev_run = arr[0][0]\n",
    "#         prev_fight = arr[0][1]\n",
    "#         prev_learn = arr[0][2]\n",
    "#         for i in range(1, n):\n",
    "#             curr_run = arr[i][0] + max(prev_fight, prev_learn)\n",
    "#             curr_fight = arr[i][1] + max(prev_run, prev_learn)\n",
    "#             curr_learn = arr[i][2] + max(prev_run, prev_fight)\n",
    "#             prev_run, prev_fight, prev_learn = curr_run, curr_fight, curr_learn\n",
    "#         return max(prev_run, prev_fight, prev_learn)"
   ]
  },
  {
   "cell_type": "markdown",
   "metadata": {},
   "source": [
    "08  \n",
    "https://leetcode.com/problems/unique-paths/description/"
   ]
  },
  {
   "cell_type": "code",
   "execution_count": null,
   "metadata": {},
   "outputs": [],
   "source": [
    "# class Solution:\n",
    "#     def uniquePaths(self, m: int, n: int) -> int:\n",
    "#         # Step 1: Create a 2D DP table with m rows and n columns\n",
    "#         dp = [[0] * n for _ in range(m)]\n",
    "#         # Step 2: Initialize the first row and first column to 1\n",
    "#         for i in range(m):\n",
    "#             dp[i][0] = 1  # Only one way to reach any cell in the first column (by going down)\n",
    "#         for j in range(n):\n",
    "#             dp[0][j] = 1  # Only one way to reach any cell in the first row (by going right)\n",
    "#         # Step 3: Fill the rest of the table using the DP formula\n",
    "#         for i in range(1, m):\n",
    "#             for j in range(1, n):\n",
    "#                 dp[i][j] = dp[i - 1][j] + dp[i][j - 1]\n",
    "#         # Step 4: Return the value in the bottom-right cell\n",
    "#         return dp[m - 1][n - 1]"
   ]
  },
  {
   "cell_type": "code",
   "execution_count": null,
   "metadata": {},
   "outputs": [],
   "source": [
    "# class Solution:\n",
    "#     def uniquePaths(self, m: int, n: int) -> int:\n",
    "#         dp=[1]*n\n",
    "#         for i in range(m-1):\n",
    "#             for j in range(1,n):\n",
    "#                 dp[j]+=dp[j-1]\n",
    "#         return dp[-1]"
   ]
  },
  {
   "cell_type": "code",
   "execution_count": null,
   "metadata": {},
   "outputs": [],
   "source": [
    "# import math\n",
    "# class Solution:\n",
    "#     def uniquePaths(self, m: int, n: int) -> int:\n",
    "#         return math.comb(m+n-2,m-1)"
   ]
  },
  {
   "cell_type": "code",
   "execution_count": null,
   "metadata": {},
   "outputs": [],
   "source": [
    "# import math\n",
    "# class Solution:\n",
    "#     def uniquePaths(self, m: int, n: int) -> int:\n",
    "#         return math.comb(m+n-2,n-1)"
   ]
  },
  {
   "cell_type": "markdown",
   "metadata": {},
   "source": [
    "09  \n",
    "https://leetcode.com/problems/unique-paths-ii/description/"
   ]
  },
  {
   "cell_type": "code",
   "execution_count": null,
   "metadata": {},
   "outputs": [],
   "source": [
    "# class Solution:\n",
    "#     def uniquePathsWithObstacles(self, obstacleGrid: List[List[int]]) -> int:\n",
    "#         m, n = len(obstacleGrid), len(obstacleGrid[0])\n",
    "#         # If the start or end cell is blocked, return 0\n",
    "#         if obstacleGrid[0][0] == 1 or obstacleGrid[m - 1][n - 1] == 1:\n",
    "#             return 0\n",
    "#         # Create a dp grid initialized with 0\n",
    "#         dp = [[0] * n for _ in range(m)]\n",
    "#         # Start position\n",
    "#         dp[0][0] = 1\n",
    "#         for i in range(m):\n",
    "#             for j in range(n):\n",
    "#                 if obstacleGrid[i][j] == 1:\n",
    "#                     dp[i][j] = 0  # Obstacle\n",
    "#                 else:\n",
    "#                     if i > 0:\n",
    "#                         dp[i][j] += dp[i - 1][j]\n",
    "#                     if j > 0:\n",
    "#                         dp[i][j] += dp[i][j - 1]\n",
    "#         return dp[m - 1][n - 1]"
   ]
  },
  {
   "cell_type": "markdown",
   "metadata": {},
   "source": [
    "10  \n",
    "https://leetcode.com/problems/minimum-path-sum/description/"
   ]
  },
  {
   "cell_type": "code",
   "execution_count": null,
   "metadata": {},
   "outputs": [],
   "source": [
    "# class Solution:\n",
    "#     def minPathSum(self, grid: List[List[int]]) -> int:\n",
    "#         m, n = len(grid), len(grid[0])\n",
    "#         # Initialize the top-left corner\n",
    "#         for i in range(1, m):\n",
    "#             grid[i][0] += grid[i-1][0]  # First column (can only come from above)\n",
    "#         for j in range(1, n):\n",
    "#             grid[0][j] += grid[0][j-1]  # First row (can only come from left)\n",
    "#         # Fill in the rest of the grid\n",
    "#         for i in range(1, m):\n",
    "#             for j in range(1, n):\n",
    "#                 grid[i][j] += min(grid[i-1][j], grid[i][j-1])  # Min of top or left\n",
    "#         return grid[-1][-1]  # Bottom-right corner holds the result"
   ]
  },
  {
   "cell_type": "markdown",
   "metadata": {},
   "source": [
    "11  \n",
    "https://leetcode.com/problems/triangle/description/"
   ]
  },
  {
   "cell_type": "code",
   "execution_count": null,
   "metadata": {},
   "outputs": [],
   "source": [
    "# class Solution:\n",
    "#     def minimumTotal(self, triangle: List[List[int]]) -> int:\n",
    "#         # Number of rows in the triangle\n",
    "#         n = len(triangle)\n",
    "#         # Initialize a dp array with the last row of the triangle\n",
    "#         dp = triangle[-1][:]\n",
    "#         # Start from the second to last row and move upwards\n",
    "#         for i in range(n - 2, -1, -1):\n",
    "#             for j in range(len(triangle[i])):\n",
    "#                 # Update the dp value for current position\n",
    "#                 dp[j] = triangle[i][j] + min(dp[j], dp[j + 1])\n",
    "#         # The result is stored at the top of dp\n",
    "#         return dp[0]"
   ]
  },
  {
   "cell_type": "markdown",
   "metadata": {},
   "source": [
    "12  \n",
    "https://leetcode.com/problems/minimum-falling-path-sum/description/"
   ]
  },
  {
   "cell_type": "code",
   "execution_count": null,
   "metadata": {},
   "outputs": [],
   "source": [
    "# class Solution:\n",
    "#     def minFallingPathSum(self, matrix: List[List[int]]) -> int:\n",
    "#         n = len(matrix)\n",
    "#         # Start from second-last row and move upwards\n",
    "#         for row in range(n - 2, -1, -1):\n",
    "#             for col in range(n):\n",
    "#                 # Consider the three possible paths from the row below\n",
    "#                 down = matrix[row + 1][col]\n",
    "#                 left = matrix[row + 1][col - 1] if col > 0 else float('inf')\n",
    "#                 right = matrix[row + 1][col + 1] if col < n - 1 else float('inf')\n",
    "#                 # Update current cell with the minimum sum\n",
    "#                 matrix[row][col] += min(left, down, right)\n",
    "#         # The answer is the minimum in the first row\n",
    "#         return min(matrix[0])"
   ]
  },
  {
   "cell_type": "markdown",
   "metadata": {},
   "source": [
    "13  \n",
    "https://leetcode.com/problems/coin-change/description/"
   ]
  },
  {
   "cell_type": "code",
   "execution_count": null,
   "metadata": {},
   "outputs": [],
   "source": [
    "# class Solution:\n",
    "#     def coinChange(self, coins: List[int], amount: int) -> int:\n",
    "#         dp=[float('inf')]*(amount+1)\n",
    "#         dp[0]=0\n",
    "#         for i in range(1,amount+1):\n",
    "#             for coin in coins:\n",
    "#                 if i-coin>=0:\n",
    "#                     dp[i]=min(dp[i],dp[i-coin]+1)\n",
    "#         return dp[amount] if dp[amount]!=float('inf') else -1"
   ]
  },
  {
   "cell_type": "markdown",
   "metadata": {},
   "source": [
    "14  \n",
    "https://leetcode.com/problems/word-break/description/"
   ]
  },
  {
   "cell_type": "code",
   "execution_count": null,
   "metadata": {},
   "outputs": [],
   "source": [
    "# class Solution:\n",
    "#     def wordBreak(self, s: str, wordDict: List[str]) -> bool:\n",
    "#         word_set = set(wordDict)\n",
    "#         n = len(s) + 1\n",
    "#         dp = [False] * n\n",
    "#         dp[0] = True\n",
    "#         for i in range(1, n):\n",
    "#             for j in range(i):\n",
    "#                 if dp[j] and s[j:i] in word_set:\n",
    "#                     dp[i] = True\n",
    "#                     break\n",
    "#         return dp[-1]"
   ]
  },
  {
   "cell_type": "markdown",
   "metadata": {},
   "source": [
    "15  \n",
    "https://leetcode.com/problems/longest-increasing-subsequence/description/"
   ]
  },
  {
   "cell_type": "code",
   "execution_count": null,
   "metadata": {},
   "outputs": [],
   "source": [
    "# class Solution:\n",
    "#     def lengthOfLIS(self, nums: List[int]) -> int:\n",
    "#         def binary_search(subs,target):\n",
    "#             left,right=0,len(subs)-1\n",
    "#             while left<=right:\n",
    "#                 mid=(left+right)//2\n",
    "#                 if subs[mid]<target:\n",
    "#                     left=mid+1\n",
    "#                 else:\n",
    "#                     right=mid-1\n",
    "#             return left\n",
    "#         subs=[]\n",
    "#         for num in nums:\n",
    "#             pos=binary_search(subs,num)\n",
    "#             if pos==len(subs):\n",
    "#                 subs.append(num)\n",
    "#             else:\n",
    "#                 subs[pos]=num\n",
    "#         return len(subs)"
   ]
  },
  {
   "cell_type": "markdown",
   "metadata": {},
   "source": [
    "16  \n",
    "https://leetcode.com/problems/longest-common-subsequence/"
   ]
  },
  {
   "cell_type": "code",
   "execution_count": null,
   "metadata": {},
   "outputs": [],
   "source": [
    "# class Solution:\n",
    "#     def longestCommonSubsequence(self, text1: str, text2: str) -> int:\n",
    "#         m, n = len(text1), len(text2)\n",
    "#         dp = [[0] * (n + 1) for i in range(m + 1)]\n",
    "#         for i in range(1, m + 1):\n",
    "#             for j in range(1, n + 1):\n",
    "#                 if text1[i - 1] == text2[j - 1]:\n",
    "#                     dp[i][j] = dp[i - 1][j - 1] + 1\n",
    "#                 else:\n",
    "#                     dp[i][j] = max(dp[i - 1][j], dp[i][j - 1])\n",
    "#         return dp[-1][-1]"
   ]
  },
  {
   "cell_type": "markdown",
   "metadata": {},
   "source": [
    "17  \n",
    "https://leetcode.com/problems/combination-sum/description/"
   ]
  },
  {
   "cell_type": "code",
   "execution_count": null,
   "metadata": {},
   "outputs": [],
   "source": [
    "# NON DP Based Approach\n",
    "# class Solution:\n",
    "#     def combinationSum(self, candidates: List[int], target: int) -> List[List[int]]:\n",
    "#         res=[]\n",
    "#         def backtrack(start,comb,total):\n",
    "#             if total==target:\n",
    "#                 res.append(list(comb))\n",
    "#                 return\n",
    "#             if total>target:\n",
    "#                 return\n",
    "#             for i in range(start,len(candidates)):\n",
    "#                 comb.append(candidates[i])\n",
    "#                 backtrack(i,comb,total+candidates[i])\n",
    "#                 comb.pop()\n",
    "#         backtrack(0,[],0)\n",
    "#         return res"
   ]
  },
  {
   "cell_type": "markdown",
   "metadata": {},
   "source": [
    "18  \n",
    "https://leetcode.com/problems/decode-ways/description/"
   ]
  },
  {
   "cell_type": "code",
   "execution_count": null,
   "metadata": {},
   "outputs": [],
   "source": [
    "# class Solution:\n",
    "#     def numDecodings(self, s: str) -> int:\n",
    "#         if not s or s[0]==\"0\":\n",
    "#             return 0\n",
    "#         dp=[0]*(len(s)+1)\n",
    "#         dp[0]=1\n",
    "#         dp[1]=1\n",
    "#         for i in range(2,len(s)+1):\n",
    "#             if s[i-1]!=\"0\":\n",
    "#                 dp[i]+=dp[i-1]\n",
    "#             two_digit=int(s[i-2:i])\n",
    "#             if 10<=two_digit<=26:\n",
    "#                 dp[i]+=dp[i-2]\n",
    "#         return dp[len(s)]"
   ]
  },
  {
   "cell_type": "markdown",
   "metadata": {},
   "source": [
    "19  \n",
    "https://leetcode.com/problems/partition-equal-subset-sum/description/"
   ]
  },
  {
   "cell_type": "code",
   "execution_count": null,
   "metadata": {},
   "outputs": [],
   "source": [
    "# class Solution:\n",
    "#     def canPartition(self, nums: List[int]) -> bool:\n",
    "#         total = sum(nums)\n",
    "#         if total % 2 != 0:\n",
    "#             return False        \n",
    "#         target = total // 2\n",
    "#         dp = [False] * (target + 1)\n",
    "#         dp[0] = True\n",
    "#         for num in nums:\n",
    "#             for i in range(target, num - 1, -1):\n",
    "#                 dp[i] = dp[i] or dp[i - num]\n",
    "#         return dp[target]"
   ]
  },
  {
   "cell_type": "markdown",
   "metadata": {},
   "source": [
    "20  \n",
    "https://leetcode.com/problems/coin-change/description/"
   ]
  },
  {
   "cell_type": "code",
   "execution_count": null,
   "metadata": {},
   "outputs": [],
   "source": [
    "# class Solution:\n",
    "#     def coinChange(self, coins: List[int], amount: int) -> int:\n",
    "#         # Initialize dp array where dp[i] represents the minimum number of coins to make up amount i\n",
    "#         dp = [float('inf')] * (amount + 1)\n",
    "#         dp[0] = 0  # Base case: 0 coins needed to make amount 0\n",
    "#         # Iterate over all amounts from 1 to amount\n",
    "#         for i in range(1, amount + 1):\n",
    "#             for coin in coins:\n",
    "#                 if i - coin >= 0:  # If the coin can contribute to the amount\n",
    "#                     dp[i] = min(dp[i], dp[i - coin] + 1)\n",
    "#         # If dp[amount] is still float('inf'), it means the amount cannot be made up\n",
    "#         return dp[amount] if dp[amount] != float('inf') else -1"
   ]
  },
  {
   "cell_type": "markdown",
   "metadata": {},
   "source": [
    "21  \n",
    "https://leetcode.com/problems/coin-change-ii/description/"
   ]
  },
  {
   "cell_type": "code",
   "execution_count": null,
   "metadata": {},
   "outputs": [],
   "source": [
    "# class Solution:\n",
    "#     def change(self, amount: int, coins: List[int]) -> int:\n",
    "#         dp = [0] * (amount + 1)\n",
    "#         dp[0] = 1\n",
    "#         for coin in coins:\n",
    "#             for i in range(coin, amount + 1):\n",
    "#                 dp[i] += dp[i - coin]\n",
    "#         return dp[amount]"
   ]
  },
  {
   "cell_type": "markdown",
   "metadata": {},
   "source": [
    "22  \n",
    "https://leetcode.com/problems/target-sum/description/"
   ]
  },
  {
   "cell_type": "code",
   "execution_count": null,
   "metadata": {},
   "outputs": [],
   "source": [
    "# class Solution:\n",
    "#     def findTargetSumWays(self, nums: List[int], target: int) -> int:\n",
    "#         total = sum(nums)\n",
    "#         # Check if a valid subset sum is possible\n",
    "#         if (total + target) % 2 != 0 or total < abs(target):\n",
    "#             return 0\n",
    "#         subset_sum = (total + target) // 2\n",
    "#         # DP to count number of subsets with sum == subset_sum\n",
    "#         dp = [0] * (subset_sum + 1)\n",
    "#         dp[0] = 1  # There's one way to reach sum 0: use no elements\n",
    "#         for num in nums:\n",
    "#             # Traverse from right to left to avoid using same element more than once\n",
    "#             for s in range(subset_sum, num - 1, -1):\n",
    "#                 dp[s] += dp[s - num]\n",
    "#         return dp[subset_sum]"
   ]
  }
 ],
 "metadata": {
  "kernelspec": {
   "display_name": ".venv",
   "language": "python",
   "name": "python3"
  },
  "language_info": {
   "codemirror_mode": {
    "name": "ipython",
    "version": 3
   },
   "file_extension": ".py",
   "mimetype": "text/x-python",
   "name": "python",
   "nbconvert_exporter": "python",
   "pygments_lexer": "ipython3",
   "version": "3.12.7"
  }
 },
 "nbformat": 4,
 "nbformat_minor": 2
}
