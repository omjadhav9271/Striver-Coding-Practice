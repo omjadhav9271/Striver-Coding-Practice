{
 "cells": [
  {
   "cell_type": "markdown",
   "metadata": {},
   "source": [
    "Dynamic Programming"
   ]
  },
  {
   "cell_type": "markdown",
   "metadata": {},
   "source": [
    "01  \n",
    "https://www.geeksforgeeks.org/problems/introduction-to-dp/1"
   ]
  },
  {
   "cell_type": "code",
   "execution_count": null,
   "metadata": {},
   "outputs": [],
   "source": [
    "# class Solution:\n",
    "#     mod = 10**9 + 7\n",
    "#     def topDown(self, n):\n",
    "#         memo = {0: 0, 1: 1}\n",
    "#         def fib(i):\n",
    "#             if i in memo:  \n",
    "#                 return memo[i]\n",
    "#             memo[i] = (fib(i - 1) + fib(i - 2)) % self.mod  \n",
    "#             return memo[i]\n",
    "#         return fib(n)\n",
    "#     def bottomUp(self, n):\n",
    "#         if n == 0:  \n",
    "#             return 0\n",
    "#         dp = [0] * (n + 1)\n",
    "#         dp[0], dp[1] = 0, 1\n",
    "#         for i in range(2, n + 1):\n",
    "#             dp[i] = (dp[i - 1] + dp[i - 2]) % self.mod\n",
    "#         return dp[n]"
   ]
  },
  {
   "cell_type": "markdown",
   "metadata": {},
   "source": [
    "02  \n",
    "https://leetcode.com/problems/climbing-stairs/description/"
   ]
  },
  {
   "cell_type": "code",
   "execution_count": null,
   "metadata": {},
   "outputs": [],
   "source": [
    "# class Solution:\n",
    "#     def climbStairs(self, n: int) -> int:\n",
    "#         if n==1:\n",
    "#             return 1\n",
    "#         if n==2:\n",
    "#             return 2\n",
    "#         dp=[0]*(n+1)\n",
    "#         dp[1],dp[2]=1,2\n",
    "#         for i in range(3,n+1):\n",
    "#             dp[i]=dp[i-1]+dp[i-2]\n",
    "#         return dp[n]"
   ]
  },
  {
   "cell_type": "markdown",
   "metadata": {},
   "source": [
    "03  \n",
    "https://www.geeksforgeeks.org/problems/geek-jump/1"
   ]
  },
  {
   "cell_type": "code",
   "execution_count": null,
   "metadata": {},
   "outputs": [],
   "source": [
    "# class Solution:\n",
    "#     def minCost(self, height):\n",
    "#         n=len(height)\n",
    "#         if n==1:\n",
    "#             return 0\n",
    "#         dp=[0]*n\n",
    "#         dp[0]=0\n",
    "#         dp[1]=dp[0]+abs(height[1]-height[0])\n",
    "#         for i in range(2,n):\n",
    "#             cost_one_step=dp[i-1]+abs(height[i]-height[i-1])\n",
    "#             cost_two_step=dp[i-2]+abs(height[i]-height[i-2])\n",
    "#             dp[i]=min(cost_one_step,cost_two_step)\n",
    "#         return dp[-1]"
   ]
  },
  {
   "cell_type": "code",
   "execution_count": null,
   "metadata": {},
   "outputs": [],
   "source": [
    "# class Solution:\n",
    "#     def minCost(self, height):\n",
    "#         n=len(height)\n",
    "#         if n==1:\n",
    "#             return 0\n",
    "#         dp=[0]*n\n",
    "#         dp[1]=abs(height[1]-height[0])\n",
    "#         for i in range(2,n):\n",
    "#             dp[i]=min(dp[i-1]+abs(height[i]-height[i-1]),dp[i-2]+abs(height[i]-height[i-2]))\n",
    "#         return dp[-1]"
   ]
  },
  {
   "cell_type": "markdown",
   "metadata": {},
   "source": [
    "04  \n",
    "https://www.geeksforgeeks.org/problems/minimal-cost/1"
   ]
  },
  {
   "cell_type": "code",
   "execution_count": null,
   "metadata": {},
   "outputs": [],
   "source": [
    "# class Solution:\n",
    "#     def minimizeCost(self, k, arr):\n",
    "#         n=len(arr)\n",
    "#         dp=[float('inf')]*n\n",
    "#         dp[0]=0\n",
    "#         for i in range(1,n):\n",
    "#             for j in range(max(0,i-k),i):\n",
    "#                 dp[i]=min(dp[i],dp[j]+abs(arr[i]-arr[j]))\n",
    "#         return dp[-1]"
   ]
  },
  {
   "cell_type": "markdown",
   "metadata": {},
   "source": [
    "05  \n",
    "https://leetcode.com/problems/house-robber/description/"
   ]
  },
  {
   "cell_type": "code",
   "execution_count": null,
   "metadata": {},
   "outputs": [],
   "source": [
    "# class Solution:\n",
    "#     def rob(self, nums: List[int]) -> int:\n",
    "#         prev1,prev2=0,0\n",
    "#         for num in nums:\n",
    "#             new_rob=max(prev1,prev2+num)\n",
    "#             prev2=prev1\n",
    "#             prev1=new_rob\n",
    "#         return prev1"
   ]
  },
  {
   "cell_type": "markdown",
   "metadata": {},
   "source": [
    "06  \n",
    "https://leetcode.com/problems/house-robber-ii/description/"
   ]
  },
  {
   "cell_type": "code",
   "execution_count": null,
   "metadata": {},
   "outputs": [],
   "source": [
    "# class Solution:\n",
    "#     def rob(self, nums: List[int]) -> int:\n",
    "#         if len(nums)==1:\n",
    "#             return nums[0]\n",
    "#         def rob_helper(nums:list[int])->int:\n",
    "#             prev1,prev2=0,0\n",
    "#             for num in nums:\n",
    "#                 new_rob=max(prev1,prev2+num)\n",
    "#                 prev2=prev1\n",
    "#                 prev1=new_rob\n",
    "#             return prev1\n",
    "#         return max(rob_helper(nums[1:]),rob_helper(nums[:-1]))"
   ]
  },
  {
   "cell_type": "markdown",
   "metadata": {},
   "source": [
    "07  \n",
    "https://www.geeksforgeeks.org/problems/geeks-training/1"
   ]
  },
  {
   "cell_type": "code",
   "execution_count": null,
   "metadata": {},
   "outputs": [],
   "source": [
    "# class Solution:\n",
    "#     def maximumPoints(self, arr):\n",
    "#         n = len(arr)\n",
    "#         prev_run = arr[0][0]\n",
    "#         prev_fight = arr[0][1]\n",
    "#         prev_learn = arr[0][2]\n",
    "#         for i in range(1, n):\n",
    "#             curr_run = arr[i][0] + max(prev_fight, prev_learn)\n",
    "#             curr_fight = arr[i][1] + max(prev_run, prev_learn)\n",
    "#             curr_learn = arr[i][2] + max(prev_run, prev_fight)\n",
    "#             prev_run, prev_fight, prev_learn = curr_run, curr_fight, curr_learn\n",
    "#         return max(prev_run, prev_fight, prev_learn)"
   ]
  },
  {
   "cell_type": "markdown",
   "metadata": {},
   "source": [
    "08  \n",
    "https://leetcode.com/problems/unique-paths/description/"
   ]
  },
  {
   "cell_type": "code",
   "execution_count": null,
   "metadata": {},
   "outputs": [],
   "source": [
    "# class Solution:\n",
    "#     def uniquePaths(self, m: int, n: int) -> int:\n",
    "#         # Step 1: Create a 2D DP table with m rows and n columns\n",
    "#         dp = [[0] * n for _ in range(m)]\n",
    "#         # Step 2: Initialize the first row and first column to 1\n",
    "#         for i in range(m):\n",
    "#             dp[i][0] = 1  # Only one way to reach any cell in the first column (by going down)\n",
    "#         for j in range(n):\n",
    "#             dp[0][j] = 1  # Only one way to reach any cell in the first row (by going right)\n",
    "#         # Step 3: Fill the rest of the table using the DP formula\n",
    "#         for i in range(1, m):\n",
    "#             for j in range(1, n):\n",
    "#                 dp[i][j] = dp[i - 1][j] + dp[i][j - 1]\n",
    "#         # Step 4: Return the value in the bottom-right cell\n",
    "#         return dp[m - 1][n - 1]"
   ]
  },
  {
   "cell_type": "code",
   "execution_count": null,
   "metadata": {},
   "outputs": [],
   "source": [
    "# class Solution:\n",
    "#     def uniquePaths(self, m: int, n: int) -> int:\n",
    "#         dp=[1]*n\n",
    "#         for i in range(m-1):\n",
    "#             for j in range(1,n):\n",
    "#                 dp[j]+=dp[j-1]\n",
    "#         return dp[-1]"
   ]
  },
  {
   "cell_type": "code",
   "execution_count": null,
   "metadata": {},
   "outputs": [],
   "source": [
    "# import math\n",
    "# class Solution:\n",
    "#     def uniquePaths(self, m: int, n: int) -> int:\n",
    "#         return math.comb(m+n-2,m-1)"
   ]
  },
  {
   "cell_type": "code",
   "execution_count": null,
   "metadata": {},
   "outputs": [],
   "source": [
    "# import math\n",
    "# class Solution:\n",
    "#     def uniquePaths(self, m: int, n: int) -> int:\n",
    "#         return math.comb(m+n-2,n-1)"
   ]
  },
  {
   "cell_type": "markdown",
   "metadata": {},
   "source": [
    "09  \n",
    "https://leetcode.com/problems/unique-paths-ii/description/"
   ]
  },
  {
   "cell_type": "code",
   "execution_count": null,
   "metadata": {},
   "outputs": [],
   "source": [
    "# class Solution:\n",
    "#     def uniquePathsWithObstacles(self, obstacleGrid: List[List[int]]) -> int:\n",
    "#         m, n = len(obstacleGrid), len(obstacleGrid[0])\n",
    "#         # If the start or end cell is blocked, return 0\n",
    "#         if obstacleGrid[0][0] == 1 or obstacleGrid[m - 1][n - 1] == 1:\n",
    "#             return 0\n",
    "#         # Create a dp grid initialized with 0\n",
    "#         dp = [[0] * n for _ in range(m)]\n",
    "#         # Start position\n",
    "#         dp[0][0] = 1\n",
    "#         for i in range(m):\n",
    "#             for j in range(n):\n",
    "#                 if obstacleGrid[i][j] == 1:\n",
    "#                     dp[i][j] = 0  # Obstacle\n",
    "#                 else:\n",
    "#                     if i > 0:\n",
    "#                         dp[i][j] += dp[i - 1][j]\n",
    "#                     if j > 0:\n",
    "#                         dp[i][j] += dp[i][j - 1]\n",
    "#         return dp[m - 1][n - 1]"
   ]
  },
  {
   "cell_type": "markdown",
   "metadata": {},
   "source": [
    "10  \n",
    "https://leetcode.com/problems/minimum-path-sum/description/"
   ]
  },
  {
   "cell_type": "code",
   "execution_count": null,
   "metadata": {},
   "outputs": [],
   "source": [
    "# class Solution:\n",
    "#     def minPathSum(self, grid: List[List[int]]) -> int:\n",
    "#         m, n = len(grid), len(grid[0])\n",
    "#         # Initialize the top-left corner\n",
    "#         for i in range(1, m):\n",
    "#             grid[i][0] += grid[i-1][0]  # First column (can only come from above)\n",
    "#         for j in range(1, n):\n",
    "#             grid[0][j] += grid[0][j-1]  # First row (can only come from left)\n",
    "#         # Fill in the rest of the grid\n",
    "#         for i in range(1, m):\n",
    "#             for j in range(1, n):\n",
    "#                 grid[i][j] += min(grid[i-1][j], grid[i][j-1])  # Min of top or left\n",
    "#         return grid[-1][-1]  # Bottom-right corner holds the result"
   ]
  },
  {
   "cell_type": "markdown",
   "metadata": {},
   "source": [
    "11  \n",
    "https://leetcode.com/problems/triangle/description/"
   ]
  },
  {
   "cell_type": "code",
   "execution_count": null,
   "metadata": {},
   "outputs": [],
   "source": []
  }
 ],
 "metadata": {
  "kernelspec": {
   "display_name": ".venv",
   "language": "python",
   "name": "python3"
  },
  "language_info": {
   "codemirror_mode": {
    "name": "ipython",
    "version": 3
   },
   "file_extension": ".py",
   "mimetype": "text/x-python",
   "name": "python",
   "nbconvert_exporter": "python",
   "pygments_lexer": "ipython3",
   "version": "3.12.7"
  }
 },
 "nbformat": 4,
 "nbformat_minor": 2
}
