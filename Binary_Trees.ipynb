{
 "cells": [
  {
   "cell_type": "markdown",
   "metadata": {},
   "source": [
    "01  \n",
    "https://www.geeksforgeeks.org/problems/binary-tree-representation/1"
   ]
  },
  {
   "cell_type": "code",
   "execution_count": null,
   "metadata": {},
   "outputs": [],
   "source": [
    "# class Node:\n",
    "#     def __init__(self, val):\n",
    "#         self.data = val\n",
    "#         self.left = None\n",
    "#         self.right = None\n",
    "# class Solution:\n",
    "#     def createTree(self, root, vec):\n",
    "#         # Create the remaining 6 nodes\n",
    "#         n1 = Node(vec[1])\n",
    "#         n2 = Node(vec[2])\n",
    "#         n3 = Node(vec[3])\n",
    "#         n4 = Node(vec[4])\n",
    "#         n5 = Node(vec[5])\n",
    "#         n6 = Node(vec[6])\n",
    "#         # Build the tree using level-order logic\n",
    "#         root.left = n1\n",
    "#         root.right = n2\n",
    "#         n1.left = n3\n",
    "#         n1.right = n4\n",
    "#         n2.left = n5\n",
    "#         n2.right = n6"
   ]
  },
  {
   "cell_type": "code",
   "execution_count": null,
   "metadata": {},
   "outputs": [],
   "source": [
    "# Very Important\n",
    "\n",
    "# class Node:\n",
    "#     def __init__(self, val):\n",
    "#         self.data = val\n",
    "#         self.left = None\n",
    "#         self.right = None\n",
    "# class Solution:\n",
    "#     def createTree(self, root, vec):\n",
    "#         # A queue to assign children in level order\n",
    "#         queue = [root]\n",
    "#         i = 1  # Start from index 1 since root is at index 0\n",
    "#         while i < len(vec):\n",
    "#             current = queue.pop(0)  # Get the current node from the front of the queue\n",
    "#             # Assign left child\n",
    "#             current.left = Node(vec[i])\n",
    "#             queue.append(current.left)\n",
    "#             i += 1\n",
    "#             # Assign right child\n",
    "#             if i < len(vec):\n",
    "#                 current.right = Node(vec[i])\n",
    "#                 queue.append(current.right)\n",
    "#                 i += 1"
   ]
  },
  {
   "cell_type": "markdown",
   "metadata": {},
   "source": [
    "02  \n",
    "https://leetcode.com/problems/binary-tree-preorder-traversal/description/"
   ]
  },
  {
   "cell_type": "code",
   "execution_count": null,
   "metadata": {},
   "outputs": [],
   "source": [
    "# Definition for a binary tree node.\n",
    "# class TreeNode:\n",
    "#     def __init__(self, val=0, left=None, right=None):\n",
    "#         self.val = val\n",
    "#         self.left = left\n",
    "#         self.right = right\n",
    "class Solution:\n",
    "    def preorderTraversal(self, root: Optional[TreeNode]) -> List[int]:\n",
    "        if not root:\n",
    "            return []\n",
    "        stack=[root]\n",
    "        result=[]\n",
    "        while stack:\n",
    "            node=stack.pop()\n",
    "            result.append(node.val)\n",
    "            if node.right:\n",
    "                stack.append(node.right)\n",
    "            if node.left:\n",
    "                stack.append(node.left)\n",
    "        return result"
   ]
  },
  {
   "cell_type": "code",
   "execution_count": null,
   "metadata": {},
   "outputs": [],
   "source": [
    "# Definition for a binary tree node.\n",
    "# class TreeNode:\n",
    "#     def __init__(self, val=0, left=None, right=None):\n",
    "#         self.val = val\n",
    "#         self.left = left\n",
    "#         self.right = right\n",
    "\n",
    "class Solution:\n",
    "    def preorderTraversal(self, root: Optional[TreeNode]) -> List[int]:\n",
    "        if not root:\n",
    "            return []\n",
    "        return [root.val]+self.preorderTraversal(root.left)+self.preorderTraversal(root.right)\n",
    "# [2,3] = [2] + [] + [3]"
   ]
  },
  {
   "cell_type": "markdown",
   "metadata": {},
   "source": [
    "01  \n",
    "https://www.geeksforgeeks.org/problems/introduction-to-trees/1"
   ]
  },
  {
   "cell_type": "code",
   "execution_count": null,
   "metadata": {},
   "outputs": [],
   "source": [
    "# class Solution:\n",
    "#     def countNodes(self, i):\n",
    "#         return 2**(i-1)"
   ]
  },
  {
   "cell_type": "markdown",
   "metadata": {},
   "source": [
    "02  \n",
    "https://www.geeksforgeeks.org/problems/binary-tree-representation/1"
   ]
  },
  {
   "cell_type": "code",
   "execution_count": null,
   "metadata": {},
   "outputs": [],
   "source": [
    "# class Solution:\n",
    "#     def createTree(self, root, l):\n",
    "#         nodes=[Node(data) for data in l]\n",
    "#         for i in range(len(l)//2):\n",
    "#             nodes[i].left=nodes[i*2+1]\n",
    "#             nodes[i].right=nodes[i*2+2]\n",
    "#         root.left=nodes[1]\n",
    "#         root.right=nodes[2]"
   ]
  },
  {
   "cell_type": "markdown",
   "metadata": {},
   "source": [
    "03  \n",
    "https://www.naukri.com/code360/problems/tree-traversal_981269"
   ]
  },
  {
   "cell_type": "code",
   "execution_count": null,
   "metadata": {},
   "outputs": [],
   "source": [
    "# class BinaryTreeNode:\n",
    "#     def __init__(self, data):\n",
    "#         self.data = data\n",
    "#         self.left = None\n",
    "#         self.right = None\n",
    "\n",
    "# def getTreeTraversal(root):\n",
    "#     inorder = []\n",
    "#     preorder = []\n",
    "#     postorder = []\n",
    "#     def traverse(node):\n",
    "#         if node is None:\n",
    "#             return\n",
    "#         preorder.append(node.data)      # Preorder: Visit before children\n",
    "#         traverse(node.left)\n",
    "#         inorder.append(node.data)       # Inorder: Visit between children\n",
    "#         traverse(node.right)\n",
    "#         postorder.append(node.data)     # Postorder: Visit after children\n",
    "#     traverse(root)\n",
    "#     return [inorder, preorder, postorder]"
   ]
  },
  {
   "cell_type": "markdown",
   "metadata": {},
   "source": [
    "05  \n",
    "https://leetcode.com/problems/binary-tree-inorder-traversal/description/"
   ]
  },
  {
   "cell_type": "code",
   "execution_count": null,
   "metadata": {},
   "outputs": [],
   "source": [
    "# # Definition for a binary tree node.\n",
    "# # class TreeNode:\n",
    "# #     def __init__(self, val=0, left=None, right=None):\n",
    "# #         self.val = val\n",
    "# #         self.left = left\n",
    "# #         self.right = right\n",
    "# class Solution:\n",
    "#     def inorderTraversal(self, root: Optional[TreeNode]) -> List[int]:\n",
    "#         if not root:\n",
    "#             return []\n",
    "#         return self.inorderTraversal(root.left)+[root.val]+self.inorderTraversal(root.right)"
   ]
  },
  {
   "cell_type": "code",
   "execution_count": null,
   "metadata": {},
   "outputs": [],
   "source": [
    "# # Definition for a binary tree node.\n",
    "# # class TreeNode:\n",
    "# #     def __init__(self, val=0, left=None, right=None):\n",
    "# #         self.val = val\n",
    "# #         self.left = left\n",
    "# #         self.right = right\n",
    "# class Solution:\n",
    "#     def inorderTraversal(self, root: Optional[TreeNode]) -> List[int]:\n",
    "#         stack=[]\n",
    "#         result=[]\n",
    "#         current=root\n",
    "#         while current or stack:\n",
    "#             while current:\n",
    "#                 stack.append(current)\n",
    "#                 current=current.left\n",
    "#             current=stack.pop()\n",
    "#             result.append(current.val)\n",
    "#             current=current.right\n",
    "#         return result"
   ]
  },
  {
   "cell_type": "markdown",
   "metadata": {},
   "source": [
    "06  \n",
    "https://leetcode.com/problems/binary-tree-postorder-traversal/description/"
   ]
  },
  {
   "cell_type": "code",
   "execution_count": null,
   "metadata": {},
   "outputs": [],
   "source": [
    "# # Definition for a binary tree node.\n",
    "# # class TreeNode:\n",
    "# #     def __init__(self, val=0, left=None, right=None):\n",
    "# #         self.val = val\n",
    "# #         self.left = left\n",
    "# #         self.right = right\n",
    "# class Solution:\n",
    "#     def postorderTraversal(self, root: Optional[TreeNode]) -> List[int]:\n",
    "#         if not root:\n",
    "#             return []\n",
    "#         return self.postorderTraversal(root.left)+self.postorderTraversal(root.right)+[root.val]"
   ]
  },
  {
   "cell_type": "code",
   "execution_count": null,
   "metadata": {},
   "outputs": [],
   "source": [
    "# # Definition for a binary tree node.\n",
    "# # class TreeNode:\n",
    "# #     def __init__(self, val=0, left=None, right=None):\n",
    "# #         self.val = val\n",
    "# #         self.left = left\n",
    "# #         self.right = right\n",
    "# class Solution:\n",
    "#     def postorderTraversal(self, root: Optional[TreeNode]) -> List[int]:\n",
    "#         if not root:\n",
    "#             return []\n",
    "#         stack1 = [root]\n",
    "#         stack2 = []\n",
    "#         while stack1:\n",
    "#             node = stack1.pop()\n",
    "#             stack2.append(node.val)\n",
    "#             if node.left:\n",
    "#                 stack1.append(node.left)\n",
    "#             if node.right:\n",
    "#                 stack1.append(node.right)\n",
    "#         return stack2[::-1]  # Reverse to get left-right-root order"
   ]
  },
  {
   "cell_type": "markdown",
   "metadata": {},
   "source": [
    "07  \n",
    "https://leetcode.com/problems/diameter-of-binary-tree/description/"
   ]
  },
  {
   "cell_type": "code",
   "execution_count": null,
   "metadata": {},
   "outputs": [],
   "source": [
    "# # Definition for a binary tree node.\n",
    "# # class TreeNode:\n",
    "# #     def __init__(self, val=0, left=None, right=None):\n",
    "# #         self.val = val\n",
    "# #         self.left = left\n",
    "# #         self.right = right\n",
    "# class Solution:\n",
    "#     def diameterOfBinaryTree(self, root: Optional[TreeNode]) -> int:\n",
    "#         self.diameter = 0\n",
    "#         def dfs(node):\n",
    "#             if not node:\n",
    "#                 return 0\n",
    "#             left_depth = dfs(node.left)\n",
    "#             right_depth = dfs(node.right)\n",
    "#             # Update the diameter at this node\n",
    "#             self.diameter = max(self.diameter, left_depth + right_depth)\n",
    "#             # Return the height of the current node\n",
    "#             return 1 + max(left_depth, right_depth)\n",
    "#         dfs(root)\n",
    "#         return self.diameter"
   ]
  },
  {
   "cell_type": "markdown",
   "metadata": {},
   "source": [
    "08  \n",
    "https://leetcode.com/problems/binary-tree-maximum-path-sum/description/"
   ]
  },
  {
   "cell_type": "code",
   "execution_count": null,
   "metadata": {},
   "outputs": [],
   "source": [
    "# # Definition for a binary tree node.\n",
    "# # class TreeNode:\n",
    "# #     def __init__(self, val=0, left=None, right=None):\n",
    "# #         self.val = val\n",
    "# #         self.left = left\n",
    "# #         self.right = right        \n",
    "# class Solution:\n",
    "#     def maxPathSum(self, root: Optional[TreeNode]) -> int:\n",
    "#         self.max_sum = float('-inf')  # Global variable to track the maximum path sum\n",
    "#         def max_gain(node):\n",
    "#             if not node:\n",
    "#                 return 0\n",
    "#             # Get max gain from left and right subtrees, ignore paths with negative sum\n",
    "#             left_gain = max(max_gain(node.left), 0)\n",
    "#             right_gain = max(max_gain(node.right), 0)\n",
    "#             # Price of the current path (node + left + right)\n",
    "#             current_path_sum = node.val + left_gain + right_gain\n",
    "#             # Update global max_sum if current path is better\n",
    "#             self.max_sum = max(self.max_sum, current_path_sum)\n",
    "#             # Return max gain to parent (node + max of either subtree)\n",
    "#             return node.val + max(left_gain, right_gain)\n",
    "#         max_gain(root)\n",
    "#         return self.max_sum"
   ]
  },
  {
   "cell_type": "markdown",
   "metadata": {},
   "source": [
    "09  \n",
    "https://leetcode.com/problems/lowest-common-ancestor-of-a-binary-tree/description/"
   ]
  },
  {
   "cell_type": "code",
   "execution_count": null,
   "metadata": {},
   "outputs": [],
   "source": [
    "# # Definition for a binary tree node.\n",
    "# # class TreeNode:\n",
    "# #     def __init__(self, x):\n",
    "# #         self.val = x\n",
    "# #         self.left = None\n",
    "# #         self.right = None\n",
    "# class Solution:\n",
    "#     def lowestCommonAncestor(self, root: 'TreeNode', p: 'TreeNode', q: 'TreeNode') -> 'TreeNode':\n",
    "#         # Base case: if root is None or matches either p or q\n",
    "#         if not root or root == p or root == q:\n",
    "#             return root        \n",
    "#         # Recur for left and right subtrees\n",
    "#         left = self.lowestCommonAncestor(root.left, p, q)\n",
    "#         right = self.lowestCommonAncestor(root.right, p, q)\n",
    "#         # If both left and right are non-null, root is the LCA\n",
    "#         if left and right:\n",
    "#             return root\n",
    "#         # Otherwise, return the non-null value (either left or right)\n",
    "#         return left if left else right"
   ]
  },
  {
   "cell_type": "markdown",
   "metadata": {},
   "source": [
    "10  \n",
    "https://leetcode.com/problems/maximum-depth-of-binary-tree/description/"
   ]
  },
  {
   "cell_type": "code",
   "execution_count": null,
   "metadata": {},
   "outputs": [],
   "source": [
    "# class Solution:\n",
    "#     def maxDepth(self, root: Optional[TreeNode]) -> int:\n",
    "#         return 0 if not root else 1+max(self.maxDepth(root.left),self.maxDepth(root.right))"
   ]
  },
  {
   "cell_type": "markdown",
   "metadata": {},
   "source": [
    "11  \n",
    "https://leetcode.com/problems/balanced-binary-tree/description/"
   ]
  },
  {
   "cell_type": "code",
   "execution_count": null,
   "metadata": {},
   "outputs": [],
   "source": [
    "# class Solution:\n",
    "#     def isBalanced(self, root: Optional[TreeNode]) -> bool:\n",
    "#         if root is None:\n",
    "#             return True\n",
    "#         def getHeight(node):\n",
    "#             if node is None:\n",
    "#                 return 0\n",
    "#             return 1 + max(getHeight(node.left), getHeight(node.right))\n",
    "#         leftHeight = getHeight(root.left)\n",
    "#         rightHeight = getHeight(root.right)\n",
    "#         if abs(leftHeight - rightHeight) > 1:\n",
    "#             return False\n",
    "#         # Recursively check left and right subtrees\n",
    "#         return self.isBalanced(root.left) and self.isBalanced(root.right)"
   ]
  },
  {
   "cell_type": "markdown",
   "metadata": {},
   "source": [
    "12  \n",
    "https://leetcode.com/problems/same-tree/description/"
   ]
  },
  {
   "cell_type": "code",
   "execution_count": null,
   "metadata": {},
   "outputs": [],
   "source": [
    "# # Definition for a binary tree node.\n",
    "# # class TreeNode:\n",
    "# #     def __init__(self, val=0, left=None, right=None):\n",
    "# #         self.val = val\n",
    "# #         self.left = left\n",
    "# #         self.right = right\n",
    "# class Solution:\n",
    "#     def isSameTree(self, p: Optional[TreeNode], q: Optional[TreeNode]) -> bool:\n",
    "#         if not p and not q:\n",
    "#             return True\n",
    "#         if p and q and p.val==q.val:\n",
    "#             return self.isSameTree(p.left,q.left) and self.isSameTree(p.right,q.right)\n",
    "#         return False"
   ]
  },
  {
   "cell_type": "markdown",
   "metadata": {},
   "source": [
    "13  \n",
    "https://leetcode.com/problems/binary-tree-zigzag-level-order-traversal/description/"
   ]
  },
  {
   "cell_type": "code",
   "execution_count": null,
   "metadata": {},
   "outputs": [],
   "source": [
    "# # # Definition for a binary tree node.\n",
    "# # class TreeNode:\n",
    "# #     def __init__(self, val=0, left=None, right=None):\n",
    "# #         self.val = val\n",
    "# #         self.left = left\n",
    "# #         self.right = right\n",
    "\n",
    "# from collections import deque\n",
    "# class Solution:\n",
    "#     def zigzagLevelOrder(self, root: Optional[TreeNode]) -> List[List[int]]:\n",
    "#         if not root:\n",
    "#             return []\n",
    "#         result = []\n",
    "#         queue = deque([root])\n",
    "#         left_to_right = True\n",
    "#         while queue:\n",
    "#             level_size = len(queue)\n",
    "#             level = deque()\n",
    "#             for _ in range(level_size):\n",
    "#                 node = queue.popleft()\n",
    "#                 if left_to_right:\n",
    "#                     level.append(node.val)\n",
    "#                 else:\n",
    "#                     level.appendleft(node.val)\n",
    "#                 if node.left:\n",
    "#                     queue.append(node.left)\n",
    "#                 if node.right:\n",
    "#                     queue.append(node.right)\n",
    "#             result.append(list(level))\n",
    "#             left_to_right = not left_to_right\n",
    "#         return result"
   ]
  },
  {
   "cell_type": "markdown",
   "metadata": {},
   "source": [
    "14  \n",
    "https://leetcode.com/problems/symmetric-tree/description/"
   ]
  },
  {
   "cell_type": "code",
   "execution_count": null,
   "metadata": {},
   "outputs": [],
   "source": [
    "# class Solution:\n",
    "#     def isSymmetric(self, root: Optional[TreeNode]) -> bool:\n",
    "#         if not root:\n",
    "#             return True\n",
    "#         def isSame(root1,root2):\n",
    "#             if not root1 and not root2:\n",
    "#                 return True\n",
    "#             if (root1 and not root2) or (not root1 and root2) or (root1.val != root2.val):\n",
    "#                 return False\n",
    "#             left=isSame(root1.left,root2.right)\n",
    "#             right=isSame(root1.right,root2.left)\n",
    "#             return left and right\n",
    "#         return isSame(root.left,root.right)"
   ]
  },
  {
   "cell_type": "markdown",
   "metadata": {},
   "source": [
    "15  \n",
    "https://leetcode.com/problems/binary-tree-right-side-view/description/"
   ]
  },
  {
   "cell_type": "code",
   "execution_count": null,
   "metadata": {},
   "outputs": [],
   "source": [
    "# # Definition for a binary tree node.\n",
    "# # class TreeNode:\n",
    "# #     def __init__(self, val=0, left=None, right=None):\n",
    "# #         self.val = val\n",
    "# #         self.left = left\n",
    "# #         self.right = right\n",
    "# from collections import deque\n",
    "# class Solution:\n",
    "#     def rightSideView(self, root: Optional[TreeNode]) -> List[int]:\n",
    "#         if not root:\n",
    "#             return []\n",
    "#         right_view = []\n",
    "#         queue = deque([root])\n",
    "#         while queue:\n",
    "#             level_length = len(queue)\n",
    "#             for i in range(level_length):\n",
    "#                 node = queue.popleft()\n",
    "#                 # if it's the last node in the current level, add it to the view\n",
    "#                 if i == level_length - 1:\n",
    "#                     right_view.append(node.val)\n",
    "#                 if node.left:\n",
    "#                     queue.append(node.left)\n",
    "#                 if node.right:\n",
    "#                     queue.append(node.right)\n",
    "#         return right_view"
   ]
  },
  {
   "cell_type": "markdown",
   "metadata": {},
   "source": [
    "16"
   ]
  }
 ],
 "metadata": {
  "kernelspec": {
   "display_name": ".venv",
   "language": "python",
   "name": "python3"
  },
  "language_info": {
   "name": "python",
   "version": "3.12.7"
  }
 },
 "nbformat": 4,
 "nbformat_minor": 2
}
