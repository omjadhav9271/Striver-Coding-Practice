{
 "cells": [
  {
   "cell_type": "markdown",
   "metadata": {},
   "source": [
    "Sliding Window and Two Pointer Approach"
   ]
  },
  {
   "cell_type": "markdown",
   "metadata": {},
   "source": [
    "01  \n",
    "https://leetcode.com/problems/longest-substring-without-repeating-characters/description/"
   ]
  },
  {
   "cell_type": "code",
   "execution_count": null,
   "metadata": {},
   "outputs": [],
   "source": [
    "# class Solution:\n",
    "#     def lengthOfLongestSubstring(self, s: str) -> int:\n",
    "#         left=0\n",
    "#         max_length=0\n",
    "#         char_index={}\n",
    "#         for right,char in enumerate(s):\n",
    "#             if char in char_index and char_index[char]>=left:\n",
    "#                 left=char_index[char]+1\n",
    "#             char_index[char]=right\n",
    "#             max_length=max(max_length,right-left+1)\n",
    "#         return max_length"
   ]
  },
  {
   "cell_type": "markdown",
   "metadata": {},
   "source": [
    "02  \n",
    "https://leetcode.com/problems/max-consecutive-ones-iii/description/"
   ]
  },
  {
   "cell_type": "code",
   "execution_count": null,
   "metadata": {},
   "outputs": [],
   "source": [
    "# class Solution:\n",
    "#     def longestOnes(self, nums: List[int], k: int) -> int:\n",
    "#         left = 0\n",
    "#         max_len = 0\n",
    "#         zero_count = 0\n",
    "#         for right in range(len(nums)):\n",
    "#             if nums[right] == 0:\n",
    "#                 zero_count += 1\n",
    "#             while zero_count > k:\n",
    "#                 if nums[left] == 0:\n",
    "#                     zero_count -= 1\n",
    "#                 left += 1\n",
    "#             max_len = max(max_len, right - left + 1)\n",
    "#         return max_len"
   ]
  },
  {
   "cell_type": "markdown",
   "metadata": {},
   "source": [
    "03  \n",
    "https://www.geeksforgeeks.org/problems/fruit-into-baskets-1663137462/1"
   ]
  },
  {
   "cell_type": "code",
   "execution_count": null,
   "metadata": {},
   "outputs": [],
   "source": [
    "# class Solution:\n",
    "#     def totalElements(self, arr):\n",
    "#         freq = {}\n",
    "#         left = 0\n",
    "#         max_len = 0\n",
    "#         for right in range(len(arr)):\n",
    "#             freq[arr[right]] = freq.get(arr[right], 0) + 1\n",
    "#             while len(freq) > 2:\n",
    "#                 freq[arr[left]] -= 1\n",
    "#                 if freq[arr[left]] == 0:\n",
    "#                     del freq[arr[left]]\n",
    "#                 left += 1\n",
    "#             max_len = max(max_len, right - left + 1)\n",
    "#         return max_len"
   ]
  },
  {
   "cell_type": "markdown",
   "metadata": {},
   "source": [
    "04  \n",
    "https://leetcode.com/problems/longest-repeating-character-replacement/description/"
   ]
  },
  {
   "cell_type": "code",
   "execution_count": null,
   "metadata": {},
   "outputs": [],
   "source": [
    "# class Solution:\n",
    "#     def characterReplacement(self, s: str, k: int) -> int:\n",
    "#         left=0\n",
    "#         max_count=0\n",
    "#         count=[0]*26\n",
    "#         result=0\n",
    "#         for right in range(len(s)):\n",
    "#             index=ord(s[right])-ord('A')\n",
    "#             count[index]+=1\n",
    "#             max_count=max(max_count,count[index])\n",
    "#             if (right-left+1)-max_count>k:\n",
    "#                 count[ord(s[left])-ord('A')]-=1\n",
    "#                 left+=1\n",
    "#             result=max(result,right-left+1)\n",
    "#         return result"
   ]
  },
  {
   "cell_type": "markdown",
   "metadata": {},
   "source": [
    "05  \n",
    "https://leetcode.com/problems/binary-subarrays-with-sum/description/"
   ]
  },
  {
   "cell_type": "code",
   "execution_count": null,
   "metadata": {},
   "outputs": [],
   "source": [
    "# class Solution:\n",
    "#     def numSubarraysWithSum(self, nums: List[int], goal: int) -> int:\n",
    "#         prefix = 0\n",
    "#         count = {0: 1}\n",
    "#         ans = 0\n",
    "#         for num in nums:\n",
    "#             prefix += num\n",
    "#             ans += count.get(prefix - goal, 0)\n",
    "#             count[prefix] = count.get(prefix, 0) + 1\n",
    "#         return ans"
   ]
  },
  {
   "cell_type": "markdown",
   "metadata": {},
   "source": [
    "06  \n",
    "https://leetcode.com/problems/count-number-of-nice-subarrays/description/"
   ]
  },
  {
   "cell_type": "code",
   "execution_count": null,
   "metadata": {},
   "outputs": [],
   "source": [
    "# from collections import defaultdict\n",
    "# class Solution:\n",
    "#     def numberOfSubarrays(self, nums: List[int], k: int) -> int:\n",
    "#         count = defaultdict(int)\n",
    "#         count[0] = 1  # There is one subarray (empty) with 0 odd numbers.\n",
    "#         odd_count = 0\n",
    "#         result = 0\n",
    "#         for num in nums:\n",
    "#             if num % 2 == 1:\n",
    "#                 odd_count += 1\n",
    "#             if (odd_count - k) in count:\n",
    "#                 result += count[odd_count - k]\n",
    "#             count[odd_count] += 1\n",
    "#         return result"
   ]
  },
  {
   "cell_type": "markdown",
   "metadata": {},
   "source": [
    "07  \n",
    "https://leetcode.com/problems/number-of-substrings-containing-all-three-characters/description/"
   ]
  },
  {
   "cell_type": "code",
   "execution_count": null,
   "metadata": {},
   "outputs": [],
   "source": [
    "# class Solution:\n",
    "#     def numberOfSubstrings(self, s: str) -> int:\n",
    "#         count = {'a': 0, 'b': 0, 'c': 0}\n",
    "#         res = 0\n",
    "#         start = 0\n",
    "#         for end in range(len(s)):\n",
    "#             count[s[end]] += 1\n",
    "#             # shrink window from the left while it's valid (contains a, b, c)\n",
    "#             while all(count[c] > 0 for c in 'abc'):\n",
    "#                 # all substrings from start to end are valid\n",
    "#                 res += len(s) - end\n",
    "#                 count[s[start]] -= 1\n",
    "#                 start += 1\n",
    "#         return res"
   ]
  },
  {
   "cell_type": "markdown",
   "metadata": {},
   "source": [
    "08  \n",
    "https://leetcode.com/problems/maximum-points-you-can-obtain-from-cards/description/"
   ]
  },
  {
   "cell_type": "code",
   "execution_count": null,
   "metadata": {},
   "outputs": [],
   "source": [
    "# class Solution:\n",
    "#     def maxScore(self, cardPoints: List[int], k: int) -> int:\n",
    "#         n = len(cardPoints)\n",
    "#         total = sum(cardPoints)\n",
    "#         window_size = n - k\n",
    "#         window_sum = sum(cardPoints[:window_size])\n",
    "#         min_window_sum = window_sum\n",
    "#         for i in range(window_size, n):\n",
    "#             window_sum += cardPoints[i] - cardPoints[i - window_size]\n",
    "#             min_window_sum = min(min_window_sum, window_sum)\n",
    "#         return total - min_window_sum"
   ]
  },
  {
   "cell_type": "markdown",
   "metadata": {},
   "source": [
    "09  \n"
   ]
  }
 ],
 "metadata": {
  "kernelspec": {
   "display_name": ".venv",
   "language": "python",
   "name": "python3"
  },
  "language_info": {
   "name": "python",
   "version": "3.12.7"
  }
 },
 "nbformat": 4,
 "nbformat_minor": 2
}
