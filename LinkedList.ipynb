{
 "cells": [
  {
   "cell_type": "markdown",
   "metadata": {},
   "source": [
    "01  \n",
    "https://www.geeksforgeeks.org/problems/introduction-to-linked-list/1"
   ]
  },
  {
   "cell_type": "code",
   "execution_count": null,
   "metadata": {},
   "outputs": [],
   "source": [
    "# # Node Class\n",
    "# class Node:\n",
    "#     def __init__(self, data):  # data -> value stored in node\n",
    "#         self.data = data\n",
    "#         self.next = None\n",
    "\n",
    "# class Solution:\n",
    "#     def constructLL(self, arr):\n",
    "#         if not arr:  # Edge case: If the array is empty\n",
    "#             return None\n",
    "        \n",
    "#         head = Node(arr[0])  # Initialize the head\n",
    "#         current = head  # Pointer to traverse the list\n",
    "\n",
    "#         for value in arr[1:]:  # Iterate over the rest of the array\n",
    "#             current.next = Node(value)  # Create a new node and link it\n",
    "#             current = current.next  # Move to the next node\n",
    "        \n",
    "#         return head  # Return the head of the linked list"
   ]
  },
  {
   "cell_type": "markdown",
   "metadata": {},
   "source": [
    "02  \n",
    "https://www.geeksforgeeks.org/problems/linked-list-insertion-1587115620/0"
   ]
  },
  {
   "cell_type": "code",
   "execution_count": null,
   "metadata": {},
   "outputs": [],
   "source": [
    "# # Node Class\n",
    "# class Node:\n",
    "#     def __init__(self, data):\n",
    "#         self.data = data\n",
    "#         self.next = None\n",
    "\n",
    "# class Solution:\n",
    "#     # Function to insert a node at the end of the linked list.\n",
    "#     def insertAtEnd(self, head, x):\n",
    "#         new_node = Node(x)  # Create a new node with the given value\n",
    "\n",
    "#         if not head:  # If the linked list is empty\n",
    "#             return new_node\n",
    "        \n",
    "#         current = head  # Pointer to traverse the linked list\n",
    "#         while current.next:  # Traverse until the last node\n",
    "#             current = current.next\n",
    "\n",
    "#         current.next = new_node  # Link the last node to the new node\n",
    "#         return head  # Return the modified linked list"
   ]
  },
  {
   "cell_type": "markdown",
   "metadata": {},
   "source": [
    "03  \n",
    "https://takeuforward.org/strivers-a2z-dsa-course/strivers-a2z-dsa-course-sheet-2"
   ]
  },
  {
   "cell_type": "code",
   "execution_count": null,
   "metadata": {},
   "outputs": [],
   "source": [
    "# # Definition for singly-linked list.\n",
    "# # class ListNode:\n",
    "# #     def __init__(self, x):\n",
    "# #         self.val = x\n",
    "# #         self.next = None\n",
    "\n",
    "# class Solution:\n",
    "#     def deleteNode(self, node):\n",
    "#         \"\"\"\n",
    "#         :type node: ListNode\n",
    "#         :rtype: void Do not return anything, modify node in-place instead.\n",
    "#         \"\"\"\n",
    "#         node.val=node.next.val\n",
    "#         node.next=node.next.next"
   ]
  },
  {
   "cell_type": "markdown",
   "metadata": {},
   "source": [
    "04  \n",
    "https://www.geeksforgeeks.org/problems/count-nodes-of-linked-list/0"
   ]
  },
  {
   "cell_type": "code",
   "execution_count": null,
   "metadata": {},
   "outputs": [],
   "source": [
    "# '''\n",
    "\n",
    "# #Linked list class\n",
    "# class LinkedList:\n",
    "#     def __init__(self):\n",
    "#         self.head=None\n",
    "#         self.tail=None\n",
    "#         '''\n",
    "# class Solution:\n",
    "#     # Function to count nodes of a linked list.\n",
    "#     def getCount(self, head):\n",
    "#         count=1\n",
    "#         current=head\n",
    "#         while current.next:\n",
    "#             current=current.next\n",
    "#             count+=1\n",
    "#         return count"
   ]
  },
  {
   "cell_type": "markdown",
   "metadata": {},
   "source": [
    "05  \n",
    "https://www.geeksforgeeks.org/problems/search-in-linked-list-1664434326/1"
   ]
  },
  {
   "cell_type": "code",
   "execution_count": null,
   "metadata": {},
   "outputs": [],
   "source": [
    "# ''' Node of a linked list\n",
    "# class Node:\n",
    "#     def __init__(self, data):\n",
    "#         self.data = data\n",
    "#         self.next = None\n",
    "# '''\n",
    "# class Solution:\n",
    "#     def searchKey(self, n, head, key):\n",
    "#         current=head\n",
    "#         while current is not None:\n",
    "#             if current.data==key:\n",
    "#                 return True\n",
    "#             current=current.next\n",
    "#         return False"
   ]
  },
  {
   "cell_type": "markdown",
   "metadata": {},
   "source": [
    "06  \n",
    "https://www.geeksforgeeks.org/problems/introduction-to-doubly-linked-list/1"
   ]
  },
  {
   "cell_type": "code",
   "execution_count": null,
   "metadata": {},
   "outputs": [],
   "source": [
    "# # Node Class\n",
    "# class Node:\n",
    "#     def __init__(self, data):   # data -> value stored in node\n",
    "#         self.data = data\n",
    "#         self.next = None\n",
    "#         self.prev = None\n",
    "\n",
    "# class Solution:\n",
    "#     def constructDLL(self, arr):\n",
    "#         if not arr:  # Edge case: empty list\n",
    "#             return None\n",
    "        \n",
    "#         head = Node(arr[0])  # Create the first node\n",
    "#         prev = head\n",
    "        \n",
    "#         for i in range(1, len(arr)):\n",
    "#             new_node = Node(arr[i])  # Create a new node\n",
    "#             prev.next = new_node  # Link previous node to new node\n",
    "#             new_node.prev = prev  # Link new node back to previous node\n",
    "#             prev = new_node  # Move the previous pointer\n",
    "        \n",
    "#         return head  # Return the head of the DLL"
   ]
  },
  {
   "cell_type": "markdown",
   "metadata": {},
   "source": [
    "07  \n",
    "https://www.geeksforgeeks.org/problems/insert-a-node-in-doubly-linked-list/1"
   ]
  },
  {
   "cell_type": "code",
   "execution_count": null,
   "metadata": {},
   "outputs": [],
   "source": [
    "# class Node:\n",
    "#     def __init__(self, data):\n",
    "#         self.data = data\n",
    "#         self.next = None\n",
    "#         self.prev = None\n",
    "\n",
    "# class Solution:\n",
    "#     # Function to insert a new node at a given position in a doubly linked list.\n",
    "#     def addNode(self, head, p, x):\n",
    "#         new_node = Node(x)  # Create the new node\n",
    "#         temp = head  # Start from the head\n",
    "        \n",
    "#         # Traverse to the p-th node (0-based index)\n",
    "#         for _ in range(p):\n",
    "#             if temp is None:\n",
    "#                 return head  # If p is out of bounds (should not happen per constraints)\n",
    "#             temp = temp.next\n",
    "        \n",
    "#         # Insert the new node after the p-th node\n",
    "#         new_node.next = temp.next  # Connect new node to p+1-th node\n",
    "#         new_node.prev = temp  # Connect new node to p-th node\n",
    "        \n",
    "#         if temp.next:  # If p+1-th node exists, update its prev pointer\n",
    "#             temp.next.prev = new_node\n",
    "        \n",
    "#         temp.next = new_node  # Update p-th node's next pointer\n",
    "        \n",
    "#         return head  # Return the modified head"
   ]
  }
 ],
 "metadata": {
  "kernelspec": {
   "display_name": ".venv",
   "language": "python",
   "name": "python3"
  },
  "language_info": {
   "name": "python",
   "version": "3.12.7"
  }
 },
 "nbformat": 4,
 "nbformat_minor": 2
}
