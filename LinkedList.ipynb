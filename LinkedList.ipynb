{
 "cells": [
  {
   "cell_type": "markdown",
   "metadata": {},
   "source": [
    "01  \n",
    "https://www.geeksforgeeks.org/problems/introduction-to-linked-list/1"
   ]
  },
  {
   "cell_type": "code",
   "execution_count": null,
   "metadata": {},
   "outputs": [],
   "source": [
    "# # Node Class\n",
    "# class Node:\n",
    "#     def __init__(self, data):  # data -> value stored in node\n",
    "#         self.data = data\n",
    "#         self.next = None\n",
    "\n",
    "# class Solution:\n",
    "#     def constructLL(self, arr):\n",
    "#         if not arr:  # Edge case: If the array is empty\n",
    "#             return None\n",
    "        \n",
    "#         head = Node(arr[0])  # Initialize the head\n",
    "#         current = head  # Pointer to traverse the list\n",
    "\n",
    "#         for value in arr[1:]:  # Iterate over the rest of the array\n",
    "#             current.next = Node(value)  # Create a new node and link it\n",
    "#             current = current.next  # Move to the next node\n",
    "        \n",
    "#         return head  # Return the head of the linked list"
   ]
  },
  {
   "cell_type": "markdown",
   "metadata": {},
   "source": [
    "02  \n",
    "https://www.geeksforgeeks.org/problems/linked-list-insertion-1587115620/0"
   ]
  },
  {
   "cell_type": "code",
   "execution_count": null,
   "metadata": {},
   "outputs": [],
   "source": [
    "# # Node Class\n",
    "# class Node:\n",
    "#     def __init__(self, data):\n",
    "#         self.data = data\n",
    "#         self.next = None\n",
    "\n",
    "# class Solution:\n",
    "#     # Function to insert a node at the end of the linked list.\n",
    "#     def insertAtEnd(self, head, x):\n",
    "#         new_node = Node(x)  # Create a new node with the given value\n",
    "\n",
    "#         if not head:  # If the linked list is empty\n",
    "#             return new_node\n",
    "        \n",
    "#         current = head  # Pointer to traverse the linked list\n",
    "#         while current.next:  # Traverse until the last node\n",
    "#             current = current.next\n",
    "\n",
    "#         current.next = new_node  # Link the last node to the new node\n",
    "#         return head  # Return the modified linked list"
   ]
  },
  {
   "cell_type": "markdown",
   "metadata": {},
   "source": [
    "03  \n",
    "https://takeuforward.org/strivers-a2z-dsa-course/strivers-a2z-dsa-course-sheet-2"
   ]
  },
  {
   "cell_type": "code",
   "execution_count": null,
   "metadata": {},
   "outputs": [],
   "source": [
    "# # Definition for singly-linked list.\n",
    "# # class ListNode:\n",
    "# #     def __init__(self, x):\n",
    "# #         self.val = x\n",
    "# #         self.next = None\n",
    "\n",
    "# class Solution:\n",
    "#     def deleteNode(self, node):\n",
    "#         \"\"\"\n",
    "#         :type node: ListNode\n",
    "#         :rtype: void Do not return anything, modify node in-place instead.\n",
    "#         \"\"\"\n",
    "#         node.val=node.next.val\n",
    "#         node.next=node.next.next"
   ]
  },
  {
   "cell_type": "markdown",
   "metadata": {},
   "source": [
    "04  \n",
    "https://www.geeksforgeeks.org/problems/count-nodes-of-linked-list/0"
   ]
  },
  {
   "cell_type": "code",
   "execution_count": null,
   "metadata": {},
   "outputs": [],
   "source": [
    "# '''\n",
    "\n",
    "# #Linked list class\n",
    "# class LinkedList:\n",
    "#     def __init__(self):\n",
    "#         self.head=None\n",
    "#         self.tail=None\n",
    "#         '''\n",
    "# class Solution:\n",
    "#     # Function to count nodes of a linked list.\n",
    "#     def getCount(self, head):\n",
    "#         count=1\n",
    "#         current=head\n",
    "#         while current.next:\n",
    "#             current=current.next\n",
    "#             count+=1\n",
    "#         return count"
   ]
  },
  {
   "cell_type": "markdown",
   "metadata": {},
   "source": [
    "05  \n",
    "https://www.geeksforgeeks.org/problems/search-in-linked-list-1664434326/1"
   ]
  },
  {
   "cell_type": "code",
   "execution_count": null,
   "metadata": {},
   "outputs": [],
   "source": [
    "# ''' Node of a linked list\n",
    "# class Node:\n",
    "#     def __init__(self, data):\n",
    "#         self.data = data\n",
    "#         self.next = None\n",
    "# '''\n",
    "# class Solution:\n",
    "#     def searchKey(self, n, head, key):\n",
    "#         current=head\n",
    "#         while current is not None:\n",
    "#             if current.data==key:\n",
    "#                 return True\n",
    "#             current=current.next\n",
    "#         return False"
   ]
  },
  {
   "cell_type": "markdown",
   "metadata": {},
   "source": [
    "06  \n",
    "https://www.geeksforgeeks.org/problems/introduction-to-doubly-linked-list/1"
   ]
  },
  {
   "cell_type": "code",
   "execution_count": null,
   "metadata": {},
   "outputs": [],
   "source": [
    "# # Node Class\n",
    "# class Node:\n",
    "#     def __init__(self, data):   # data -> value stored in node\n",
    "#         self.data = data\n",
    "#         self.next = None\n",
    "#         self.prev = None\n",
    "\n",
    "# class Solution:\n",
    "#     def constructDLL(self, arr):\n",
    "#         if not arr:  # Edge case: empty list\n",
    "#             return None\n",
    "        \n",
    "#         head = Node(arr[0])  # Create the first node\n",
    "#         prev = head\n",
    "        \n",
    "#         for i in range(1, len(arr)):\n",
    "#             new_node = Node(arr[i])  # Create a new node\n",
    "#             prev.next = new_node  # Link previous node to new node\n",
    "#             new_node.prev = prev  # Link new node back to previous node\n",
    "#             prev = new_node  # Move the previous pointer\n",
    "        \n",
    "#         return head  # Return the head of the DLL"
   ]
  },
  {
   "cell_type": "markdown",
   "metadata": {},
   "source": [
    "07  \n",
    "https://www.geeksforgeeks.org/problems/insert-a-node-in-doubly-linked-list/1"
   ]
  },
  {
   "cell_type": "code",
   "execution_count": null,
   "metadata": {},
   "outputs": [],
   "source": [
    "# class Node:\n",
    "#     def __init__(self, data):\n",
    "#         self.data = data\n",
    "#         self.next = None\n",
    "#         self.prev = None\n",
    "\n",
    "# class Solution:\n",
    "#     def addNode(self, head, p, x):\n",
    "#         new_node = Node(x)\n",
    "#         temp = head\n",
    "#         for _ in range(p):\n",
    "#             if temp is None:\n",
    "#                 return head\n",
    "#             temp = temp.next\n",
    "#         new_node.next = temp.next\n",
    "#         new_node.prev = temp\n",
    "#         if temp.next:\n",
    "#             temp.next.prev = new_node\n",
    "#         temp.next = new_node \n",
    "#         return head"
   ]
  },
  {
   "cell_type": "markdown",
   "metadata": {},
   "source": [
    "08  \n",
    "https://www.geeksforgeeks.org/problems/delete-node-in-doubly-linked-list/1"
   ]
  },
  {
   "cell_type": "code",
   "execution_count": null,
   "metadata": {},
   "outputs": [],
   "source": [
    "# class Node:\n",
    "#     def __init__(self, data):\n",
    "#         self.data = data\n",
    "#         self.next = None\n",
    "#         self.prev = None\n",
    "\n",
    "# class Solution:\n",
    "#     def delete_node(self, head, x):\n",
    "#         if not head:\n",
    "#             return None\n",
    "#         if x == 1:\n",
    "#             new_head = head.next\n",
    "#             if new_head:\n",
    "#                 new_head.prev = None\n",
    "#             return new_head\n",
    "#         temp = head\n",
    "#         count = 1\n",
    "#         while temp and count < x:\n",
    "#             temp = temp.next\n",
    "#             count += 1\n",
    "#         if not temp:\n",
    "#             return head\n",
    "#         if temp.next:\n",
    "#             temp.next.prev = temp.prev\n",
    "#         if temp.prev:\n",
    "#             temp.prev.next = temp.next\n",
    "#         return head"
   ]
  },
  {
   "cell_type": "markdown",
   "metadata": {},
   "source": [
    "09  \n",
    "https://www.geeksforgeeks.org/problems/reverse-a-doubly-linked-list/1"
   ]
  },
  {
   "cell_type": "code",
   "execution_count": null,
   "metadata": {},
   "outputs": [],
   "source": [
    "# class Solution:\n",
    "#     def reverseDLL(self, head):\n",
    "#         current=head\n",
    "#         prev=None\n",
    "#         while current:\n",
    "#             prev=current.prev\n",
    "#             current.prev=current.next\n",
    "#             current.next=prev\n",
    "#             current=current.prev\n",
    "#         return prev.prev if prev else head"
   ]
  },
  {
   "cell_type": "markdown",
   "metadata": {},
   "source": [
    "10  \n",
    "https://leetcode.com/problems/reverse-linked-list/description/"
   ]
  },
  {
   "cell_type": "code",
   "execution_count": null,
   "metadata": {},
   "outputs": [],
   "source": [
    "# # Definition for singly-linked list.\n",
    "# # class ListNode:\n",
    "# #     def __init__(self, val=0, next=None):\n",
    "# #         self.val = val\n",
    "# #         self.next = next\n",
    "# class Solution:\n",
    "#     def reverseList(self, head: Optional[ListNode]) -> Optional[ListNode]:\n",
    "#         current,prev=head,None\n",
    "#         while current:\n",
    "#             nextnode=current.next\n",
    "#             current.next=prev\n",
    "#             prev=current\n",
    "#             current=nextnode\n",
    "#         return prev"
   ]
  },
  {
   "cell_type": "markdown",
   "metadata": {},
   "source": [
    "11  \n",
    "https://leetcode.com/problems/linked-list-cycle/description/"
   ]
  },
  {
   "cell_type": "code",
   "execution_count": null,
   "metadata": {},
   "outputs": [],
   "source": [
    "# # Definition for singly-linked list.\n",
    "# # class ListNode:\n",
    "# #     def __init__(self, x):\n",
    "# #         self.val = x\n",
    "# #         self.next = None\n",
    "# class Solution:\n",
    "#     def hasCycle(self, head: Optional[ListNode]) -> bool:\n",
    "#         slow=fast=head\n",
    "#         while fast and fast.next:\n",
    "#             slow=slow.next\n",
    "#             fast=fast.next.next\n",
    "#             if slow==fast:\n",
    "#                 return True\n",
    "#         return False"
   ]
  },
  {
   "cell_type": "markdown",
   "metadata": {},
   "source": [
    "12  \n",
    "https://leetcode.com/problems/merge-two-sorted-lists/description/"
   ]
  },
  {
   "cell_type": "code",
   "execution_count": null,
   "metadata": {},
   "outputs": [],
   "source": [
    "# # Definition for singly-linked list.\n",
    "# # class ListNode:\n",
    "# #     def __init__(self, val=0, next=None):\n",
    "# #         self.val = val\n",
    "# #         self.next = next\n",
    "# class Solution:\n",
    "#     def mergeTwoLists(self, list1: Optional[ListNode], list2: Optional[ListNode]) -> Optional[ListNode]:\n",
    "#         head=current=ListNode()\n",
    "#         while list1 and list2:\n",
    "#             if list1.val<list2.val:\n",
    "#                 current.next=list1\n",
    "#                 list1=list1.next\n",
    "#             else:\n",
    "#                 current.next=list2\n",
    "#                 list2=list2.next\n",
    "#             current=current.next\n",
    "#         current.next=list1 or list2\n",
    "#         return head.next"
   ]
  },
  {
   "cell_type": "markdown",
   "metadata": {},
   "source": [
    "13  \n",
    "https://leetcode.com/problems/remove-nth-node-from-end-of-list/description/"
   ]
  },
  {
   "cell_type": "code",
   "execution_count": null,
   "metadata": {},
   "outputs": [],
   "source": [
    "# # Definition for singly-linked list.\n",
    "# # class ListNode:\n",
    "# #     def __init__(self, val=0, next=None):\n",
    "# #         self.val = val\n",
    "# #         self.next = next\n",
    "# class Solution:\n",
    "#     def removeNthFromEnd(self, head: Optional[ListNode], n: int) -> Optional[ListNode]:\n",
    "#         dummy=ListNode(0,head)\n",
    "#         first=second=dummy\n",
    "#         for i in range(n+1):\n",
    "#             first=first.next\n",
    "#         while first:\n",
    "#             first=first.next\n",
    "#             second=second.next\n",
    "#         second.next=second.next.next\n",
    "#         return dummy.next"
   ]
  },
  {
   "cell_type": "markdown",
   "metadata": {},
   "source": [
    "14  \n",
    "https://leetcode.com/problems/reorder-list/description/"
   ]
  },
  {
   "cell_type": "code",
   "execution_count": null,
   "metadata": {},
   "outputs": [],
   "source": [
    "# # Definition for singly-linked list.\n",
    "# # class ListNode:\n",
    "# #     def __init__(self, val=0, next=None):\n",
    "# #         self.val = val\n",
    "# #         self.next = next\n",
    "# class Solution:\n",
    "#     def reorderList(self, head: Optional[ListNode]) -> None:\n",
    "#         if not head or not head.next:\n",
    "#             return\n",
    "#         # Step 1: Find the middle of the list\n",
    "#         slow, fast = head, head\n",
    "#         while fast and fast.next:\n",
    "#             slow = slow.next\n",
    "#             fast = fast.next.next\n",
    "#         # Step 2: Reverse the second half\n",
    "#         prev, curr = None, slow.next\n",
    "#         slow.next = None  # Important to split the list\n",
    "#         while curr:\n",
    "#             next_node = curr.next\n",
    "#             curr.next = prev\n",
    "#             prev = curr\n",
    "#             curr = next_node\n",
    "#         # Step 3: Merge two halves\n",
    "#         first, second = head, prev\n",
    "#         while second:\n",
    "#             tmp1 = first.next\n",
    "#             tmp2 = second.next\n",
    "#             first.next = second\n",
    "#             second.next = tmp1\n",
    "#             first = tmp1\n",
    "#             second = tmp2"
   ]
  }
 ],
 "metadata": {
  "kernelspec": {
   "display_name": ".venv",
   "language": "python",
   "name": "python3"
  },
  "language_info": {
   "name": "python",
   "version": "3.12.7"
  }
 },
 "nbformat": 4,
 "nbformat_minor": 2
}
