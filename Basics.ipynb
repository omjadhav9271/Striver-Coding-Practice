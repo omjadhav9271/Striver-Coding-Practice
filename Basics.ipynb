{
 "cells": [
  {
   "cell_type": "markdown",
   "metadata": {},
   "source": [
    "01  \n",
    "https://www.geeksforgeeks.org/problems/data-type-1666706751/1"
   ]
  },
  {
   "cell_type": "code",
   "execution_count": null,
   "metadata": {},
   "outputs": [],
   "source": [
    "# class Solution:\n",
    "#     def dataTypeSize(self, str):\n",
    "#         data_sizes = {\n",
    "#             \"Character\": 1,  # In C/C++, it's 1 byte; in Java, it's 2 bytes.\n",
    "#             \"Integer\": 4,\n",
    "#             \"Long\": 8,\n",
    "#             \"Float\": 4,\n",
    "#             \"Double\": 8\n",
    "#         }\n",
    "#         return data_sizes.get(str, -1)"
   ]
  },
  {
   "cell_type": "markdown",
   "metadata": {},
   "source": [
    "02  \n",
    "https://www.geeksforgeeks.org/problems/java-if-else-decision-making0924/0?category%255B%255D=Java&difficulty%255B%255D=-2&page=1&query=category%255B%255DJavadifficulty%255B%255D-2page1category%255B%255DJava"
   ]
  },
  {
   "cell_type": "code",
   "execution_count": null,
   "metadata": {},
   "outputs": [],
   "source": [
    "# class Solution:\n",
    "#     def compareNM(self, n : int, m : int) -> str:\n",
    "#         if n<m:\n",
    "#             return \"lesser\"\n",
    "#         elif n==m:\n",
    "#             return \"equal\"\n",
    "#         else:\n",
    "#             return \"greater\""
   ]
  },
  {
   "cell_type": "markdown",
   "metadata": {},
   "source": [
    "03  \n",
    "https://www.geeksforgeeks.org/problems/java-switch-case-statement3529/1"
   ]
  },
  {
   "cell_type": "code",
   "execution_count": null,
   "metadata": {},
   "outputs": [],
   "source": [
    "# import math\n",
    "# class Solution:\n",
    "#     def switchCase(self, choice, arr):\n",
    "#         if choice==1:\n",
    "#             return math.pi*arr[0]**2\n",
    "#         if choice==2:\n",
    "#             return arr[0]*arr[1]"
   ]
  },
  {
   "cell_type": "markdown",
   "metadata": {},
   "source": [
    "04  \n",
    "https://www.geeksforgeeks.org/problems/while-loop-printtable-java/1"
   ]
  },
  {
   "cell_type": "code",
   "execution_count": null,
   "metadata": {},
   "outputs": [],
   "source": [
    "# class Solution:\n",
    "#     def reverseTable(self, n):\n",
    "#         i = 10  # Start from 10\n",
    "#         while i >= 1:\n",
    "#             print(n * i, end=\" \")  # Print n * i\n",
    "#             i -= 1  # Decrement i\n",
    "#         print()  # For a newline after output"
   ]
  },
  {
   "cell_type": "markdown",
   "metadata": {},
   "source": [
    "05  \n",
    "https://www.naukri.com/code360/problems/nth-fibonacci-number_74156"
   ]
  },
  {
   "cell_type": "code",
   "execution_count": null,
   "metadata": {},
   "outputs": [],
   "source": [
    "# class Solution:\n",
    "#     def nthFibonacci(self, n):\n",
    "#         if n == 1 or n == 2:\n",
    "#             return 1  # Base cases: F(1) = 1, F(2) = 1\n",
    "        \n",
    "#         a, b = 1, 1  # First two Fibonacci numbers\n",
    "#         for _ in range(3, n + 1):\n",
    "#             a, b = b, a + b  # Update values iteratively\n",
    "            \n",
    "#         return b  # Return the nth Fibonacci number"
   ]
  },
  {
   "cell_type": "markdown",
   "metadata": {},
   "source": [
    "06  \n",
    "https://www.geeksforgeeks.org/problems/count-digits5716/1"
   ]
  },
  {
   "cell_type": "code",
   "execution_count": null,
   "metadata": {},
   "outputs": [],
   "source": []
  }
 ],
 "metadata": {
  "kernelspec": {
   "display_name": ".venv",
   "language": "python",
   "name": "python3"
  },
  "language_info": {
   "name": "python",
   "version": "3.12.7"
  }
 },
 "nbformat": 4,
 "nbformat_minor": 2
}
