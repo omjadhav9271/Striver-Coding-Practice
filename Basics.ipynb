{
 "cells": [
  {
   "cell_type": "markdown",
   "metadata": {},
   "source": [
    "01  \n",
    "https://www.geeksforgeeks.org/problems/data-type-1666706751/1"
   ]
  },
  {
   "cell_type": "code",
   "execution_count": null,
   "metadata": {},
   "outputs": [],
   "source": [
    "# class Solution:\n",
    "#     def dataTypeSize(self, str):\n",
    "#         data_sizes = {\n",
    "#             \"Character\": 1,  # In C/C++, it's 1 byte; in Java, it's 2 bytes.\n",
    "#             \"Integer\": 4,\n",
    "#             \"Long\": 8,\n",
    "#             \"Float\": 4,\n",
    "#             \"Double\": 8\n",
    "#         }\n",
    "#         return data_sizes.get(str, -1)"
   ]
  },
  {
   "cell_type": "markdown",
   "metadata": {},
   "source": [
    "02  \n",
    "https://www.geeksforgeeks.org/problems/java-if-else-decision-making0924/0?category%255B%255D=Java&difficulty%255B%255D=-2&page=1&query=category%255B%255DJavadifficulty%255B%255D-2page1category%255B%255DJava"
   ]
  },
  {
   "cell_type": "code",
   "execution_count": null,
   "metadata": {},
   "outputs": [],
   "source": [
    "# class Solution:\n",
    "#     def compareNM(self, n : int, m : int) -> str:\n",
    "#         if n<m:\n",
    "#             return \"lesser\"\n",
    "#         elif n==m:\n",
    "#             return \"equal\"\n",
    "#         else:\n",
    "#             return \"greater\""
   ]
  },
  {
   "cell_type": "markdown",
   "metadata": {},
   "source": [
    "03  \n",
    "https://www.geeksforgeeks.org/problems/java-switch-case-statement3529/1"
   ]
  },
  {
   "cell_type": "code",
   "execution_count": null,
   "metadata": {},
   "outputs": [],
   "source": [
    "# import math\n",
    "# class Solution:\n",
    "#     def switchCase(self, choice, arr):\n",
    "#         if choice==1:\n",
    "#             return math.pi*arr[0]**2\n",
    "#         if choice==2:\n",
    "#             return arr[0]*arr[1]"
   ]
  },
  {
   "cell_type": "markdown",
   "metadata": {},
   "source": [
    "04  \n",
    "https://www.geeksforgeeks.org/problems/while-loop-printtable-java/1"
   ]
  },
  {
   "cell_type": "code",
   "execution_count": null,
   "metadata": {},
   "outputs": [],
   "source": [
    "# class Solution:\n",
    "#     def reverseTable(self, n):\n",
    "#         i = 10  # Start from 10\n",
    "#         while i >= 1:\n",
    "#             print(n * i, end=\" \")  # Print n * i\n",
    "#             i -= 1  # Decrement i\n",
    "#         print()  # For a newline after output"
   ]
  },
  {
   "cell_type": "markdown",
   "metadata": {},
   "source": [
    "05  \n",
    "https://www.naukri.com/code360/problems/nth-fibonacci-number_74156"
   ]
  },
  {
   "cell_type": "code",
   "execution_count": null,
   "metadata": {},
   "outputs": [],
   "source": [
    "# class Solution:\n",
    "#     def nthFibonacci(self, n):\n",
    "#         if n == 1 or n == 2:\n",
    "#             return 1  # Base cases: F(1) = 1, F(2) = 1\n",
    "        \n",
    "#         a, b = 1, 1  # First two Fibonacci numbers\n",
    "#         for _ in range(3, n + 1):\n",
    "#             a, b = b, a + b  # Update values iteratively\n",
    "            \n",
    "#         return b  # Return the nth Fibonacci number"
   ]
  },
  {
   "cell_type": "markdown",
   "metadata": {},
   "source": [
    "06  \n",
    "https://www.geeksforgeeks.org/problems/count-digits5716/1"
   ]
  },
  {
   "cell_type": "code",
   "execution_count": null,
   "metadata": {},
   "outputs": [],
   "source": [
    "# class Solution:\n",
    "#     def evenlyDivides(self, n):\n",
    "#         counter=0\n",
    "#         for i in str(n):\n",
    "#             if int(i)!=0 and n%int(i)==0:\n",
    "#                 counter+=1\n",
    "#         return counter"
   ]
  },
  {
   "cell_type": "markdown",
   "metadata": {},
   "source": [
    "07  \n",
    "https://leetcode.com/problems/reverse-integer/description/"
   ]
  },
  {
   "cell_type": "code",
   "execution_count": null,
   "metadata": {},
   "outputs": [],
   "source": [
    "# class Solution:\n",
    "#     def reverse(self, x: int) -> int:\n",
    "#         INT_MIN, INT_MAX = -2**31, 2**31 - 1\n",
    "#         result = 0\n",
    "#         sign = -1 if x < 0 else 1\n",
    "#         x = abs(x)\n",
    "#         while x:\n",
    "#             digit = x % 10\n",
    "#             x //= 10\n",
    "#             # Check for overflow before actually updating the result\n",
    "#             if result > (INT_MAX - digit) // 10:\n",
    "#                 return 0\n",
    "#             result = result * 10 + digit\n",
    "#         return sign * result"
   ]
  },
  {
   "cell_type": "markdown",
   "metadata": {},
   "source": [
    "08  \n",
    "https://leetcode.com/problems/palindrome-number/description/"
   ]
  },
  {
   "cell_type": "code",
   "execution_count": null,
   "metadata": {},
   "outputs": [],
   "source": [
    "# class Solution:\n",
    "#     def isPalindrome(self, x: int) -> bool:\n",
    "#         if x<0:\n",
    "#             return False\n",
    "#         y=x\n",
    "#         temp=0\n",
    "#         while x>0:\n",
    "#             temp=temp*10+x%10\n",
    "#             x//=10\n",
    "#         return temp==y"
   ]
  },
  {
   "cell_type": "markdown",
   "metadata": {},
   "source": [
    "09  \n",
    "https://www.geeksforgeeks.org/problems/lcm-and-gcd4516/1"
   ]
  },
  {
   "cell_type": "code",
   "execution_count": null,
   "metadata": {},
   "outputs": [],
   "source": [
    "# class Solution:\n",
    "#     def gcd(self, a: int, b: int) -> int:\n",
    "#         while b:\n",
    "#             a, b = b, a % b  # Euclidean Algorithm\n",
    "#         return a\n",
    "\n",
    "#     def lcmAndGcd(self, a: int, b: int) -> List[int]:\n",
    "#         gcd_value = self.gcd(a, b)  # Compute GCD\n",
    "#         lcm_value = (a * b) // gcd_value  # Compute LCM using LCM formula\n",
    "#         return [lcm_value, gcd_value]"
   ]
  },
  {
   "cell_type": "markdown",
   "metadata": {},
   "source": [
    "10  \n",
    "https://www.geeksforgeeks.org/problems/armstrong-numbers2727/1"
   ]
  },
  {
   "cell_type": "code",
   "execution_count": null,
   "metadata": {},
   "outputs": [],
   "source": [
    "# class Solution:\n",
    "#     def armstrongNumber (self, n):\n",
    "#         result=0\n",
    "#         for i in str(n):\n",
    "#             result+=int(i)**len(str(n))\n",
    "#         return result==n"
   ]
  },
  {
   "cell_type": "markdown",
   "metadata": {},
   "source": [
    "11  \n",
    "https://www.geeksforgeeks.org/problems/sum-of-all-divisors-from-1-to-n4738/1"
   ]
  },
  {
   "cell_type": "code",
   "execution_count": null,
   "metadata": {},
   "outputs": [],
   "source": [
    "# class Solution:\n",
    "#     def sumOfDivisors(self, n: int) -> int:\n",
    "#         total_sum = 0\n",
    "#         for i in range(1, n + 1):\n",
    "#             # Every number 'i' contributes to its multiples\n",
    "#             total_sum += (n // i) * i  \n",
    "#         return total_sum"
   ]
  },
  {
   "cell_type": "markdown",
   "metadata": {},
   "source": [
    "12  \n",
    "https://www.geeksforgeeks.org/problems/minimum-number-of-jumps-1587115620/1"
   ]
  },
  {
   "cell_type": "code",
   "execution_count": null,
   "metadata": {},
   "outputs": [],
   "source": [
    "# class Solution:\n",
    "#     def minJumps(self, arr):\n",
    "#         n = len(arr)\n",
    "#         if n == 1:\n",
    "#             return 0\n",
    "#         if arr[0] == 0:\n",
    "#             return -1\n",
    "#         jumps = 1\n",
    "#         farthest = arr[0]\n",
    "#         current_end = arr[0]\n",
    "#         for i in range(1, n):\n",
    "#             if i == n - 1:\n",
    "#                 return jumps\n",
    "#             farthest = max(farthest, i + arr[i])\n",
    "#             if i == current_end:\n",
    "#                 jumps += 1\n",
    "#                 current_end = farthest\n",
    "#                 if current_end <= i:\n",
    "#                     return -1\n",
    "#         return -1"
   ]
  },
  {
   "cell_type": "markdown",
   "metadata": {},
   "source": [
    "13  \n",
    "https://www.geeksforgeeks.org/problems/print-1-to-n-without-using-loops-1587115620/1"
   ]
  },
  {
   "cell_type": "code",
   "execution_count": null,
   "metadata": {},
   "outputs": [],
   "source": [
    "# class Solution:\n",
    "#     def printNos(self,n):\n",
    "#         if n==0:\n",
    "#             return\n",
    "#         self.printNos(n-1)\n",
    "#         print(n,end=\" \")"
   ]
  },
  {
   "cell_type": "markdown",
   "metadata": {},
   "source": [
    "14  \n",
    "https://www.geeksforgeeks.org/problems/print-gfg-n-times/1"
   ]
  },
  {
   "cell_type": "code",
   "execution_count": null,
   "metadata": {},
   "outputs": [],
   "source": [
    "# class Solution:\n",
    "#     def printGfg(self, n):\n",
    "#         if n==0:\n",
    "#             return\n",
    "#         self.printGfg(n-1)\n",
    "#         print(\"GFG\",end=\" \")"
   ]
  },
  {
   "cell_type": "markdown",
   "metadata": {},
   "source": [
    "15  \n",
    "https://www.geeksforgeeks.org/problems/print-n-to-1-without-loop/1"
   ]
  },
  {
   "cell_type": "code",
   "execution_count": null,
   "metadata": {},
   "outputs": [],
   "source": [
    "# class Solution:\n",
    "#     def printNos(self, n):\n",
    "#         if n==0:\n",
    "#             return\n",
    "#         print(n,end=\" \")\n",
    "#         self.printNos(n-1)"
   ]
  },
  {
   "cell_type": "markdown",
   "metadata": {},
   "source": [
    "16  \n",
    "https://www.geeksforgeeks.org/problems/sum-of-first-n-terms5843/1"
   ]
  },
  {
   "cell_type": "code",
   "execution_count": null,
   "metadata": {},
   "outputs": [],
   "source": [
    "# class Solution:\n",
    "#     def sumOfSeries(self,n):\n",
    "#         sum=0\n",
    "#         while n>0:\n",
    "#             sum+=n**3\n",
    "#             n-=1\n",
    "#         return sum"
   ]
  },
  {
   "cell_type": "markdown",
   "metadata": {},
   "source": [
    "17  \n",
    "https://www.geeksforgeeks.org/problems/find-all-factorial-numbers-less-than-or-equal-to-n3548/0?problemType=functional&difficulty%255B%255D=-1&page=1&query=problemTypefunctionaldifficulty%255B%255D-1page1"
   ]
  },
  {
   "cell_type": "code",
   "execution_count": null,
   "metadata": {},
   "outputs": [],
   "source": [
    "# class Solution:\n",
    "#     def factorialNumbers(self, n):\n",
    "#         result=[]\n",
    "#         fact,i=1,1\n",
    "#         while fact<=n:\n",
    "#             result.append(fact)\n",
    "#             i+=1\n",
    "#             fact*=i\n",
    "#         return result"
   ]
  },
  {
   "cell_type": "markdown",
   "metadata": {},
   "source": [
    "18  \n",
    "https://www.geeksforgeeks.org/problems/reverse-an-array/0"
   ]
  },
  {
   "cell_type": "code",
   "execution_count": null,
   "metadata": {},
   "outputs": [],
   "source": [
    "# class Solution:\n",
    "#     def reverseArray(self, arr):\n",
    "#         left,right=0,len(arr)-1\n",
    "#         while left<right:\n",
    "#             arr[left],arr[right]=arr[right],arr[left]\n",
    "#             left+=1\n",
    "#             right-=1\n",
    "#         return arr"
   ]
  },
  {
   "cell_type": "markdown",
   "metadata": {},
   "source": [
    "19  \n",
    "https://leetcode.com/problems/valid-palindrome/description/"
   ]
  },
  {
   "cell_type": "code",
   "execution_count": null,
   "metadata": {},
   "outputs": [],
   "source": [
    "# class Solution:\n",
    "#     def isPalindrome(self, s: str) -> bool:\n",
    "#         l,r=0,len(s)-1\n",
    "\n",
    "#         while l<r:\n",
    "#             if not s[l].isalnum():\n",
    "#                 l+=1\n",
    "#             elif not s[r].isalnum():\n",
    "#                 r-=1\n",
    "#             elif s[l].lower()==s[r].lower():\n",
    "#                 l+=1\n",
    "#                 r-=1\n",
    "#             else:\n",
    "#                 return False\n",
    "#         return True"
   ]
  },
  {
   "cell_type": "markdown",
   "metadata": {},
   "source": [
    "20  \n",
    "https://leetcode.com/problems/fibonacci-number/description/"
   ]
  },
  {
   "cell_type": "code",
   "execution_count": null,
   "metadata": {},
   "outputs": [],
   "source": [
    "# class Solution:\n",
    "#     def fib(self, n: int) -> int:\n",
    "#         if n==0:\n",
    "#             return 0\n",
    "#         if n==1:\n",
    "#             return 1\n",
    "#         return self.fib(n-1)+self.fib(n-2)"
   ]
  },
  {
   "cell_type": "code",
   "execution_count": null,
   "metadata": {},
   "outputs": [],
   "source": [
    "# class Solution:\n",
    "#     def fib(self, n: int) -> int:\n",
    "#         if n==0:\n",
    "#             return 0\n",
    "#         if n==1:\n",
    "#             return 1\n",
    "#         dp=[0]*(n+1)\n",
    "#         dp[0],dp[1]=0,1\n",
    "#         for i in range(2,n+1):\n",
    "#             dp[i]=dp[i-1]+dp[i-2]\n",
    "#         return dp[n]"
   ]
  },
  {
   "cell_type": "markdown",
   "metadata": {},
   "source": [
    "21  \n",
    "https://www.geeksforgeeks.org/problems/frequency-of-array-elements-1587115620/0"
   ]
  },
  {
   "cell_type": "code",
   "execution_count": null,
   "metadata": {},
   "outputs": [],
   "source": [
    "# class Solution:\n",
    "#     def frequencyCount(self, arr):\n",
    "#         n=len(arr)\n",
    "#         freq=[0]*n\n",
    "#         for num in arr:\n",
    "#             if 1<=num<=n:\n",
    "#                 freq[num-1]+=1\n",
    "#         return freq"
   ]
  },
  {
   "cell_type": "markdown",
   "metadata": {},
   "source": [
    "22  \n",
    "https://leetcode.com/problems/frequency-of-the-most-frequent-element/description/"
   ]
  },
  {
   "cell_type": "code",
   "execution_count": null,
   "metadata": {},
   "outputs": [],
   "source": [
    "class Solution:\n",
    "    def maxFrequency(self, nums: List[int], k: int) -> int:\n",
    "        nums.sort()  # Step 1: Sort the array\n",
    "        left = 0\n",
    "        total = 0\n",
    "        max_freq = 1\n",
    "        \n",
    "        for right in range(len(nums)):\n",
    "            total += nums[right]  # Add the new element to the sum\n",
    "            \n",
    "            # Calculate cost to make all elements in the window equal to nums[right]\n",
    "            while (right - left + 1) * nums[right] - total > k:\n",
    "                total -= nums[left]  # Remove leftmost element from total\n",
    "                left += 1  # Shrink window\n",
    "            \n",
    "            # Update maximum frequency\n",
    "            max_freq = max(max_freq, right - left + 1)\n",
    "        \n",
    "        return max_freq"
   ]
  }
 ],
 "metadata": {
  "kernelspec": {
   "display_name": ".venv",
   "language": "python",
   "name": "python3"
  },
  "language_info": {
   "name": "python",
   "version": "3.12.7"
  }
 },
 "nbformat": 4,
 "nbformat_minor": 2
}
