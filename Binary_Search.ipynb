{
 "cells": [
  {
   "cell_type": "markdown",
   "metadata": {},
   "source": [
    "01  \n",
    "https://leetcode.com/problems/binary-search/description/"
   ]
  },
  {
   "cell_type": "code",
   "execution_count": null,
   "metadata": {},
   "outputs": [],
   "source": [
    "# class Solution:\n",
    "#     def search(self, nums: List[int], target: int) -> int:\n",
    "#         left,right=0,len(nums)\n",
    "#         while left<right:\n",
    "#             mid=(left+right)//2\n",
    "#             if nums[mid]==target:\n",
    "#                 return mid\n",
    "#             elif nums[mid] <= target:\n",
    "#                 left=mid+1\n",
    "#             else:\n",
    "#                 right=mid\n",
    "#         return -1"
   ]
  },
  {
   "cell_type": "markdown",
   "metadata": {},
   "source": [
    "02  \n",
    "https://www.geeksforgeeks.org/problems/floor-in-a-sorted-array-1587115620/1?track=DSASP-Searching&amp%253BbatchId=154"
   ]
  },
  {
   "cell_type": "code",
   "execution_count": null,
   "metadata": {},
   "outputs": [],
   "source": [
    "# class Solution:\n",
    "#     def findFloor(self, arr, x):\n",
    "#         if arr[0]>x:\n",
    "#             return -1\n",
    "#         left,right=0,len(arr)\n",
    "#         while left<right:\n",
    "#             mid=(left+right)//2\n",
    "#             if arr[mid]<=x:\n",
    "#                 if mid==len(arr)-1 or arr[mid+1]>x:\n",
    "#                     return mid\n",
    "#                 left=mid+1\n",
    "#             else :\n",
    "#                 right=mid\n",
    "#         return -1"
   ]
  },
  {
   "cell_type": "markdown",
   "metadata": {},
   "source": [
    "03  \n"
   ]
  }
 ],
 "metadata": {
  "kernelspec": {
   "display_name": ".venv",
   "language": "python",
   "name": "python3"
  },
  "language_info": {
   "name": "python",
   "version": "3.12.7"
  }
 },
 "nbformat": 4,
 "nbformat_minor": 2
}
