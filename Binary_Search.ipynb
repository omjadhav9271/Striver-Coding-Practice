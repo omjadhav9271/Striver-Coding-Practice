{
 "cells": [
  {
   "cell_type": "markdown",
   "metadata": {},
   "source": [
    "01  \n",
    "https://leetcode.com/problems/binary-search/description/"
   ]
  },
  {
   "cell_type": "code",
   "execution_count": null,
   "metadata": {},
   "outputs": [],
   "source": [
    "# class Solution:\n",
    "#     def search(self, nums: List[int], target: int) -> int:\n",
    "#         left,right=0,len(nums)\n",
    "#         while left<right:\n",
    "#             mid=(left+right)//2\n",
    "#             if nums[mid]==target:\n",
    "#                 return mid\n",
    "#             elif nums[mid] <= target:\n",
    "#                 left=mid+1\n",
    "#             else:\n",
    "#                 right=mid\n",
    "#         return -1"
   ]
  },
  {
   "cell_type": "markdown",
   "metadata": {},
   "source": [
    "02  \n",
    "https://www.geeksforgeeks.org/problems/floor-in-a-sorted-array-1587115620/1?track=DSASP-Searching&amp%253BbatchId=154"
   ]
  },
  {
   "cell_type": "code",
   "execution_count": null,
   "metadata": {},
   "outputs": [],
   "source": [
    "# class Solution:\n",
    "#     def findFloor(self, arr, x):\n",
    "#         if arr[0]>x:\n",
    "#             return -1\n",
    "#         left,right=0,len(arr)\n",
    "#         while left<right:\n",
    "#             mid=(left+right)//2\n",
    "#             if arr[mid]<=x:\n",
    "#                 if mid==len(arr)-1 or arr[mid+1]>x:\n",
    "#                     return mid\n",
    "#                 left=mid+1\n",
    "#             else :\n",
    "#                 right=mid\n",
    "#         return -1"
   ]
  },
  {
   "cell_type": "markdown",
   "metadata": {},
   "source": [
    "03  \n",
    "https://leetcode.com/problems/search-in-rotated-sorted-array-ii/description/"
   ]
  },
  {
   "cell_type": "code",
   "execution_count": null,
   "metadata": {},
   "outputs": [],
   "source": [
    "# class Solution:\n",
    "#     def search(self, nums: List[int], target: int) -> bool:\n",
    "#         left, right = 0, len(nums) - 1\n",
    "#         while left <= right:\n",
    "#             mid = (left + right) // 2\n",
    "#             if nums[mid] == target:\n",
    "#                 return True\n",
    "#             # If we can't determine the sorted half due to duplicates\n",
    "#             if nums[left] == nums[mid] == nums[right]:\n",
    "#                 left += 1\n",
    "#                 right -= 1\n",
    "#             # Left half is sorted\n",
    "#             elif nums[left] <= nums[mid]:\n",
    "#                 if nums[left] <= target < nums[mid]:\n",
    "#                     right = mid - 1\n",
    "#                 else:\n",
    "#                     left = mid + 1\n",
    "#             # Right half is sorted\n",
    "#             else:\n",
    "#                 if nums[mid] < target <= nums[right]:\n",
    "#                     left = mid + 1\n",
    "#                 else:\n",
    "#                     right = mid - 1\n",
    "#         return False"
   ]
  },
  {
   "cell_type": "markdown",
   "metadata": {},
   "source": [
    "04  \n",
    "https://leetcode.com/problems/find-minimum-in-rotated-sorted-array/description/"
   ]
  },
  {
   "cell_type": "code",
   "execution_count": null,
   "metadata": {},
   "outputs": [],
   "source": [
    "# class Solution:\n",
    "#     def findMin(self, nums: List[int]) -> int:\n",
    "#         low,high=0,len(nums)-1\n",
    "#         while low<high:\n",
    "#             mid=(low+high)//2\n",
    "#             if nums[mid]>nums[high]:\n",
    "#                 low=mid+1\n",
    "#             else:\n",
    "#                 high=mid\n",
    "#         return nums[low]"
   ]
  },
  {
   "cell_type": "markdown",
   "metadata": {},
   "source": [
    "05  \n",
    "https://leetcode.com/problems/find-peak-element/description/"
   ]
  },
  {
   "cell_type": "code",
   "execution_count": null,
   "metadata": {},
   "outputs": [],
   "source": [
    "# class Solution:\n",
    "#     def findPeakElement(self, nums: List[int]) -> int:\n",
    "#         left, right = 0, len(nums) - 1\n",
    "#         while left < right:\n",
    "#             mid = (left + right) // 2\n",
    "#             if nums[mid] < nums[mid + 1]:\n",
    "#                 # Move to the right side\n",
    "#                 left = mid + 1\n",
    "#             else:\n",
    "#                 # Move to the left side (including mid)\n",
    "#                 right = mid\n",
    "#         return left"
   ]
  },
  {
   "cell_type": "markdown",
   "metadata": {},
   "source": [
    "06  \n"
   ]
  }
 ],
 "metadata": {
  "kernelspec": {
   "display_name": ".venv",
   "language": "python",
   "name": "python3"
  },
  "language_info": {
   "name": "python",
   "version": "3.12.7"
  }
 },
 "nbformat": 4,
 "nbformat_minor": 2
}
