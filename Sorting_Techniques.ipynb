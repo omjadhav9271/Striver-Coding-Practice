{
 "cells": [
  {
   "cell_type": "markdown",
   "metadata": {},
   "source": [
    "01  \n",
    "https://www.geeksforgeeks.org/problems/selection-sort/1"
   ]
  },
  {
   "cell_type": "code",
   "execution_count": null,
   "metadata": {},
   "outputs": [],
   "source": [
    "# class Solution: \n",
    "#     def selectionSort(self, arr):\n",
    "#         #code here\n",
    "#         n=len(arr)\n",
    "#         for i in range(n):\n",
    "#             min_index=i\n",
    "#             for j in range(i+1,n):\n",
    "#                 if arr[j]<arr[min_index]:\n",
    "#                     min_index=j\n",
    "#             arr[i],arr[min_index]=arr[min_index],arr[i]\n",
    "#         return arr"
   ]
  },
  {
   "cell_type": "markdown",
   "metadata": {},
   "source": [
    "02  \n",
    "https://www.geeksforgeeks.org/problems/bubble-sort/1"
   ]
  },
  {
   "cell_type": "code",
   "execution_count": 2,
   "metadata": {},
   "outputs": [],
   "source": [
    "# class Solution:\n",
    "#     def bubbleSort(self,arr):\n",
    "#         n=len(arr)\n",
    "#         for i in range(n):\n",
    "#             for j in range(0,n-i-1):\n",
    "#                 if arr[j]>arr[j+1]:\n",
    "#                     arr[j+1],arr[j]=arr[j],arr[j+1]\n",
    "#         return arr"
   ]
  },
  {
   "cell_type": "markdown",
   "metadata": {},
   "source": [
    "03  \n",
    "https://www.geeksforgeeks.org/problems/insertion-sort/0?category%5B%5D=Algorithms&page=1&query=category%5B%5DAlgorithmspage1"
   ]
  },
  {
   "cell_type": "code",
   "execution_count": null,
   "metadata": {},
   "outputs": [],
   "source": [
    "# # Please change the array in-place\n",
    "# class Solution:\n",
    "#     def insertionSort(self, arr):\n",
    "#         #code here\n",
    "#         for i in range(1,len(arr)):\n",
    "#             key=arr[i]\n",
    "#             j=i-1\n",
    "#             while j>=0 and arr[j]>key:\n",
    "#                 arr[j+1]=arr[j]\n",
    "#                 j-=1\n",
    "#             arr[j+1]=key\n",
    "#         return arr"
   ]
  },
  {
   "cell_type": "markdown",
   "metadata": {},
   "source": [
    "04  \n",
    "https://www.geeksforgeeks.org/problems/merge-sort/1"
   ]
  },
  {
   "cell_type": "code",
   "execution_count": null,
   "metadata": {},
   "outputs": [],
   "source": [
    "# class Solution:\n",
    "#     def mergeSort(self, arr, l, r):\n",
    "#         if l >= r:\n",
    "#             return\n",
    "#         m = (l + r) // 2\n",
    "#         self.mergeSort(arr, l, m)\n",
    "#         self.mergeSort(arr, m + 1, r)\n",
    "#         self.merge(arr, l, m, r)\n",
    "#     def merge(self, arr, l, m, r):\n",
    "#         temp = []\n",
    "#         i, j = l, m + 1\n",
    "#         while i <= m and j <= r:\n",
    "#             if arr[i] <= arr[j]:\n",
    "#                 temp.append(arr[i])\n",
    "#                 i += 1\n",
    "#             else:\n",
    "#                 temp.append(arr[j])\n",
    "#                 j += 1\n",
    "#         temp.extend(arr[i:m+1])\n",
    "#         temp.extend(arr[j:r+1])\n",
    "#         arr[l:r+1] = temp"
   ]
  }
 ],
 "metadata": {
  "kernelspec": {
   "display_name": ".venv",
   "language": "python",
   "name": "python3"
  },
  "language_info": {
   "codemirror_mode": {
    "name": "ipython",
    "version": 3
   },
   "file_extension": ".py",
   "mimetype": "text/x-python",
   "name": "python",
   "nbconvert_exporter": "python",
   "pygments_lexer": "ipython3",
   "version": "3.12.7"
  }
 },
 "nbformat": 4,
 "nbformat_minor": 2
}
