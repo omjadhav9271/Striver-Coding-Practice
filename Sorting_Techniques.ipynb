{
 "cells": [
  {
   "cell_type": "markdown",
   "metadata": {},
   "source": [
    "01  \n",
    "https://www.geeksforgeeks.org/problems/selection-sort/1"
   ]
  },
  {
   "cell_type": "code",
   "execution_count": null,
   "metadata": {},
   "outputs": [],
   "source": [
    "# class Solution: \n",
    "#     def selectionSort(self, arr):\n",
    "#         #code here\n",
    "#         n=len(arr)\n",
    "#         for i in range(n):\n",
    "#             min_index=i\n",
    "#             for j in range(i+1,n):\n",
    "#                 if arr[j]<arr[min_index]:\n",
    "#                     min_index=j\n",
    "#             arr[i],arr[min_index]=arr[min_index],arr[i]\n",
    "#         return arr"
   ]
  },
  {
   "cell_type": "markdown",
   "metadata": {},
   "source": [
    "02  \n",
    "https://www.geeksforgeeks.org/problems/bubble-sort/1"
   ]
  },
  {
   "cell_type": "code",
   "execution_count": 2,
   "metadata": {},
   "outputs": [],
   "source": [
    "# class Solution:\n",
    "#     def bubbleSort(self,arr):\n",
    "#         n=len(arr)\n",
    "#         for i in range(n):\n",
    "#             for j in range(0,n-i-1):\n",
    "#                 if arr[j]>arr[j+1]:\n",
    "#                     arr[j+1],arr[j]=arr[j],arr[j+1]\n",
    "#         return arr"
   ]
  },
  {
   "cell_type": "markdown",
   "metadata": {},
   "source": [
    "03  \n",
    "https://www.geeksforgeeks.org/problems/insertion-sort/0?category%5B%5D=Algorithms&page=1&query=category%5B%5DAlgorithmspage1"
   ]
  },
  {
   "cell_type": "code",
   "execution_count": null,
   "metadata": {},
   "outputs": [],
   "source": [
    "# # Please change the array in-place\n",
    "# class Solution:\n",
    "#     def insertionSort(self, arr):\n",
    "#         #code here\n",
    "#         for i in range(1,len(arr)):\n",
    "#             key=arr[i]\n",
    "#             j=i-1\n",
    "#             while j>=0 and arr[j]>key:\n",
    "#                 arr[j+1]=arr[j]\n",
    "#                 j-=1\n",
    "#             arr[j+1]=key\n",
    "#         return arr"
   ]
  },
  {
   "cell_type": "markdown",
   "metadata": {},
   "source": [
    "04  \n",
    "https://www.geeksforgeeks.org/problems/merge-sort/1"
   ]
  },
  {
   "cell_type": "code",
   "execution_count": null,
   "metadata": {},
   "outputs": [],
   "source": [
    "# class Solution:\n",
    "#     def mergeSort(self, arr, l, r):\n",
    "#         def merge(arr, l, m, r):\n",
    "#             temp = []\n",
    "#             i, j = l, m + 1\n",
    "#             while i <= m and j <= r:\n",
    "#                 if arr[i] <= arr[j]:\n",
    "#                     temp.append(arr[i])\n",
    "#                     i += 1\n",
    "#                 else:\n",
    "#                     temp.append(arr[j])\n",
    "#                     j += 1\n",
    "#             temp.extend(arr[i:m+1])\n",
    "#             temp.extend(arr[j:r+1])\n",
    "#             arr[l:r+1] = temp\n",
    "#         if l < r:\n",
    "#             m = (l + r) // 2\n",
    "#             self.mergeSort(arr, l, m)\n",
    "#             self.mergeSort(arr, m + 1, r)\n",
    "#             merge(arr, l, m, r)"
   ]
  },
  {
   "cell_type": "markdown",
   "metadata": {},
   "source": [
    "05  \n",
    "https://www.geeksforgeeks.org/problems/bubble-sort/1"
   ]
  },
  {
   "cell_type": "code",
   "execution_count": null,
   "metadata": {},
   "outputs": [],
   "source": [
    "# class Solution:\n",
    "#     # Function to sort the array using bubble sort algorithm.\n",
    "#     def bubbleSort(self, arr):\n",
    "#         n = len(arr)\n",
    "#         for i in range(n):\n",
    "#             # Track whether any swaps were made during this pass\n",
    "#             swapped = False\n",
    "#             # Last i elements are already in place\n",
    "#             for j in range(0, n - i - 1):\n",
    "#                 if arr[j] > arr[j + 1]:\n",
    "#                     # Swap the elements\n",
    "#                     arr[j], arr[j + 1] = arr[j + 1], arr[j]\n",
    "#                     swapped = True\n",
    "#             # If no two elements were swapped by inner loop, then break\n",
    "#             if not swapped:\n",
    "#                 break"
   ]
  },
  {
   "cell_type": "markdown",
   "metadata": {},
   "source": [
    "06  \n",
    "https://www.geeksforgeeks.org/problems/insertion-sort/1"
   ]
  },
  {
   "cell_type": "code",
   "execution_count": null,
   "metadata": {},
   "outputs": [],
   "source": [
    "# # Please change the array in-place\n",
    "# class Solution:\n",
    "#     def insertionSort(self, arr):\n",
    "#         for i in range(1,len(arr)):\n",
    "#             key=arr[i]\n",
    "#             j=i-1\n",
    "#             while j>=0 and arr[j]>key:\n",
    "#                 arr[j+1]=arr[j]\n",
    "#                 j-=1\n",
    "#             arr[j+1]=key\n",
    "#         return arr"
   ]
  },
  {
   "cell_type": "markdown",
   "metadata": {},
   "source": [
    "07  \n",
    "https://www.geeksforgeeks.org/problems/quick-sort/1"
   ]
  },
  {
   "cell_type": "code",
   "execution_count": null,
   "metadata": {},
   "outputs": [],
   "source": [
    "# class Solution:\n",
    "#     # Function to sort an array using quick sort algorithm.\n",
    "#     def quickSort(self, arr, low, high):\n",
    "#         if low < high:\n",
    "#             # pi is partitioning index, arr[pi] is now at right place\n",
    "#             pi = self.partition(arr, low, high)\n",
    "#             # Recursively sort elements before and after partition\n",
    "#             self.quickSort(arr, low, pi - 1)\n",
    "#             self.quickSort(arr, pi + 1, high)\n",
    "#     # Function to partition the array on the basis of pivot element\n",
    "#     def partition(self, arr, low, high):\n",
    "#         pivot = arr[high]  # pivot\n",
    "#         i = low - 1        # index of smaller element\n",
    "#         for j in range(low, high):\n",
    "#             # If current element is smaller than or equal to pivot\n",
    "#             if arr[j] <= pivot:\n",
    "#                 i += 1\n",
    "#                 arr[i], arr[j] = arr[j], arr[i]  # swap\n",
    "#         # Swap the pivot element with the element at i+1\n",
    "#         arr[i + 1], arr[high] = arr[high], arr[i + 1]\n",
    "#         return i + 1"
   ]
  }
 ],
 "metadata": {
  "kernelspec": {
   "display_name": ".venv",
   "language": "python",
   "name": "python3"
  },
  "language_info": {
   "codemirror_mode": {
    "name": "ipython",
    "version": 3
   },
   "file_extension": ".py",
   "mimetype": "text/x-python",
   "name": "python",
   "nbconvert_exporter": "python",
   "pygments_lexer": "ipython3",
   "version": "3.12.7"
  }
 },
 "nbformat": 4,
 "nbformat_minor": 2
}
