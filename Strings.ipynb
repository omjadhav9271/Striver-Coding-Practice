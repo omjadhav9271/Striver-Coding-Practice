{
 "cells": [
  {
   "cell_type": "markdown",
   "metadata": {},
   "source": [
    "01  \n",
    "https://leetcode.com/problems/remove-outermost-parentheses/description/"
   ]
  },
  {
   "cell_type": "code",
   "execution_count": null,
   "metadata": {},
   "outputs": [],
   "source": [
    "# class Solution:\n",
    "#     def removeOuterParentheses(self, s: str) -> str:\n",
    "#         result = []\n",
    "#         balance = 0  # To track the balance of parentheses\n",
    "        \n",
    "#         for char in s:\n",
    "#             if char == '(':\n",
    "#                 if balance > 0:  # Avoid adding the first '(' of a primitive\n",
    "#                     result.append(char)\n",
    "#                 balance += 1\n",
    "#             else:  # char == ')'\n",
    "#                 balance -= 1\n",
    "#                 if balance > 0:  # Avoid adding the last ')' of a primitive\n",
    "#                     result.append(char)\n",
    "        \n",
    "#         return \"\".join(result)"
   ]
  },
  {
   "cell_type": "markdown",
   "metadata": {},
   "source": [
    "02  \n",
    "https://leetcode.com/problems/reverse-words-in-a-string/description/"
   ]
  },
  {
   "cell_type": "code",
   "execution_count": null,
   "metadata": {},
   "outputs": [],
   "source": [
    "# class Solution:\n",
    "#     def reverseWords(self, s: str) -> str:\n",
    "#         return \" \".join(s.split()[::-1])"
   ]
  },
  {
   "cell_type": "markdown",
   "metadata": {},
   "source": [
    "03  \n",
    "https://leetcode.com/problems/largest-odd-number-in-string/description/"
   ]
  },
  {
   "cell_type": "code",
   "execution_count": null,
   "metadata": {},
   "outputs": [],
   "source": [
    "# class Solution:\n",
    "#     def largestOddNumber(self, num: str) -> str:\n",
    "#         # Iterate from the end of the string to find the first odd digit\n",
    "#         for i in range(len(num) - 1, -1, -1):\n",
    "#             if int(num[i]) % 2 == 1:\n",
    "#                 return num[:i + 1]  # Return the substring from start to this odd digit\n",
    "#         return \"\"  # No odd digit found"
   ]
  },
  {
   "cell_type": "markdown",
   "metadata": {},
   "source": [
    "04  \n",
    "https://leetcode.com/problems/longest-common-prefix/description/"
   ]
  },
  {
   "cell_type": "code",
   "execution_count": null,
   "metadata": {},
   "outputs": [],
   "source": [
    "# class Solution:\n",
    "#     def longestCommonPrefix(self, strs: List[str]) -> str:\n",
    "#         strs=sorted(strs)\n",
    "#         ans=\"\"\n",
    "#         first,last=strs[0],strs[-1]\n",
    "#         for i in range (min(len(first),len(last))):\n",
    "#             if first[i]!=last[i]:\n",
    "#                 return ans\n",
    "#             ans+=first[i]\n",
    "#         return ans"
   ]
  },
  {
   "cell_type": "markdown",
   "metadata": {},
   "source": [
    "05  \n",
    "https://leetcode.com/problems/isomorphic-strings/description/"
   ]
  },
  {
   "cell_type": "code",
   "execution_count": null,
   "metadata": {},
   "outputs": [],
   "source": [
    "# class Solution:\n",
    "#     def isIsomorphic(self, s: str, t: str) -> bool:\n",
    "#         if len(s)!=len(t):\n",
    "#             return False\n",
    "#         s_to_t={}\n",
    "#         t_to_s={}\n",
    "\n",
    "#         for char_s, char_t in zip(s,t):\n",
    "#             if char_s in s_to_t:\n",
    "#                 if s_to_t[char_s]!=char_t:\n",
    "#                     return False\n",
    "#             else:\n",
    "#                 s_to_t[char_s]=char_t\n",
    "#             if char_t in t_to_s:\n",
    "#                 if t_to_s[char_t]!=char_s:\n",
    "#                     return False\n",
    "#             else:\n",
    "#                 t_to_s[char_t]=char_s\n",
    "#         return True"
   ]
  },
  {
   "cell_type": "markdown",
   "metadata": {},
   "source": [
    "06  \n"
   ]
  }
 ],
 "metadata": {
  "kernelspec": {
   "display_name": ".venv",
   "language": "python",
   "name": "python3"
  },
  "language_info": {
   "codemirror_mode": {
    "name": "ipython",
    "version": 3
   },
   "file_extension": ".py",
   "mimetype": "text/x-python",
   "name": "python",
   "nbconvert_exporter": "python",
   "pygments_lexer": "ipython3",
   "version": "3.12.7"
  }
 },
 "nbformat": 4,
 "nbformat_minor": 2
}
