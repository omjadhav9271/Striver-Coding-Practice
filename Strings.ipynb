{
 "cells": [
  {
   "cell_type": "markdown",
   "metadata": {},
   "source": [
    "01  \n",
    "https://leetcode.com/problems/remove-outermost-parentheses/description/"
   ]
  },
  {
   "cell_type": "code",
   "execution_count": null,
   "metadata": {},
   "outputs": [],
   "source": [
    "# class Solution:\n",
    "#     def removeOuterParentheses(self, s: str) -> str:\n",
    "#         result = []\n",
    "#         balance = 0  # To track the balance of parentheses\n",
    "        \n",
    "#         for char in s:\n",
    "#             if char == '(':\n",
    "#                 if balance > 0:  # Avoid adding the first '(' of a primitive\n",
    "#                     result.append(char)\n",
    "#                 balance += 1\n",
    "#             else:  # char == ')'\n",
    "#                 balance -= 1\n",
    "#                 if balance > 0:  # Avoid adding the last ')' of a primitive\n",
    "#                     result.append(char)\n",
    "        \n",
    "#         return \"\".join(result)"
   ]
  },
  {
   "cell_type": "markdown",
   "metadata": {},
   "source": [
    "02  \n",
    "https://leetcode.com/problems/reverse-words-in-a-string/description/"
   ]
  },
  {
   "cell_type": "code",
   "execution_count": null,
   "metadata": {},
   "outputs": [],
   "source": [
    "# class Solution:\n",
    "#     def reverseWords(self, s: str) -> str:\n",
    "#         return \" \".join(s.split()[::-1])"
   ]
  },
  {
   "cell_type": "markdown",
   "metadata": {},
   "source": [
    "03  \n",
    "https://leetcode.com/problems/largest-odd-number-in-string/description/"
   ]
  },
  {
   "cell_type": "code",
   "execution_count": null,
   "metadata": {},
   "outputs": [],
   "source": [
    "# class Solution:\n",
    "#     def largestOddNumber(self, num: str) -> str:\n",
    "#         # Iterate from the end of the string to find the first odd digit\n",
    "#         for i in range(len(num) - 1, -1, -1):\n",
    "#             if int(num[i]) % 2 == 1:\n",
    "#                 return num[:i + 1]  # Return the substring from start to this odd digit\n",
    "#         return \"\"  # No odd digit found"
   ]
  },
  {
   "cell_type": "markdown",
   "metadata": {},
   "source": [
    "04  \n",
    "https://leetcode.com/problems/longest-common-prefix/description/"
   ]
  },
  {
   "cell_type": "code",
   "execution_count": null,
   "metadata": {},
   "outputs": [],
   "source": [
    "# class Solution:\n",
    "#     def longestCommonPrefix(self, strs: List[str]) -> str:\n",
    "#         strs=sorted(strs)\n",
    "#         ans=\"\"\n",
    "#         first,last=strs[0],strs[-1]\n",
    "#         for i in range (min(len(first),len(last))):\n",
    "#             if first[i]!=last[i]:\n",
    "#                 return ans\n",
    "#             ans+=first[i]\n",
    "#         return ans"
   ]
  },
  {
   "cell_type": "markdown",
   "metadata": {},
   "source": [
    "05  \n",
    "https://leetcode.com/problems/isomorphic-strings/description/"
   ]
  },
  {
   "cell_type": "code",
   "execution_count": null,
   "metadata": {},
   "outputs": [],
   "source": [
    "# class Solution:\n",
    "#     def isIsomorphic(self, s: str, t: str) -> bool:\n",
    "#         if len(s)!=len(t):\n",
    "#             return False\n",
    "#         s_to_t={}\n",
    "#         t_to_s={}\n",
    "\n",
    "#         for char_s, char_t in zip(s,t):\n",
    "#             if char_s in s_to_t:\n",
    "#                 if s_to_t[char_s]!=char_t:\n",
    "#                     return False\n",
    "#             else:\n",
    "#                 s_to_t[char_s]=char_t\n",
    "#             if char_t in t_to_s:\n",
    "#                 if t_to_s[char_t]!=char_s:\n",
    "#                     return False\n",
    "#             else:\n",
    "#                 t_to_s[char_t]=char_s\n",
    "#         return True"
   ]
  },
  {
   "cell_type": "markdown",
   "metadata": {},
   "source": [
    "06  \n",
    "https://leetcode.com/problems/find-the-index-of-the-first-occurrence-in-a-string/description/"
   ]
  },
  {
   "cell_type": "code",
   "execution_count": null,
   "metadata": {},
   "outputs": [],
   "source": [
    "# class Solution:\n",
    "#     def strStr(self, haystack: str, needle: str) -> int:\n",
    "#         for i in range(len(haystack)-len(needle)+1):\n",
    "#             if haystack[i:i+len(needle)]==needle:\n",
    "#                 return i\n",
    "#         return -1"
   ]
  },
  {
   "cell_type": "markdown",
   "metadata": {},
   "source": [
    "07  \n",
    "https://leetcode.com/problems/reverse-vowels-of-a-string/description/"
   ]
  },
  {
   "cell_type": "code",
   "execution_count": null,
   "metadata": {},
   "outputs": [],
   "source": [
    "# class Solution:\n",
    "#     def reverseVowels(self, s: str) -> str:\n",
    "#         vowels = set(\"aeiouAEIOU\")\n",
    "#         s_list = list(s)  # Convert to list to allow in-place modification\n",
    "#         left, right = 0, len(s) - 1\n",
    "#         while left < right:\n",
    "#             while left < right and s_list[left] not in vowels:\n",
    "#                 left += 1\n",
    "#             while left < right and s_list[right] not in vowels:\n",
    "#                 right -= 1\n",
    "#             # Swap the vowels\n",
    "#             s_list[left], s_list[right] = s_list[right], s_list[left]\n",
    "#             left += 1\n",
    "#             right -= 1\n",
    "#         return ''.join(s_list)"
   ]
  },
  {
   "cell_type": "markdown",
   "metadata": {},
   "source": [
    "08  \n",
    "https://leetcode.com/problems/isomorphic-strings/description/"
   ]
  },
  {
   "cell_type": "code",
   "execution_count": null,
   "metadata": {},
   "outputs": [],
   "source": [
    "# class Solution:\n",
    "#     def isIsomorphic(self, s: str, t: str) -> bool:\n",
    "#         def transform(string):\n",
    "#             mapping = {}\n",
    "#             pattern = []\n",
    "#             for i, char in enumerate(string):\n",
    "#                 if char not in mapping:\n",
    "#                     mapping[char] = i\n",
    "#                 pattern.append(mapping[char])\n",
    "#             return pattern\n",
    "#         return transform(s) == transform(t)"
   ]
  },
  {
   "cell_type": "markdown",
   "metadata": {},
   "source": [
    "09  \n",
    "https://leetcode.com/problems/rotate-string/description/"
   ]
  },
  {
   "cell_type": "code",
   "execution_count": null,
   "metadata": {},
   "outputs": [],
   "source": [
    "# class Solution:\n",
    "#     def rotateString(self, s: str, goal: str) -> bool:\n",
    "#         if len(s) != len(goal):\n",
    "#             return False\n",
    "#         return goal in (s + s)"
   ]
  },
  {
   "cell_type": "markdown",
   "metadata": {},
   "source": [
    "10  \n",
    "https://leetcode.com/problems/valid-anagram/description/"
   ]
  },
  {
   "cell_type": "code",
   "execution_count": null,
   "metadata": {},
   "outputs": [],
   "source": [
    "# from collections import Counter\n",
    "# class Solution:\n",
    "#     def isAnagram(self, s: str, t: str) -> bool:\n",
    "#         s_count=Counter(s)\n",
    "#         t_count=Counter(t)\n",
    "#         if s_count==t_count:\n",
    "#             return True\n",
    "#         else:\n",
    "#             return False"
   ]
  },
  {
   "cell_type": "markdown",
   "metadata": {},
   "source": [
    "11  \n",
    "https://leetcode.com/problems/sort-characters-by-frequency/description/"
   ]
  },
  {
   "cell_type": "code",
   "execution_count": null,
   "metadata": {},
   "outputs": [],
   "source": [
    "# from collections import Counter\n",
    "# class Solution:\n",
    "#     def frequencySort(self, s: str) -> str:\n",
    "#         # Count frequency of each character\n",
    "#         freq = Counter(s)\n",
    "#         # Sort characters by frequency in descending order\n",
    "#         sorted_chars = sorted(freq.items(), key=lambda x: -x[1])\n",
    "#         # Build the result string\n",
    "#         result = ''.join([char * count for char, count in sorted_chars])\n",
    "#         return result"
   ]
  },
  {
   "cell_type": "markdown",
   "metadata": {},
   "source": [
    "12  \n",
    "https://leetcode.com/problems/maximum-nesting-depth-of-the-parentheses/description/"
   ]
  },
  {
   "cell_type": "code",
   "execution_count": null,
   "metadata": {},
   "outputs": [],
   "source": [
    "# class Solution:\n",
    "#     def maxDepth(self, s: str) -> int:\n",
    "#         max_depth = 0\n",
    "#         current_depth = 0\n",
    "#         for char in s:\n",
    "#             if char == '(':\n",
    "#                 current_depth += 1\n",
    "#                 max_depth = max(max_depth, current_depth)\n",
    "#             elif char == ')':\n",
    "#                 current_depth -= 1\n",
    "#         return max_depth"
   ]
  }
 ],
 "metadata": {
  "kernelspec": {
   "display_name": ".venv",
   "language": "python",
   "name": "python3"
  },
  "language_info": {
   "codemirror_mode": {
    "name": "ipython",
    "version": 3
   },
   "file_extension": ".py",
   "mimetype": "text/x-python",
   "name": "python",
   "nbconvert_exporter": "python",
   "pygments_lexer": "ipython3",
   "version": "3.12.7"
  }
 },
 "nbformat": 4,
 "nbformat_minor": 2
}
