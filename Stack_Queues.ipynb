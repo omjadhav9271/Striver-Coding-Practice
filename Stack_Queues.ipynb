{
 "cells": [
  {
   "cell_type": "markdown",
   "metadata": {},
   "source": [
    "01  \n",
    "https://www.geeksforgeeks.org/problems/implement-stack-using-array/1"
   ]
  },
  {
   "cell_type": "code",
   "execution_count": null,
   "metadata": {},
   "outputs": [],
   "source": [
    "# class MyStack:\n",
    "#     def __init__(self):\n",
    "#         self.arr = []\n",
    "#     def push(self, data):\n",
    "#         self.arr.append(data)\n",
    "#     def pop(self):\n",
    "#         if len(self.arr) == 0:\n",
    "#             return -1  \n",
    "#         return self.arr.pop()\n",
    "# def process_input(input_string):\n",
    "#     input_list = list(map(int, input_string.strip().split()))\n",
    "#     stack = MyStack()\n",
    "#     output = []\n",
    "#     i = 0\n",
    "#     while i < len(input_list):\n",
    "#         if input_list[i] == 1:\n",
    "#             i += 1\n",
    "#             stack.push(input_list[i])\n",
    "#         elif input_list[i] == 2:\n",
    "#             output.append(stack.pop())\n",
    "#         i += 1\n",
    "#     return output"
   ]
  },
  {
   "cell_type": "markdown",
   "metadata": {},
   "source": [
    "02  \n",
    "https://www.geeksforgeeks.org/problems/implement-queue-using-array/1"
   ]
  },
  {
   "cell_type": "code",
   "execution_count": null,
   "metadata": {},
   "outputs": [],
   "source": [
    "# class MyQueue:\n",
    "#     def __init__(self):\n",
    "#         self.queue = []\n",
    "#         self.front_index = 0\n",
    "#     # Function to push an element x in a queue.\n",
    "#     def push(self, x):\n",
    "#         self.queue.append(x)\n",
    "#     # Function to pop an element from queue and return that element.\n",
    "#     def pop(self): \n",
    "#         if self.front_index < len(self.queue):\n",
    "#             popped = self.queue[self.front_index]\n",
    "#             self.front_index += 1\n",
    "#             return popped\n",
    "#         else:\n",
    "#             return -1"
   ]
  },
  {
   "cell_type": "markdown",
   "metadata": {},
   "source": [
    "03  \n",
    "https://leetcode.com/problems/implement-stack-using-queues/description/"
   ]
  },
  {
   "cell_type": "code",
   "execution_count": null,
   "metadata": {},
   "outputs": [],
   "source": [
    "# Not Done\n",
    "\n",
    "# from collections import deque\n",
    "# class MyStack:\n",
    "#     def __init__(self):\n",
    "#         self.queue1 = deque()\n",
    "#         self.queue2 = deque()\n",
    "#     def push(self, x: int) -> None:\n",
    "#         self.queue2.append(x)\n",
    "#         while self.queue1:\n",
    "#             self.queue2.append(self.queue1.popleft())\n",
    "#         self.queue1, self.queue2 = self.queue2, self.queue1\n",
    "#     def pop(self) -> int:\n",
    "#         return self.queue1.popleft()\n",
    "#     def top(self) -> int:\n",
    "#         return self.queue1[0]\n",
    "#     def empty(self) -> bool:\n",
    "#         return not self.queue1"
   ]
  },
  {
   "cell_type": "markdown",
   "metadata": {},
   "source": [
    "04  \n",
    "https://leetcode.com/problems/implement-queue-using-stacks/description/"
   ]
  },
  {
   "cell_type": "code",
   "execution_count": null,
   "metadata": {},
   "outputs": [],
   "source": [
    "# Not Done\n",
    "\n",
    "# class MyQueue:\n",
    "#     def __init__(self):\n",
    "#         self.stack_in = []\n",
    "#         self.stack_out = []\n",
    "#     def push(self, x: int) -> None:\n",
    "#         self.stack_in.append(x)\n",
    "#     def pop(self) -> int:\n",
    "#         self._transfer()\n",
    "#         return self.stack_out.pop()\n",
    "#     def peek(self) -> int:\n",
    "#         self._transfer()\n",
    "#         return self.stack_out[-1]\n",
    "#     def empty(self) -> bool:\n",
    "#         return not self.stack_in and not self.stack_out\n",
    "#     def _transfer(self):\n",
    "#         # Move elements to stack_out if it's empty\n",
    "#         if not self.stack_out:\n",
    "#             while self.stack_in:\n",
    "#                 self.stack_out.append(self.stack_in.pop())"
   ]
  },
  {
   "cell_type": "markdown",
   "metadata": {},
   "source": [
    "05  \n",
    "https://leetcode.com/problems/valid-parentheses/description/"
   ]
  },
  {
   "cell_type": "code",
   "execution_count": null,
   "metadata": {},
   "outputs": [],
   "source": [
    "# class Solution:\n",
    "#     def isValid(self, s: str) -> bool:\n",
    "#         stack=[]\n",
    "#         pairs={\n",
    "#             '{':'}',\n",
    "#             '[':']',\n",
    "#             '(':')'\n",
    "#         }\n",
    "#         for bracket in s:\n",
    "#             if bracket in pairs:\n",
    "#                 stack.append(bracket)\n",
    "#             elif len(stack)==0 or bracket!=pairs[stack.pop()]:\n",
    "#                 return False\n",
    "#         return len(stack)==0"
   ]
  },
  {
   "cell_type": "markdown",
   "metadata": {},
   "source": [
    "06  \n",
    "https://leetcode.com/problems/min-stack/description/"
   ]
  },
  {
   "cell_type": "code",
   "execution_count": null,
   "metadata": {},
   "outputs": [],
   "source": [
    "# # Your MinStack object will be instantiated and called as such:\n",
    "# # obj = MinStack()\n",
    "# # obj.push(val)\n",
    "# # obj.pop()\n",
    "# # param_3 = obj.top()\n",
    "# # param_4 = obj.getMin()\n",
    "# class MinStack:\n",
    "#     def __init__(self):\n",
    "#         self.stack = []\n",
    "#         self.min_stack = []\n",
    "#     def push(self, val: int) -> None:\n",
    "#         self.stack.append(val)\n",
    "#         # Push to min_stack if it's the new minimum\n",
    "#         if not self.min_stack or val <= self.min_stack[-1]:\n",
    "#             self.min_stack.append(val)\n",
    "#     def pop(self) -> None:\n",
    "#         val = self.stack.pop()\n",
    "#         if val == self.min_stack[-1]:\n",
    "#             self.min_stack.pop()\n",
    "#     def top(self) -> int:\n",
    "#         return self.stack[-1]\n",
    "#     def getMin(self) -> int:\n",
    "#         return self.min_stack[-1]"
   ]
  },
  {
   "cell_type": "markdown",
   "metadata": {},
   "source": [
    "07  \n",
    "https://leetcode.com/problems/next-greater-element-i/description/"
   ]
  },
  {
   "cell_type": "code",
   "execution_count": null,
   "metadata": {},
   "outputs": [],
   "source": [
    "# class Solution:\n",
    "#     def nextGreaterElement(self, nums1, nums2):\n",
    "#         # Dictionary to hold the next greater element for each number in nums2\n",
    "#         next_greater = {}\n",
    "#         # Stack to help find the next greater elements\n",
    "#         stack = []\n",
    "#         # Traverse nums2 from left to right\n",
    "#         for num in nums2:\n",
    "#             # Maintain decreasing stack: the current num is the \"next greater\" for all stack tops less than it\n",
    "#             while stack and num > stack[-1]:\n",
    "#                 prev_num = stack.pop()\n",
    "#                 next_greater[prev_num] = num\n",
    "#             stack.append(num)\n",
    "#         # For remaining items in stack, there's no greater element\n",
    "#         while stack:\n",
    "#             next_greater[stack.pop()] = -1\n",
    "#         # Build the result for nums1 using the map\n",
    "#         return [next_greater[num] for num in nums1]"
   ]
  },
  {
   "cell_type": "markdown",
   "metadata": {},
   "source": [
    "08  \n",
    "https://leetcode.com/problems/next-greater-element-ii/description/"
   ]
  },
  {
   "cell_type": "code",
   "execution_count": null,
   "metadata": {},
   "outputs": [],
   "source": [
    "# class Solution:\n",
    "#     def nextGreaterElements(self, nums: List[int]) -> List[int]:\n",
    "#         n = len(nums)\n",
    "#         result = [-1] * n  # Initialize the result array with -1\n",
    "#         stack = []  # This will store indices\n",
    "#         # Iterate twice over the array to simulate circular nature\n",
    "#         for i in range(2 * n):\n",
    "#             while stack and nums[i % n] > nums[stack[-1]]:\n",
    "#                 index = stack.pop()\n",
    "#                 result[index] = nums[i % n]\n",
    "#             if i < n:\n",
    "#                 stack.append(i)\n",
    "#         return result"
   ]
  }
 ],
 "metadata": {
  "kernelspec": {
   "display_name": ".venv",
   "language": "python",
   "name": "python3"
  },
  "language_info": {
   "name": "python",
   "version": "3.12.7"
  }
 },
 "nbformat": 4,
 "nbformat_minor": 2
}
