{
 "cells": [
  {
   "cell_type": "markdown",
   "metadata": {},
   "source": [
    "01  \n",
    "https://www.geeksforgeeks.org/problems/implement-stack-using-array/1"
   ]
  },
  {
   "cell_type": "code",
   "execution_count": null,
   "metadata": {},
   "outputs": [],
   "source": [
    "# class MyStack:\n",
    "#     def __init__(self):\n",
    "#         self.arr = []\n",
    "#     def push(self, data):\n",
    "#         self.arr.append(data)\n",
    "#     def pop(self):\n",
    "#         if len(self.arr) == 0:\n",
    "#             return -1  \n",
    "#         return self.arr.pop()\n",
    "# def process_input(input_string):\n",
    "#     input_list = list(map(int, input_string.strip().split()))\n",
    "#     stack = MyStack()\n",
    "#     output = []\n",
    "#     i = 0\n",
    "#     while i < len(input_list):\n",
    "#         if input_list[i] == 1:\n",
    "#             i += 1\n",
    "#             stack.push(input_list[i])\n",
    "#         elif input_list[i] == 2:\n",
    "#             output.append(stack.pop())\n",
    "#         i += 1\n",
    "#     return output"
   ]
  },
  {
   "cell_type": "markdown",
   "metadata": {},
   "source": [
    "02  \n",
    "https://www.geeksforgeeks.org/problems/implement-queue-using-array/1"
   ]
  },
  {
   "cell_type": "code",
   "execution_count": null,
   "metadata": {},
   "outputs": [],
   "source": [
    "# class MyQueue:\n",
    "#     def __init__(self):\n",
    "#         self.queue = []\n",
    "#         self.front_index = 0\n",
    "#     # Function to push an element x in a queue.\n",
    "#     def push(self, x):\n",
    "#         self.queue.append(x)\n",
    "#     # Function to pop an element from queue and return that element.\n",
    "#     def pop(self): \n",
    "#         if self.front_index < len(self.queue):\n",
    "#             popped = self.queue[self.front_index]\n",
    "#             self.front_index += 1\n",
    "#             return popped\n",
    "#         else:\n",
    "#             return -1"
   ]
  },
  {
   "cell_type": "markdown",
   "metadata": {},
   "source": [
    "03  \n",
    "https://leetcode.com/problems/implement-stack-using-queues/description/"
   ]
  },
  {
   "cell_type": "code",
   "execution_count": null,
   "metadata": {},
   "outputs": [],
   "source": [
    "# Not Done\n",
    "\n",
    "# from collections import deque\n",
    "# class MyStack:\n",
    "#     def __init__(self):\n",
    "#         self.queue1 = deque()\n",
    "#         self.queue2 = deque()\n",
    "#     def push(self, x: int) -> None:\n",
    "#         self.queue2.append(x)\n",
    "#         while self.queue1:\n",
    "#             self.queue2.append(self.queue1.popleft())\n",
    "#         self.queue1, self.queue2 = self.queue2, self.queue1\n",
    "#     def pop(self) -> int:\n",
    "#         return self.queue1.popleft()\n",
    "#     def top(self) -> int:\n",
    "#         return self.queue1[0]\n",
    "#     def empty(self) -> bool:\n",
    "#         return not self.queue1"
   ]
  },
  {
   "cell_type": "markdown",
   "metadata": {},
   "source": [
    "04  \n",
    "https://leetcode.com/problems/implement-queue-using-stacks/description/"
   ]
  },
  {
   "cell_type": "code",
   "execution_count": null,
   "metadata": {},
   "outputs": [],
   "source": [
    "# Not Done\n",
    "\n",
    "# class MyQueue:\n",
    "#     def __init__(self):\n",
    "#         self.stack_in = []\n",
    "#         self.stack_out = []\n",
    "#     def push(self, x: int) -> None:\n",
    "#         self.stack_in.append(x)\n",
    "#     def pop(self) -> int:\n",
    "#         self._transfer()\n",
    "#         return self.stack_out.pop()\n",
    "#     def peek(self) -> int:\n",
    "#         self._transfer()\n",
    "#         return self.stack_out[-1]\n",
    "#     def empty(self) -> bool:\n",
    "#         return not self.stack_in and not self.stack_out\n",
    "#     def _transfer(self):\n",
    "#         # Move elements to stack_out if it's empty\n",
    "#         if not self.stack_out:\n",
    "#             while self.stack_in:\n",
    "#                 self.stack_out.append(self.stack_in.pop())"
   ]
  }
 ],
 "metadata": {
  "kernelspec": {
   "display_name": ".venv",
   "language": "python",
   "name": "python3"
  },
  "language_info": {
   "name": "python",
   "version": "3.12.7"
  }
 },
 "nbformat": 4,
 "nbformat_minor": 2
}
