{
 "cells": [
  {
   "cell_type": "markdown",
   "metadata": {},
   "source": [
    "01  \n",
    "https://www.geeksforgeeks.org/problems/binary-search-trees/1"
   ]
  },
  {
   "cell_type": "code",
   "execution_count": null,
   "metadata": {},
   "outputs": [],
   "source": [
    "# Revise pre pro inorder bst properties also about unique\n",
    "\n",
    "# class Solution:\n",
    "#     def isBSTTraversal(self, arr):\n",
    "#         for i in range(1, len(arr)):\n",
    "#             if arr[i] <= arr[i - 1]:  # Check if the sequence is strictly increasing\n",
    "#                 return False\n",
    "#         return True"
   ]
  },
  {
   "cell_type": "markdown",
   "metadata": {},
   "source": [
    "02  \n",
    "https://leetcode.com/problems/search-in-a-binary-search-tree/description/"
   ]
  },
  {
   "cell_type": "code",
   "execution_count": 3,
   "metadata": {},
   "outputs": [],
   "source": [
    "# # Definition for a binary tree node.\n",
    "# # class TreeNode:\n",
    "# #     def __init__(self, val=0, left=None, right=None):\n",
    "# #         self.val = val\n",
    "# #         self.left = left\n",
    "# #         self.right = right\n",
    "\n",
    "# class Solution:\n",
    "#     def searchBST(self, root: Optional[TreeNode], val: int) -> Optional[TreeNode]:\n",
    "#         while root:\n",
    "#             if root.val == val:\n",
    "#                 return root  # Found the node, return the subtree\n",
    "#             elif val < root.val:\n",
    "#                 root = root.left  # Search in the left subtree\n",
    "#             else:\n",
    "#                 root = root.right  # Search in the right subtree\n",
    "#         return None  # Value not found"
   ]
  },
  {
   "cell_type": "markdown",
   "metadata": {},
   "source": [
    "03  \n",
    "https://www.geeksforgeeks.org/problems/minimum-element-in-bst/1"
   ]
  },
  {
   "cell_type": "code",
   "execution_count": null,
   "metadata": {},
   "outputs": [],
   "source": [
    "# \"\"\"\n",
    "# class Node:\n",
    "#     def __init__(self, val):\n",
    "#         self.right = None\n",
    "#         self.data = val\n",
    "#         self.left = None\n",
    "# \"\"\"\n",
    "# class Solution:\n",
    "#     #Function to find the minimum element in the given BST.\n",
    "#     def minValue(self, root):\n",
    "#         while root.left!=None:\n",
    "#             root=root.left\n",
    "#         return root.data"
   ]
  },
  {
   "cell_type": "markdown",
   "metadata": {},
   "source": [
    "04  \n",
    "https://www.geeksforgeeks.org/problems/implementing-ceil-in-bst/1"
   ]
  },
  {
   "cell_type": "code",
   "execution_count": null,
   "metadata": {},
   "outputs": [],
   "source": [
    "# class Solution:\n",
    "#     def findCeil(self, root, inp):\n",
    "#         ceil = -1  # Default value if no ceil exists\n",
    "#         while root:\n",
    "#             if root.key == inp:\n",
    "#                 return root.key  # If exact match is found\n",
    "#             elif root.key > inp:\n",
    "#                 ceil = root.key  # Potential ceil\n",
    "#                 root = root.left  # Move to smaller values\n",
    "#             else:\n",
    "#                 root = root.right  # Move to larger values\n",
    "#         return ceil  # Return the found ceil value"
   ]
  },
  {
   "cell_type": "markdown",
   "metadata": {},
   "source": [
    "05  \n",
    "https://www.geeksforgeeks.org/problems/floor-in-bst/1"
   ]
  },
  {
   "cell_type": "code",
   "execution_count": null,
   "metadata": {},
   "outputs": [],
   "source": [
    "# class Solution:\n",
    "#     def floor(self, root, x):\n",
    "#         floor=-1\n",
    "#         while root:\n",
    "#             if root.data==x:\n",
    "#                 return root.data\n",
    "#             elif root.data<x:\n",
    "#                 floor=root.data\n",
    "#                 root=root.right\n",
    "#             else:\n",
    "#                 root=root.left\n",
    "#         return floor"
   ]
  },
  {
   "cell_type": "markdown",
   "metadata": {},
   "source": [
    "06  \n",
    "https://leetcode.com/problems/insert-into-a-binary-search-tree/description/"
   ]
  },
  {
   "cell_type": "code",
   "execution_count": null,
   "metadata": {},
   "outputs": [],
   "source": [
    "# # Definition for a binary tree node.\n",
    "# # class TreeNode:\n",
    "# #     def __init__(self, val=0, left=None, right=None):\n",
    "# #         self.val = val\n",
    "# #         self.left = left\n",
    "# #         self.right = right\n",
    "# class Solution:\n",
    "#     def insertIntoBST(self, root: Optional[TreeNode], val: int) -> Optional[TreeNode]:\n",
    "#         if root is None:\n",
    "#             return TreeNode(val)  # If tree is empty, create a new root        \n",
    "#         current = root\n",
    "#         while True:\n",
    "#             if val < current.val:\n",
    "#                 if current.left is None:\n",
    "#                     current.left = TreeNode(val)  # Insert at the left child\n",
    "#                     break\n",
    "#                 current = current.left  # Move left\n",
    "#             else:\n",
    "#                 if current.right is None:\n",
    "#                     current.right = TreeNode(val)  # Insert at the right child\n",
    "#                     break\n",
    "#                 current = current.right  # Move right\n",
    "#         return root"
   ]
  }
 ],
 "metadata": {
  "kernelspec": {
   "display_name": ".venv",
   "language": "python",
   "name": "python3"
  },
  "language_info": {
   "codemirror_mode": {
    "name": "ipython",
    "version": 3
   },
   "file_extension": ".py",
   "mimetype": "text/x-python",
   "name": "python",
   "nbconvert_exporter": "python",
   "pygments_lexer": "ipython3",
   "version": "3.12.7"
  }
 },
 "nbformat": 4,
 "nbformat_minor": 2
}
