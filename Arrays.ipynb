{
 "cells": [
  {
   "cell_type": "markdown",
   "metadata": {},
   "source": [
    "01  \n",
    "https://www.geeksforgeeks.org/problems/largest-element-in-array4009/0"
   ]
  },
  {
   "cell_type": "code",
   "execution_count": null,
   "metadata": {},
   "outputs": [],
   "source": [
    "# class Solution:\n",
    "#     def largest(self, arr):\n",
    "#         return max(arr)"
   ]
  },
  {
   "cell_type": "markdown",
   "metadata": {},
   "source": [
    "02  \n",
    "https://www.geeksforgeeks.org/problems/second-largest3735/1"
   ]
  },
  {
   "cell_type": "code",
   "execution_count": null,
   "metadata": {},
   "outputs": [],
   "source": [
    "# class Solution:\n",
    "#     def getSecondLargest(self, arr):\n",
    "#         if len(arr) < 2:\n",
    "#             return -1\n",
    "#         first = second = float('-inf')\n",
    "#         for num in arr:\n",
    "#             if num > first: \n",
    "#                 second = first\n",
    "#                 first = num\n",
    "#             elif second < num < first:  \n",
    "#                 second = num\n",
    "#         return second if second != float('-inf') else -1"
   ]
  },
  {
   "cell_type": "markdown",
   "metadata": {},
   "source": [
    "03  \n",
    "https://leetcode.com/problems/check-if-array-is-sorted-and-rotated/description/"
   ]
  },
  {
   "cell_type": "code",
   "execution_count": null,
   "metadata": {},
   "outputs": [],
   "source": [
    "# class Solution:\n",
    "#     def check(self, nums: List[int]) -> bool:\n",
    "#         count = 0  # Count of decreasing pairs\n",
    "#         for i in range(len(nums)):\n",
    "#             if nums[i] > nums[(i + 1) % len(nums)]:  # Compare current element with next (circular)\n",
    "#                 count += 1\n",
    "#             if count > 1:  # More than one decreasing point means it's not a rotated sorted array\n",
    "#                 return False\n",
    "#         return True"
   ]
  },
  {
   "cell_type": "markdown",
   "metadata": {},
   "source": [
    "04  \n",
    "https://leetcode.com/problems/remove-duplicates-from-sorted-array/description/"
   ]
  },
  {
   "cell_type": "code",
   "execution_count": null,
   "metadata": {},
   "outputs": [],
   "source": [
    "# class Solution:\n",
    "#     def removeDuplicates(self, nums: List[int]) -> int:\n",
    "#         j=1\n",
    "#         for i in range(len(nums)-1):\n",
    "#             if nums[i]!=nums[i+1]:\n",
    "#                 nums[j]=nums[i+1]\n",
    "#                 j+=1\n",
    "#         return j"
   ]
  },
  {
   "cell_type": "markdown",
   "metadata": {},
   "source": [
    "05  \n",
    "https://leetcode.com/problems/rotate-array/description/"
   ]
  },
  {
   "cell_type": "code",
   "execution_count": null,
   "metadata": {},
   "outputs": [],
   "source": [
    "# class Solution:\n",
    "#     def rotate(self, nums: List[int], k: int) -> None:\n",
    "#         k%=len(nums)\n",
    "#         nums[:]=nums[-k:]+nums[:-k]"
   ]
  },
  {
   "cell_type": "markdown",
   "metadata": {},
   "source": [
    "06  \n",
    "https://leetcode.com/problems/move-zeroes/description/"
   ]
  },
  {
   "cell_type": "code",
   "execution_count": null,
   "metadata": {},
   "outputs": [],
   "source": [
    "# class Solution:\n",
    "#     def moveZeroes(self, nums: List[int]) -> None:\n",
    "#         non_zero_index=0\n",
    "#         for i in range(len(nums)):\n",
    "#             if nums[i]!=0:\n",
    "#                 nums[non_zero_index]=nums[i]\n",
    "#                 non_zero_index+=1\n",
    "#         for i in range(non_zero_index,len(nums)):\n",
    "#             nums[i]=0"
   ]
  },
  {
   "cell_type": "markdown",
   "metadata": {},
   "source": [
    "07  \n",
    "https://www.geeksforgeeks.org/problems/who-will-win-1587115621/1"
   ]
  },
  {
   "cell_type": "code",
   "execution_count": null,
   "metadata": {},
   "outputs": [],
   "source": [
    "# class Solution:\n",
    "#     def searchInSorted(self,arr, k):\n",
    "#         for i in range(len(arr)):\n",
    "#             if arr[i]==k:\n",
    "#                 return True\n",
    "#         return False"
   ]
  },
  {
   "cell_type": "code",
   "execution_count": null,
   "metadata": {},
   "outputs": [],
   "source": [
    "# class Solution:\n",
    "#     def searchInSorted(self,arr, k):\n",
    "#         left,right=0,len(arr)-1\n",
    "#         while left<=right:\n",
    "#             mid=(left+right)//2\n",
    "#             if arr[mid]==k:\n",
    "#                 return True\n",
    "#             elif arr[mid]<k:\n",
    "#                 left=mid+1\n",
    "#             else:\n",
    "#                 right=mid-1\n",
    "#         return False"
   ]
  },
  {
   "cell_type": "markdown",
   "metadata": {},
   "source": [
    "08  \n",
    "https://leetcode.com/problems/missing-number/description/"
   ]
  },
  {
   "cell_type": "code",
   "execution_count": null,
   "metadata": {},
   "outputs": [],
   "source": [
    "# class Solution:\n",
    "#     def missingNumber(self, nums: List[int]) -> int:\n",
    "#         n=len(nums)\n",
    "#         total_sum=(n*(n+1))//2\n",
    "#         actual_sum=sum(nums)\n",
    "#         return total_sum-actual_sum"
   ]
  },
  {
   "cell_type": "code",
   "execution_count": null,
   "metadata": {},
   "outputs": [],
   "source": [
    "# class Solution:\n",
    "#     def missingNumber(self, nums: List[int]) -> int:\n",
    "#         for i in range(len(nums)+1):\n",
    "#             if i not in nums:\n",
    "#                 return i"
   ]
  },
  {
   "cell_type": "markdown",
   "metadata": {},
   "source": [
    "09  \n",
    "https://leetcode.com/problems/max-consecutive-ones/description/"
   ]
  },
  {
   "cell_type": "code",
   "execution_count": null,
   "metadata": {},
   "outputs": [],
   "source": [
    "# class Solution:\n",
    "#     def findMaxConsecutiveOnes(self, nums: List[int]) -> int:\n",
    "#         max_count = 0\n",
    "#         current_count = 0        \n",
    "#         for num in nums:\n",
    "#             if num == 1:\n",
    "#                 current_count += 1\n",
    "#                 max_count = max(max_count, current_count)\n",
    "#             else:\n",
    "#                 current_count = 0\n",
    "#         return max_count"
   ]
  },
  {
   "cell_type": "markdown",
   "metadata": {},
   "source": [
    "10  \n",
    "https://leetcode.com/problems/majority-element/description/"
   ]
  },
  {
   "cell_type": "code",
   "execution_count": null,
   "metadata": {},
   "outputs": [],
   "source": [
    "# class Solution:\n",
    "#     def majorityElement(self, nums: List[int]) -> int:\n",
    "#         nums.sort()\n",
    "#         return nums[len(nums)//2]"
   ]
  },
  {
   "cell_type": "markdown",
   "metadata": {},
   "source": [
    "11  \n",
    "https://leetcode.com/problems/maximum-subarray/description/"
   ]
  },
  {
   "cell_type": "code",
   "execution_count": null,
   "metadata": {},
   "outputs": [],
   "source": [
    "# class Solution:\n",
    "#     def maxSubArray(self, nums: List[int]) -> int:\n",
    "#         current_sum=0\n",
    "#         max_sum=nums[0]\n",
    "#         for i,num in enumerate(nums):\n",
    "#             if current_sum+num<num:\n",
    "#                 current_sum=num\n",
    "#             else:\n",
    "#                 current_sum+=num\n",
    "#             if max_sum<current_sum:\n",
    "#                 max_sum=current_sum\n",
    "#         return max_sum"
   ]
  },
  {
   "cell_type": "markdown",
   "metadata": {},
   "source": [
    "12  \n",
    "https://leetcode.com/problems/maximum-product-subarray/description/"
   ]
  },
  {
   "cell_type": "code",
   "execution_count": null,
   "metadata": {},
   "outputs": [],
   "source": [
    "# class Solution:\n",
    "#     def maxProduct(self, nums: List[int]) -> int:\n",
    "#         if not nums:\n",
    "#             return 0\n",
    "#         current_max,current_min,max_product=nums[0],nums[0],nums[0]\n",
    "#         for i in range(1,len(nums)):\n",
    "#             num=nums[i]\n",
    "#             if num<0:\n",
    "#                 current_min,current_max=current_max,current_min\n",
    "#             current_max=max(num,current_max*num)\n",
    "#             current_min=min(num,current_min*num)\n",
    "#             max_product=max(max_product,current_max)\n",
    "#         return max_product"
   ]
  },
  {
   "cell_type": "markdown",
   "metadata": {},
   "source": [
    "13  \n",
    "https://leetcode.com/problems/majority-element-ii/"
   ]
  },
  {
   "cell_type": "code",
   "execution_count": null,
   "metadata": {},
   "outputs": [],
   "source": [
    "# from collections import Counter\n",
    "# class Solution:\n",
    "#     def majorityElement(self, nums: List[int]) -> List[int]:\n",
    "#         count = Counter(nums)\n",
    "#         n = len(nums)\n",
    "#         return [num for num, freq in count.items() if freq > n // 3]"
   ]
  },
  {
   "cell_type": "markdown",
   "metadata": {},
   "source": [
    "14  \n",
    "https://leetcode.com/problems/3sum/description/"
   ]
  },
  {
   "cell_type": "code",
   "execution_count": null,
   "metadata": {},
   "outputs": [],
   "source": [
    "# class Solution:\n",
    "#     def threeSum(self, nums: List[int]) -> List[List[int]]:\n",
    "#         # Sort the array\n",
    "#         nums.sort()\n",
    "#         result = []\n",
    "#         n = len(nums)\n",
    "#         for i in range(n):\n",
    "#             # Skip duplicates for the first number\n",
    "#             if i > 0 and nums[i] == nums[i - 1]:\n",
    "#                 continue\n",
    "#             # Two-pointer approach\n",
    "#             left, right = i + 1, n - 1\n",
    "#             while left < right:\n",
    "#                 total = nums[i] + nums[left] + nums[right]\n",
    "#                 if total == 0:\n",
    "#                     result.append([nums[i], nums[left], nums[right]])\n",
    "#                     left += 1\n",
    "#                     right -= 1\n",
    "#                     # Skip duplicates for the second number\n",
    "#                     while left < right and nums[left] == nums[left - 1]:\n",
    "#                         left += 1\n",
    "#                     # Skip duplicates for the third number\n",
    "#                     while left < right and nums[right] == nums[right + 1]:\n",
    "#                         right -= 1\n",
    "#                 elif total < 0:\n",
    "#                     left += 1\n",
    "#                 else:\n",
    "#                     right -= 1\n",
    "#         return result"
   ]
  },
  {
   "cell_type": "markdown",
   "metadata": {},
   "source": [
    "15  \n",
    "https://leetcode.com/problems/maximum-subarray/description/"
   ]
  },
  {
   "cell_type": "code",
   "execution_count": null,
   "metadata": {},
   "outputs": [],
   "source": [
    "# class Solution:\n",
    "#     def maxSubArray(self, nums: List[int]) -> int:\n",
    "#         current_sum,max_sum=0,nums[0]\n",
    "#         for i,num in enumerate(nums):\n",
    "#             if current_sum+num<num:\n",
    "#                 current_sum=num\n",
    "#             else:\n",
    "#                 current_sum+=num\n",
    "#             max_sum=max(max_sum,current_sum)\n",
    "#         return max_sum"
   ]
  },
  {
   "cell_type": "markdown",
   "metadata": {},
   "source": [
    "16  \n",
    "https://leetcode.com/problems/single-number/description/"
   ]
  },
  {
   "cell_type": "markdown",
   "metadata": {},
   "source": [
    "Key XOR Properties:  \n",
    "a ^ a = 0 (a number XORed with itself is 0)  \n",
    "a ^ 0 = a (a number XORed with 0 is the number itself)  \n",
    "XOR is commutative and associative, so the order doesn't matter.  \n",
    "This means that if every number appears twice except one,  \n",
    "XORing all numbers together will cancel out the ones that appear twice and leave only the single one."
   ]
  },
  {
   "cell_type": "code",
   "execution_count": null,
   "metadata": {},
   "outputs": [],
   "source": [
    "# class Solution:\n",
    "#     def singleNumber(self, nums: list[int]) -> int:\n",
    "#         result = 0\n",
    "#         for num in nums:\n",
    "#             result ^= num\n",
    "#         return result"
   ]
  },
  {
   "cell_type": "markdown",
   "metadata": {},
   "source": [
    "17  \n",
    "https://leetcode.com/problems/two-sum/description/"
   ]
  },
  {
   "cell_type": "code",
   "execution_count": null,
   "metadata": {},
   "outputs": [],
   "source": [
    "# class Solution:\n",
    "#     def twoSum(self, nums: List[int], target: int) -> List[int]:\n",
    "#         num_map = {}  # Maps number to its index\n",
    "#         for i, num in enumerate(nums):\n",
    "#             complement = target - num\n",
    "#             if complement in num_map:\n",
    "#                 return [num_map[complement], i]\n",
    "#             num_map[num] = i"
   ]
  }
 ],
 "metadata": {
  "kernelspec": {
   "display_name": ".venv",
   "language": "python",
   "name": "python3"
  },
  "language_info": {
   "name": "python",
   "version": "3.12.7"
  }
 },
 "nbformat": 4,
 "nbformat_minor": 2
}
