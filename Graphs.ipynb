{
 "cells": [
  {
   "cell_type": "markdown",
   "metadata": {},
   "source": [
    "01  \n",
    "https://www.geeksforgeeks.org/problems/graph-and-vertices/1"
   ]
  },
  {
   "cell_type": "code",
   "execution_count": null,
   "metadata": {},
   "outputs": [],
   "source": [
    "# class Solution:\n",
    "#     def count(self, n):\n",
    "#         return 2**(n*(n-1)//2)"
   ]
  },
  {
   "cell_type": "markdown",
   "metadata": {},
   "source": [
    "02  \n",
    "https://www.geeksforgeeks.org/problems/print-adjacency-list-1587115620/1"
   ]
  },
  {
   "cell_type": "code",
   "execution_count": null,
   "metadata": {},
   "outputs": [],
   "source": [
    "# class Solution:\n",
    "#     def printGraph(self, V: int, edges: List[List[int]]) -> List[List[int]]:\n",
    "#         # Initialize adjacency list with empty lists for each node\n",
    "#         adj_list = [[] for _ in range(V)]\n",
    "        \n",
    "#         # Populate adjacency list\n",
    "#         for u, v in edges:\n",
    "#             adj_list[u].append(v)\n",
    "#             adj_list[v].append(u)  # Since the graph is undirected\n",
    "        \n",
    "#         return adj_list"
   ]
  },
  {
   "cell_type": "markdown",
   "metadata": {},
   "source": [
    "03  \n",
    "https://leetcode.com/problems/number-of-provinces/description/"
   ]
  },
  {
   "cell_type": "code",
   "execution_count": null,
   "metadata": {},
   "outputs": [],
   "source": [
    "# class Solution:\n",
    "#     def findCircleNum(self, isConnected: List[List[int]]) -> int:\n",
    "#         def dfs(city: int):\n",
    "#             visited[city] = True\n",
    "#             for neighbor in range(n):\n",
    "#                 if isConnected[city][neighbor] == 1 and not visited[neighbor]:\n",
    "#                     dfs(neighbor)\n",
    "#         n = len(isConnected)\n",
    "#         visited = [False] * n\n",
    "#         provinces = 0\n",
    "#         for city in range(n):\n",
    "#             if not visited[city]:\n",
    "#                 dfs(city)\n",
    "#                 provinces += 1\n",
    "#         return provinces"
   ]
  },
  {
   "cell_type": "markdown",
   "metadata": {},
   "source": [
    "04  \n",
    "https://leetcode.com/problems/rotting-oranges/description/"
   ]
  },
  {
   "cell_type": "code",
   "execution_count": null,
   "metadata": {},
   "outputs": [],
   "source": [
    "# from collections import deque\n",
    "# class Solution:\n",
    "#     def orangesRotting(self, grid: List[List[int]]) -> int:\n",
    "#         rows, cols = len(grid), len(grid[0])\n",
    "#         queue = deque()\n",
    "#         fresh_count = 0\n",
    "#         # Step 1: Initialize the queue with the position of all rotten oranges\n",
    "#         for r in range(rows):\n",
    "#             for c in range(cols):\n",
    "#                 if grid[r][c] == 2:\n",
    "#                     queue.append((r, c, 0))  # (row, col, time)\n",
    "#                 elif grid[r][c] == 1:\n",
    "#                     fresh_count += 1\n",
    "#         # Step 2: BFS to rot adjacent fresh oranges\n",
    "#         directions = [(-1, 0), (1, 0), (0, -1), (0, 1)]\n",
    "#         minutes = 0\n",
    "#         while queue:\n",
    "#             r, c, time = queue.popleft()\n",
    "#             minutes = max(minutes, time)\n",
    "#             for dr, dc in directions:\n",
    "#                 nr, nc = r + dr, c + dc\n",
    "#                 if 0 <= nr < rows and 0 <= nc < cols and grid[nr][nc] == 1:\n",
    "#                     grid[nr][nc] = 2  # Make it rotten\n",
    "#                     fresh_count -= 1\n",
    "#                     queue.append((nr, nc, time + 1))\n",
    "#         # Step 3: Check if there are any fresh oranges left\n",
    "#         return minutes if fresh_count == 0 else -1"
   ]
  },
  {
   "cell_type": "markdown",
   "metadata": {},
   "source": [
    "05  \n",
    "https://leetcode.com/problems/flood-fill/description/"
   ]
  },
  {
   "cell_type": "code",
   "execution_count": null,
   "metadata": {},
   "outputs": [],
   "source": [
    "# class Solution:\n",
    "#     def floodFill(self, image: List[List[int]], sr: int, sc: int, color: int) -> List[List[int]]:\n",
    "#         original_color = image[sr][sc]\n",
    "#         # If the color is the same, no need to proceed\n",
    "#         if original_color == color:\n",
    "#             return image\n",
    "#         rows, cols = len(image), len(image[0])\n",
    "#         def dfs(r: int, c: int):\n",
    "#             # Check if out of bounds or color doesn't match the original\n",
    "#             if r < 0 or r >= rows or c < 0 or c >= cols or image[r][c] != original_color:\n",
    "#                 return\n",
    "#             # Change the color\n",
    "#             image[r][c] = color\n",
    "#             # Recursive calls in four directions\n",
    "#             dfs(r + 1, c)\n",
    "#             dfs(r - 1, c)\n",
    "#             dfs(r, c + 1)\n",
    "#             dfs(r, c - 1)\n",
    "#         dfs(sr, sc)\n",
    "#         return image"
   ]
  },
  {
   "cell_type": "markdown",
   "metadata": {},
   "source": [
    "06  \n",
    "https://leetcode.com/problems/01-matrix/description/"
   ]
  },
  {
   "cell_type": "code",
   "execution_count": null,
   "metadata": {},
   "outputs": [],
   "source": []
  }
 ],
 "metadata": {
  "kernelspec": {
   "display_name": ".venv",
   "language": "python",
   "name": "python3"
  },
  "language_info": {
   "name": "python",
   "version": "3.12.7"
  }
 },
 "nbformat": 4,
 "nbformat_minor": 2
}
