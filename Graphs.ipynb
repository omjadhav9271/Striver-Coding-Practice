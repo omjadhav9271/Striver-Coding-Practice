{
 "cells": [
  {
   "cell_type": "markdown",
   "metadata": {},
   "source": [
    "01  \n",
    "https://www.geeksforgeeks.org/problems/connected-components-in-an-undirected-graph/1"
   ]
  },
  {
   "cell_type": "code",
   "execution_count": null,
   "metadata": {},
   "outputs": [],
   "source": [
    "# class Solution:\n",
    "#     # Function to return connected components of the graph\n",
    "#     def getComponents(self, V, edges):\n",
    "#         from collections import defaultdict\n",
    "#         # Create an adjacency list\n",
    "#         graph = defaultdict(list)\n",
    "#         for u, v in edges:\n",
    "#             graph[u].append(v)\n",
    "#             graph[v].append(u)\n",
    "#         visited = [False] * V\n",
    "#         components = []\n",
    "#         def dfs(node, component):\n",
    "#             visited[node] = True\n",
    "#             component.append(node)\n",
    "#             for neighbor in graph[node]:\n",
    "#                 if not visited[neighbor]:\n",
    "#                     dfs(neighbor, component)\n",
    "#         for i in range(V):\n",
    "#             if not visited[i]:\n",
    "#                 component = []\n",
    "#                 dfs(i, component)\n",
    "#                 components.append(component)\n",
    "#         return components"
   ]
  },
  {
   "cell_type": "markdown",
   "metadata": {},
   "source": [
    "02  \n",
    "https://www.geeksforgeeks.org/problems/bfs-traversal-of-graph/1"
   ]
  },
  {
   "cell_type": "code",
   "execution_count": null,
   "metadata": {},
   "outputs": [],
   "source": [
    "from collections import deque\n",
    "class Solution:\n",
    "    # Function to return Breadth First Search Traversal of given graph.\n",
    "    def bfs(self, adj):\n",
    "        V = len(adj)\n",
    "        visited = [False] * V\n",
    "        result = []\n",
    "        queue = deque()\n",
    "        # Start BFS from vertex 0\n",
    "        queue.append(0)\n",
    "        visited[0] = True\n",
    "        while queue:\n",
    "            node = queue.popleft()\n",
    "            result.append(node)\n",
    "            # Traverse all adjacent vertices\n",
    "            for neighbor in adj[node]:\n",
    "                if not visited[neighbor]:\n",
    "                    visited[neighbor] = True\n",
    "                    queue.append(neighbor)\n",
    "        return result"
   ]
  },
  {
   "cell_type": "markdown",
   "metadata": {},
   "source": [
    "01  \n",
    "https://www.geeksforgeeks.org/problems/graph-and-vertices/1"
   ]
  },
  {
   "cell_type": "code",
   "execution_count": null,
   "metadata": {},
   "outputs": [],
   "source": [
    "# class Solution:\n",
    "#     def count(self, n):\n",
    "#         return 2**(n*(n-1)//2)"
   ]
  },
  {
   "cell_type": "markdown",
   "metadata": {},
   "source": [
    "02  \n",
    "https://www.geeksforgeeks.org/problems/print-adjacency-list-1587115620/1"
   ]
  },
  {
   "cell_type": "code",
   "execution_count": null,
   "metadata": {},
   "outputs": [],
   "source": [
    "# class Solution:\n",
    "#     def printGraph(self, V: int, edges: List[List[int]]) -> List[List[int]]:\n",
    "#         # Initialize adjacency list with empty lists for each node\n",
    "#         adj_list = [[] for _ in range(V)]\n",
    "        \n",
    "#         # Populate adjacency list\n",
    "#         for u, v in edges:\n",
    "#             adj_list[u].append(v)\n",
    "#             adj_list[v].append(u)  # Since the graph is undirected\n",
    "        \n",
    "#         return adj_list"
   ]
  },
  {
   "cell_type": "markdown",
   "metadata": {},
   "source": [
    "03  \n",
    "https://leetcode.com/problems/number-of-provinces/description/"
   ]
  },
  {
   "cell_type": "code",
   "execution_count": null,
   "metadata": {},
   "outputs": [],
   "source": [
    "# class Solution:\n",
    "#     def findCircleNum(self, isConnected: List[List[int]]) -> int:\n",
    "#         def dfs(city: int):\n",
    "#             visited[city] = True\n",
    "#             for neighbor in range(n):\n",
    "#                 if isConnected[city][neighbor] == 1 and not visited[neighbor]:\n",
    "#                     dfs(neighbor)\n",
    "#         n = len(isConnected)\n",
    "#         visited = [False] * n\n",
    "#         provinces = 0\n",
    "#         for city in range(n):\n",
    "#             if not visited[city]:\n",
    "#                 dfs(city)\n",
    "#                 provinces += 1\n",
    "#         return provinces"
   ]
  },
  {
   "cell_type": "markdown",
   "metadata": {},
   "source": [
    "04  \n",
    "https://leetcode.com/problems/rotting-oranges/description/"
   ]
  },
  {
   "cell_type": "code",
   "execution_count": null,
   "metadata": {},
   "outputs": [],
   "source": [
    "# from collections import deque\n",
    "# class Solution:\n",
    "#     def orangesRotting(self, grid: List[List[int]]) -> int:\n",
    "#         rows, cols = len(grid), len(grid[0])\n",
    "#         queue = deque()\n",
    "#         fresh_count = 0\n",
    "#         # Step 1: Initialize the queue with the position of all rotten oranges\n",
    "#         for r in range(rows):\n",
    "#             for c in range(cols):\n",
    "#                 if grid[r][c] == 2:\n",
    "#                     queue.append((r, c, 0))  # (row, col, time)\n",
    "#                 elif grid[r][c] == 1:\n",
    "#                     fresh_count += 1\n",
    "#         # Step 2: BFS to rot adjacent fresh oranges\n",
    "#         directions = [(-1, 0), (1, 0), (0, -1), (0, 1)]\n",
    "#         minutes = 0\n",
    "#         while queue:\n",
    "#             r, c, time = queue.popleft()\n",
    "#             minutes = max(minutes, time)\n",
    "#             for dr, dc in directions:\n",
    "#                 nr, nc = r + dr, c + dc\n",
    "#                 if 0 <= nr < rows and 0 <= nc < cols and grid[nr][nc] == 1:\n",
    "#                     grid[nr][nc] = 2  # Make it rotten\n",
    "#                     fresh_count -= 1\n",
    "#                     queue.append((nr, nc, time + 1))\n",
    "#         # Step 3: Check if there are any fresh oranges left\n",
    "#         return minutes if fresh_count == 0 else -1"
   ]
  },
  {
   "cell_type": "markdown",
   "metadata": {},
   "source": [
    "05  \n",
    "https://leetcode.com/problems/flood-fill/description/"
   ]
  },
  {
   "cell_type": "code",
   "execution_count": null,
   "metadata": {},
   "outputs": [],
   "source": [
    "# class Solution:\n",
    "#     def floodFill(self, image: List[List[int]], sr: int, sc: int, color: int) -> List[List[int]]:\n",
    "#         original_color = image[sr][sc]\n",
    "#         # If the color is the same, no need to proceed\n",
    "#         if original_color == color:\n",
    "#             return image\n",
    "#         rows, cols = len(image), len(image[0])\n",
    "#         def dfs(r: int, c: int):\n",
    "#             # Check if out of bounds or color doesn't match the original\n",
    "#             if r < 0 or r >= rows or c < 0 or c >= cols or image[r][c] != original_color:\n",
    "#                 return\n",
    "#             # Change the color\n",
    "#             image[r][c] = color\n",
    "#             # Recursive calls in four directions\n",
    "#             dfs(r + 1, c)\n",
    "#             dfs(r - 1, c)\n",
    "#             dfs(r, c + 1)\n",
    "#             dfs(r, c - 1)\n",
    "#         dfs(sr, sc)\n",
    "#         return image"
   ]
  },
  {
   "cell_type": "markdown",
   "metadata": {},
   "source": [
    "06  \n",
    "https://leetcode.com/problems/01-matrix/description/"
   ]
  },
  {
   "cell_type": "code",
   "execution_count": null,
   "metadata": {},
   "outputs": [],
   "source": [
    "# from collections import deque\n",
    "# class Solution:\n",
    "#     def updateMatrix(self, mat: List[List[int]]) -> List[List[int]]:\n",
    "#         rows, cols = len(mat), len(mat[0])\n",
    "#         dist = [[float('inf')] * cols for _ in range(rows)]\n",
    "#         queue = deque()\n",
    "#         # Start BFS from all 0s\n",
    "#         for r in range(rows):\n",
    "#             for c in range(cols):\n",
    "#                 if mat[r][c] == 0:\n",
    "#                     dist[r][c] = 0\n",
    "#                     queue.append((r, c))\n",
    "#         directions = [(1, 0), (-1, 0), (0, 1), (0, -1)]\n",
    "#         while queue:\n",
    "#             r, c = queue.popleft()\n",
    "#             for dr, dc in directions:\n",
    "#                 nr, nc = r + dr, c + dc\n",
    "#                 if 0 <= nr < rows and 0 <= nc < cols:\n",
    "#                     if dist[nr][nc] > dist[r][c] + 1:\n",
    "#                         dist[nr][nc] = dist[r][c] + 1\n",
    "#                         queue.append((nr, nc))\n",
    "#         return dist"
   ]
  },
  {
   "cell_type": "markdown",
   "metadata": {},
   "source": [
    "07  \n",
    "https://leetcode.com/problems/surrounded-regions/description/"
   ]
  },
  {
   "cell_type": "code",
   "execution_count": null,
   "metadata": {},
   "outputs": [],
   "source": [
    "# class Solution:\n",
    "#     def solve(self, board: List[List[str]]) -> None:\n",
    "#         \"\"\"\n",
    "#         Do not return anything, modify board in-place instead.\n",
    "#         \"\"\"\n",
    "#         if not board or not board[0]:\n",
    "#             return\n",
    "#         rows, cols = len(board), len(board[0])\n",
    "#         def dfs(r, c):\n",
    "#             if r < 0 or r >= rows or c < 0 or c >= cols or board[r][c] != 'O':\n",
    "#                 return\n",
    "#             board[r][c] = 'E'  # Temporarily mark as safe\n",
    "#             dfs(r+1, c)\n",
    "#             dfs(r-1, c)\n",
    "#             dfs(r, c+1)\n",
    "#             dfs(r, c-1)\n",
    "#         # Step 1: Mark all border 'O's and connected 'O's with 'E'\n",
    "#         for r in range(rows):\n",
    "#             dfs(r, 0)\n",
    "#             dfs(r, cols - 1)\n",
    "#         for c in range(cols):\n",
    "#             dfs(0, c)\n",
    "#             dfs(rows - 1, c)\n",
    "#         # Step 2: Flip all remaining 'O's to 'X' and revert 'E' back to 'O'\n",
    "#         for r in range(rows):\n",
    "#             for c in range(cols):\n",
    "#                 if board[r][c] == 'O':\n",
    "#                     board[r][c] = 'X'\n",
    "#                 elif board[r][c] == 'E':\n",
    "#                     board[r][c] = 'O'"
   ]
  },
  {
   "cell_type": "markdown",
   "metadata": {},
   "source": [
    "08  \n",
    "https://leetcode.com/problems/number-of-enclaves/description/"
   ]
  },
  {
   "cell_type": "code",
   "execution_count": null,
   "metadata": {},
   "outputs": [],
   "source": [
    "# class Solution:\n",
    "#     def numEnclaves(self, grid: List[List[int]]) -> int:\n",
    "#         m, n = len(grid), len(grid[0])\n",
    "#         def dfs(x, y):\n",
    "#             if x < 0 or x >= m or y < 0 or y >= n or grid[x][y] == 0:\n",
    "#                 return\n",
    "#             grid[x][y] = 0  # mark as sea to prevent revisiting\n",
    "#             dfs(x + 1, y)\n",
    "#             dfs(x - 1, y)\n",
    "#             dfs(x, y + 1)\n",
    "#             dfs(x, y - 1)\n",
    "#         # Flood from the boundaries\n",
    "#         for i in range(m):\n",
    "#             if grid[i][0] == 1:\n",
    "#                 dfs(i, 0)\n",
    "#             if grid[i][n - 1] == 1:\n",
    "#                 dfs(i, n - 1)\n",
    "#         for j in range(n):\n",
    "#             if grid[0][j] == 1:\n",
    "#                 dfs(0, j)\n",
    "#             if grid[m - 1][j] == 1:\n",
    "#                 dfs(m - 1, j)\n",
    "#         # Count the remaining land cells\n",
    "#         return sum(grid[i][j] == 1 for i in range(m) for j in range(n))"
   ]
  },
  {
   "cell_type": "markdown",
   "metadata": {},
   "source": [
    "09  \n",
    "https://leetcode.com/problems/is-graph-bipartite/description/"
   ]
  },
  {
   "cell_type": "code",
   "execution_count": null,
   "metadata": {},
   "outputs": [],
   "source": [
    "# from collections import deque\n",
    "# class Solution:\n",
    "#     def isBipartite(self, graph: List[List[int]]) -> bool:\n",
    "#         n = len(graph)\n",
    "#         color = [-1] * n  # -1 means uncolored\n",
    "#         for i in range(n):\n",
    "#             if color[i] == -1:  # Start BFS from unvisited node\n",
    "#                 queue = deque([i])\n",
    "#                 color[i] = 0  # Start coloring with 0\n",
    "#                 while queue:\n",
    "#                     node = queue.popleft()\n",
    "#                     for neighbor in graph[node]:\n",
    "#                         if color[neighbor] == -1:\n",
    "#                             # Assign opposite color to neighbor\n",
    "#                             color[neighbor] = 1 - color[node]\n",
    "#                             queue.append(neighbor)\n",
    "#                         elif color[neighbor] == color[node]:\n",
    "#                             # Found same color on both sides of an edge\n",
    "#                             return False\n",
    "#         return True"
   ]
  },
  {
   "cell_type": "markdown",
   "metadata": {},
   "source": [
    "10  \n"
   ]
  }
 ],
 "metadata": {
  "kernelspec": {
   "display_name": ".venv",
   "language": "python",
   "name": "python3"
  },
  "language_info": {
   "name": "python",
   "version": "3.12.7"
  }
 },
 "nbformat": 4,
 "nbformat_minor": 2
}
