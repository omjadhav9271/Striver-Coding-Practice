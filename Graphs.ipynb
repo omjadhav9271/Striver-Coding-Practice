{
 "cells": [
  {
   "cell_type": "markdown",
   "metadata": {},
   "source": [
    "01  \n",
    "https://www.geeksforgeeks.org/problems/graph-and-vertices/1"
   ]
  },
  {
   "cell_type": "code",
   "execution_count": null,
   "metadata": {},
   "outputs": [],
   "source": [
    "# class Solution:\n",
    "#     def count(self, n):\n",
    "#         return 2**(n*(n-1)//2)"
   ]
  },
  {
   "cell_type": "markdown",
   "metadata": {},
   "source": [
    "02  \n",
    "https://www.geeksforgeeks.org/problems/print-adjacency-list-1587115620/1"
   ]
  },
  {
   "cell_type": "code",
   "execution_count": null,
   "metadata": {},
   "outputs": [],
   "source": [
    "# class Solution:\n",
    "#     def printGraph(self, V: int, edges: List[List[int]]) -> List[List[int]]:\n",
    "#         # Initialize adjacency list with empty lists for each node\n",
    "#         adj_list = [[] for _ in range(V)]\n",
    "        \n",
    "#         # Populate adjacency list\n",
    "#         for u, v in edges:\n",
    "#             adj_list[u].append(v)\n",
    "#             adj_list[v].append(u)  # Since the graph is undirected\n",
    "        \n",
    "#         return adj_list"
   ]
  },
  {
   "cell_type": "markdown",
   "metadata": {},
   "source": [
    "03  \n"
   ]
  }
 ],
 "metadata": {
  "kernelspec": {
   "display_name": ".venv",
   "language": "python",
   "name": "python3"
  },
  "language_info": {
   "name": "python",
   "version": "3.12.7"
  }
 },
 "nbformat": 4,
 "nbformat_minor": 2
}
